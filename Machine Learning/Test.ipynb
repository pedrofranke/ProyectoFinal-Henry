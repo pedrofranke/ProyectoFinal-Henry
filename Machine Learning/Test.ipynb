{
 "cells": [
  {
   "cell_type": "code",
   "execution_count": 17,
   "metadata": {},
   "outputs": [],
   "source": [
    "import pickle\n",
    "import gzip\n",
    "import joblib"
   ]
  },
  {
   "cell_type": "code",
   "execution_count": 18,
   "metadata": {},
   "outputs": [],
   "source": [
    "with open('raw_to_inner.pkl', 'rb') as f:\n",
    "    raw_to_inner = pickle.load(f)\n",
    "\n",
    "with open('inner_to_raw.pkl', 'rb') as f:\n",
    "    inner_to_raw = pickle.load(f)"
   ]
  },
  {
   "cell_type": "code",
   "execution_count": 19,
   "metadata": {},
   "outputs": [],
   "source": [
    "# Descomprimir el archivo\n",
    "with gzip.open('modelo_knn.gz', 'rb') as f:\n",
    "    knn = joblib.load(f)"
   ]
  },
  {
   "cell_type": "code",
   "execution_count": 22,
   "metadata": {},
   "outputs": [
    {
     "data": {
      "text/plain": [
       "['2dlQX5sP9X6Dlm1MmNOlSw',\n",
       " 'SlLfWzeYOrVBxCd-0QILZQ',\n",
       " 'pUVRCYL8rT4I5Ry5FYkRsA',\n",
       " '9Y5JPV0TFZpJXFokFxwewQ',\n",
       " 'jULIPydhMj18KOI5OHTwfA']"
      ]
     },
     "execution_count": 22,
     "metadata": {},
     "output_type": "execute_result"
    }
   ],
   "source": [
    "business_id = 'wMti5VLmoqnEce1VQILUNg'\n",
    "\n",
    "business_inner_id = raw_to_inner[business_id]\n",
    "business_similarities = knn.get_neighbors(business_inner_id, k=5)\n",
    "similar_businesses_ids = [inner_to_raw[inner_id] for inner_id in business_similarities]\n",
    "\n",
    "similar_businesses_ids"
   ]
  }
 ],
 "metadata": {
  "kernelspec": {
   "display_name": "Python 3",
   "language": "python",
   "name": "python3"
  },
  "language_info": {
   "codemirror_mode": {
    "name": "ipython",
    "version": 3
   },
   "file_extension": ".py",
   "mimetype": "text/x-python",
   "name": "python",
   "nbconvert_exporter": "python",
   "pygments_lexer": "ipython3",
   "version": "3.11.7"
  }
 },
 "nbformat": 4,
 "nbformat_minor": 2
}
