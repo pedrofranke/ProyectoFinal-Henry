{
 "cells": [
  {
   "cell_type": "code",
   "execution_count": 1,
   "metadata": {},
   "outputs": [],
   "source": [
    "import pandas as pd\n",
    "from surprise import Dataset, Reader, KNNBasic\n",
    "import pickle\n",
    "import gzip\n",
    "import joblib"
   ]
  },
  {
   "cell_type": "code",
   "execution_count": 2,
   "metadata": {},
   "outputs": [],
   "source": [
    "columnas = ['user_id', 'business_id', 'rating']\n",
    "\n",
    "# Extraccion de archivos\n",
    "df = pd.read_parquet('../Data Engineering/Unification/df_unified.parquet',columns=columnas)\n",
    "df_rest = pd.read_parquet('../Data Engineering/Unification/df_restaurants.parquet')\n",
    "#df = df[(df['avg_rating']>3.5)&(df['review_count']>50)]"
   ]
  },
  {
   "cell_type": "code",
   "execution_count": 3,
   "metadata": {},
   "outputs": [
    {
     "name": "stdout",
     "output_type": "stream",
     "text": [
      "Computing the cosine similarity matrix...\n",
      "Done computing similarity matrix.\n"
     ]
    }
   ],
   "source": [
    "# generacion del modelo y matriz de relaciones\n",
    "reader = Reader(rating_scale=(1, 5))\n",
    "data = Dataset.load_from_df(df[['user_id', 'business_id', 'rating']], reader)\n",
    "\n",
    "trainset = data.build_full_trainset()\n",
    "knn = KNNBasic(sim_options={'name': 'cosine', 'user_based': False}) \n",
    "knn.fit(trainset) # Modelo necesario (dump model)\n",
    "\n",
    "inner_to_raw = {}\n",
    "for raw_id, inner_id in trainset._raw2inner_id_items.items():\n",
    "    inner_to_raw[inner_id] = raw_id\n",
    "\n",
    "raw_to_inner = {v: k for k, v in inner_to_raw.items()}"
   ]
  },
  {
   "cell_type": "code",
   "execution_count": 8,
   "metadata": {},
   "outputs": [
    {
     "data": {
      "text/html": [
       "<div>\n",
       "<style scoped>\n",
       "    .dataframe tbody tr th:only-of-type {\n",
       "        vertical-align: middle;\n",
       "    }\n",
       "\n",
       "    .dataframe tbody tr th {\n",
       "        vertical-align: top;\n",
       "    }\n",
       "\n",
       "    .dataframe thead th {\n",
       "        text-align: right;\n",
       "    }\n",
       "</style>\n",
       "<table border=\"1\" class=\"dataframe\">\n",
       "  <thead>\n",
       "    <tr style=\"text-align: right;\">\n",
       "      <th></th>\n",
       "      <th>business_id</th>\n",
       "      <th>business_name</th>\n",
       "      <th>category</th>\n",
       "      <th>avg_rating</th>\n",
       "      <th>review_count</th>\n",
       "      <th>address</th>\n",
       "      <th>state</th>\n",
       "      <th>city</th>\n",
       "      <th>postal_code</th>\n",
       "      <th>latitude</th>\n",
       "      <th>longitude</th>\n",
       "      <th>cluster</th>\n",
       "      <th>county</th>\n",
       "      <th>%_competition</th>\n",
       "      <th>cluster_rating</th>\n",
       "      <th>cluster_name</th>\n",
       "    </tr>\n",
       "  </thead>\n",
       "  <tbody>\n",
       "    <tr>\n",
       "      <th>36</th>\n",
       "      <td>xbRbvXSAVZBEwaUUn3mzbg</td>\n",
       "      <td>Lee Roy Selmon's</td>\n",
       "      <td>American</td>\n",
       "      <td>3.5</td>\n",
       "      <td>42</td>\n",
       "      <td>14457 N Dale Mabry Hwy</td>\n",
       "      <td>Pennsylvania</td>\n",
       "      <td>Tampa</td>\n",
       "      <td>33618</td>\n",
       "      <td>28.078735</td>\n",
       "      <td>-82.50631</td>\n",
       "      <td>16</td>\n",
       "      <td>Hillsborough County</td>\n",
       "      <td>5.092251</td>\n",
       "      <td>3.555082</td>\n",
       "      <td>3.6 American</td>\n",
       "    </tr>\n",
       "  </tbody>\n",
       "</table>\n",
       "</div>"
      ],
      "text/plain": [
       "               business_id     business_name  category  avg_rating  \\\n",
       "36  xbRbvXSAVZBEwaUUn3mzbg  Lee Roy Selmon's  American         3.5   \n",
       "\n",
       "    review_count                 address         state   city postal_code  \\\n",
       "36            42  14457 N Dale Mabry Hwy  Pennsylvania  Tampa       33618   \n",
       "\n",
       "     latitude  longitude  cluster               county  %_competition  \\\n",
       "36  28.078735  -82.50631       16  Hillsborough County       5.092251   \n",
       "\n",
       "    cluster_rating  cluster_name  \n",
       "36        3.555082  3.6 American  "
      ]
     },
     "execution_count": 8,
     "metadata": {},
     "output_type": "execute_result"
    }
   ],
   "source": [
    "df[df.business_id == 'xbRbvXSAVZBEwaUUn3mzbg']"
   ]
  },
  {
   "cell_type": "code",
   "execution_count": 26,
   "metadata": {},
   "outputs": [],
   "source": [
    "# Funcion de recomendacion\n",
    "def get_similar_businesses(business_id,cluster):\n",
    "    # eleccion del top 5\n",
    "    business_inner_id = raw_to_inner[business_id]\n",
    "    business_similarities = knn.get_neighbors(business_inner_id, k=1000)\n",
    "    \n",
    "    # toma de datos de los ids seleccionados\n",
    "    similar_businesses_ids = [inner_to_raw[inner_id] for inner_id in business_similarities]\n",
    "    similar_businesses = df_rest[df_rest['business_id'].isin(similar_businesses_ids) & (df_rest['cluster'] == cluster)].head(5)\n",
    "    similar_businesses.drop(columns=['%_competition','longitude','latitude','cluster','cluster_rating','cluster_name','review_count'],inplace=True)\n",
    "\n",
    "    return similar_businesses"
   ]
  },
  {
   "cell_type": "code",
   "execution_count": 33,
   "metadata": {},
   "outputs": [
    {
     "data": {
      "text/html": [
       "<div>\n",
       "<style scoped>\n",
       "    .dataframe tbody tr th:only-of-type {\n",
       "        vertical-align: middle;\n",
       "    }\n",
       "\n",
       "    .dataframe tbody tr th {\n",
       "        vertical-align: top;\n",
       "    }\n",
       "\n",
       "    .dataframe thead th {\n",
       "        text-align: right;\n",
       "    }\n",
       "</style>\n",
       "<table border=\"1\" class=\"dataframe\">\n",
       "  <thead>\n",
       "    <tr style=\"text-align: right;\">\n",
       "      <th></th>\n",
       "      <th>business_id</th>\n",
       "      <th>business_name</th>\n",
       "      <th>category</th>\n",
       "      <th>avg_rating</th>\n",
       "      <th>address</th>\n",
       "      <th>state</th>\n",
       "      <th>city</th>\n",
       "      <th>postal_code</th>\n",
       "      <th>county</th>\n",
       "    </tr>\n",
       "  </thead>\n",
       "  <tbody>\n",
       "    <tr>\n",
       "      <th>844</th>\n",
       "      <td>wMti5VLmoqnEce1VQILUNg</td>\n",
       "      <td>Eclipse Brewing</td>\n",
       "      <td>Family</td>\n",
       "      <td>5.0</td>\n",
       "      <td>25 E Park Ave</td>\n",
       "      <td>Pennsylvania</td>\n",
       "      <td>Merchantville</td>\n",
       "      <td>08109</td>\n",
       "      <td>Camden County</td>\n",
       "    </tr>\n",
       "    <tr>\n",
       "      <th>932</th>\n",
       "      <td>7T1VAYHIS3cgsDj3iS6JWQ</td>\n",
       "      <td>The Frosted Fox Cake Shop</td>\n",
       "      <td>Family</td>\n",
       "      <td>5.0</td>\n",
       "      <td>6511 Germantown Ave</td>\n",
       "      <td>Pennsylvania</td>\n",
       "      <td>Philadelphia</td>\n",
       "      <td>19119</td>\n",
       "      <td>Philadelphia County</td>\n",
       "    </tr>\n",
       "    <tr>\n",
       "      <th>2555</th>\n",
       "      <td>vHqJerp8iZN1Lje3dLa4Eg</td>\n",
       "      <td>Uptown Eats</td>\n",
       "      <td>Family</td>\n",
       "      <td>5.0</td>\n",
       "      <td>689 Dr Mlk Jr St N, Ste D</td>\n",
       "      <td>Pennsylvania</td>\n",
       "      <td>St. Petersburg</td>\n",
       "      <td>33701</td>\n",
       "      <td>Pinellas County</td>\n",
       "    </tr>\n",
       "    <tr>\n",
       "      <th>2714</th>\n",
       "      <td>cn9SECA9LNC01GRXCi3wsg</td>\n",
       "      <td>Sugar Sweet Bakery</td>\n",
       "      <td>Family</td>\n",
       "      <td>5.0</td>\n",
       "      <td>18 S Eastbourne Ave</td>\n",
       "      <td>California</td>\n",
       "      <td>Tucson</td>\n",
       "      <td>85716</td>\n",
       "      <td>Pima County</td>\n",
       "    </tr>\n",
       "    <tr>\n",
       "      <th>3979</th>\n",
       "      <td>Pg2ZKh-Ss7CCpaF8MwNWYw</td>\n",
       "      <td>Antonio's Deli</td>\n",
       "      <td>Family</td>\n",
       "      <td>5.0</td>\n",
       "      <td>1014 Federal St</td>\n",
       "      <td>Pennsylvania</td>\n",
       "      <td>Philadelphia</td>\n",
       "      <td>19147</td>\n",
       "      <td>Philadelphia County</td>\n",
       "    </tr>\n",
       "  </tbody>\n",
       "</table>\n",
       "</div>"
      ],
      "text/plain": [
       "                 business_id              business_name category  avg_rating  \\\n",
       "844   wMti5VLmoqnEce1VQILUNg            Eclipse Brewing   Family         5.0   \n",
       "932   7T1VAYHIS3cgsDj3iS6JWQ  The Frosted Fox Cake Shop   Family         5.0   \n",
       "2555  vHqJerp8iZN1Lje3dLa4Eg                Uptown Eats   Family         5.0   \n",
       "2714  cn9SECA9LNC01GRXCi3wsg         Sugar Sweet Bakery   Family         5.0   \n",
       "3979  Pg2ZKh-Ss7CCpaF8MwNWYw             Antonio's Deli   Family         5.0   \n",
       "\n",
       "                        address         state            city postal_code  \\\n",
       "844               25 E Park Ave  Pennsylvania   Merchantville       08109   \n",
       "932         6511 Germantown Ave  Pennsylvania    Philadelphia       19119   \n",
       "2555  689 Dr Mlk Jr St N, Ste D  Pennsylvania  St. Petersburg       33701   \n",
       "2714        18 S Eastbourne Ave    California          Tucson       85716   \n",
       "3979            1014 Federal St  Pennsylvania    Philadelphia       19147   \n",
       "\n",
       "                   county  \n",
       "844         Camden County  \n",
       "932   Philadelphia County  \n",
       "2555      Pinellas County  \n",
       "2714          Pima County  \n",
       "3979  Philadelphia County  "
      ]
     },
     "execution_count": 33,
     "metadata": {},
     "output_type": "execute_result"
    }
   ],
   "source": [
    "#Consulta\n",
    "business_id = '0x88c2fd4b6db6ca95:0x5b414c5c84a4c5e0'  # business_id deseado\n",
    "cluster = df_rest[df_rest['business_id'] == business_id]['cluster'].values[0]\n",
    "top_recommendations = get_similar_businesses(business_id,cluster)\n",
    "top_recommendations"
   ]
  },
  {
   "cell_type": "code",
   "execution_count": 107,
   "metadata": {},
   "outputs": [],
   "source": [
    "results = {'business_id':[],'related_ids':[]}\n",
    "\n",
    "for business_id in df.business_id.unique():\n",
    "    k = 5\n",
    "    similar_businesses_ids = []\n",
    "    cluster = df_rest[df_rest['business_id'] == business_id].cluster.values[0]\n",
    "    while len(similar_businesses_ids) < 5:\n",
    "        business_inner_id = raw_to_inner[business_id]\n",
    "        business_similarities = knn.get_neighbors(business_inner_id, k=k)\n",
    "        similar_businesses_ids = [inner_to_raw[inner_id] for inner_id in business_similarities]\n",
    "        similar_businesses_ids = [j for j in similar_businesses_ids if j in df_rest[df_rest['cluster']==cluster].business_id.tolist()]\n",
    "        k +=1\n",
    "        \n",
    "    results['business_id'].append(business_id)\n",
    "    results['related_ids'].append(similar_businesses_ids)\n"
   ]
  },
  {
   "cell_type": "code",
   "execution_count": 93,
   "metadata": {},
   "outputs": [
    {
     "data": {
      "text/html": [
       "<div>\n",
       "<style scoped>\n",
       "    .dataframe tbody tr th:only-of-type {\n",
       "        vertical-align: middle;\n",
       "    }\n",
       "\n",
       "    .dataframe tbody tr th {\n",
       "        vertical-align: top;\n",
       "    }\n",
       "\n",
       "    .dataframe thead th {\n",
       "        text-align: right;\n",
       "    }\n",
       "</style>\n",
       "<table border=\"1\" class=\"dataframe\">\n",
       "  <thead>\n",
       "    <tr style=\"text-align: right;\">\n",
       "      <th></th>\n",
       "      <th>business_id</th>\n",
       "      <th>related_ids</th>\n",
       "    </tr>\n",
       "  </thead>\n",
       "  <tbody>\n",
       "    <tr>\n",
       "      <th>0</th>\n",
       "      <td>MTSW4McQd7CbVtyjqoe9mw</td>\n",
       "      <td>[5QefK7gbedeBiqsYJW54Bw, vCHNWdW-ys-nWUx3Cpvk8...</td>\n",
       "    </tr>\n",
       "    <tr>\n",
       "      <th>1</th>\n",
       "      <td>0bPLkL0QhhPO5kt1_EXmNQ</td>\n",
       "      <td>[kVjnI2z6bXKJU7JVCJe72A, TIoOs_emkTIjyTq7Lt_uH...</td>\n",
       "    </tr>\n",
       "    <tr>\n",
       "      <th>2</th>\n",
       "      <td>kfNv-JZpuN6TVNSO6hHdkw</td>\n",
       "      <td>[MTSW4McQd7CbVtyjqoe9mw, 2dlQX5sP9X6Dlm1MmNOlS...</td>\n",
       "    </tr>\n",
       "  </tbody>\n",
       "</table>\n",
       "</div>"
      ],
      "text/plain": [
       "              business_id                                        related_ids\n",
       "0  MTSW4McQd7CbVtyjqoe9mw  [5QefK7gbedeBiqsYJW54Bw, vCHNWdW-ys-nWUx3Cpvk8...\n",
       "1  0bPLkL0QhhPO5kt1_EXmNQ  [kVjnI2z6bXKJU7JVCJe72A, TIoOs_emkTIjyTq7Lt_uH...\n",
       "2  kfNv-JZpuN6TVNSO6hHdkw  [MTSW4McQd7CbVtyjqoe9mw, 2dlQX5sP9X6Dlm1MmNOlS..."
      ]
     },
     "execution_count": 93,
     "metadata": {},
     "output_type": "execute_result"
    }
   ],
   "source": [
    "df_results = pd.DataFrame(results)\n",
    "df_results.head()"
   ]
  },
  {
   "cell_type": "code",
   "execution_count": 97,
   "metadata": {},
   "outputs": [
    {
     "ename": "IndexError",
     "evalue": "list index out of range",
     "output_type": "error",
     "traceback": [
      "\u001b[1;31m---------------------------------------------------------------------------\u001b[0m",
      "\u001b[1;31mIndexError\u001b[0m                                Traceback (most recent call last)",
      "Cell \u001b[1;32mIn[97], line 2\u001b[0m\n\u001b[0;32m      1\u001b[0m searched_id \u001b[38;5;241m=\u001b[39m \u001b[38;5;124m'\u001b[39m\u001b[38;5;124m5QefK7gbedeBiqsYJW54Bw\u001b[39m\u001b[38;5;124m'\u001b[39m\n\u001b[1;32m----> 2\u001b[0m related \u001b[38;5;241m=\u001b[39m \u001b[43mdf_results\u001b[49m\u001b[43m[\u001b[49m\u001b[43mdf_results\u001b[49m\u001b[43m[\u001b[49m\u001b[38;5;124;43m'\u001b[39;49m\u001b[38;5;124;43mbusiness_id\u001b[39;49m\u001b[38;5;124;43m'\u001b[39;49m\u001b[43m]\u001b[49m\u001b[43m \u001b[49m\u001b[38;5;241;43m==\u001b[39;49m\u001b[43m \u001b[49m\u001b[43msearched_id\u001b[49m\u001b[43m]\u001b[49m\u001b[38;5;241;43m.\u001b[39;49m\u001b[43mrelated_ids\u001b[49m\u001b[38;5;241;43m.\u001b[39;49m\u001b[43mtolist\u001b[49m\u001b[43m(\u001b[49m\u001b[43m)\u001b[49m\u001b[43m[\u001b[49m\u001b[38;5;241;43m0\u001b[39;49m\u001b[43m]\u001b[49m\n\u001b[0;32m      3\u001b[0m df_rest[df_rest[\u001b[38;5;124m'\u001b[39m\u001b[38;5;124mbusiness_id\u001b[39m\u001b[38;5;124m'\u001b[39m]\u001b[38;5;241m.\u001b[39misin(related)]\u001b[38;5;241m.\u001b[39mdrop(columns\u001b[38;5;241m=\u001b[39m[\u001b[38;5;124m'\u001b[39m\u001b[38;5;124m%\u001b[39m\u001b[38;5;124m_competition\u001b[39m\u001b[38;5;124m'\u001b[39m,\u001b[38;5;124m'\u001b[39m\u001b[38;5;124mlongitude\u001b[39m\u001b[38;5;124m'\u001b[39m,\u001b[38;5;124m'\u001b[39m\u001b[38;5;124mlatitude\u001b[39m\u001b[38;5;124m'\u001b[39m,\u001b[38;5;124m'\u001b[39m\u001b[38;5;124mcluster_rating\u001b[39m\u001b[38;5;124m'\u001b[39m,\u001b[38;5;124m'\u001b[39m\u001b[38;5;124mcluster_name\u001b[39m\u001b[38;5;124m'\u001b[39m,\u001b[38;5;124m'\u001b[39m\u001b[38;5;124mreview_count\u001b[39m\u001b[38;5;124m'\u001b[39m])\n",
      "\u001b[1;31mIndexError\u001b[0m: list index out of range"
     ]
    }
   ],
   "source": [
    "searched_id = '5QefK7gbedeBiqsYJW54Bw'\n",
    "related = df_results[df_results['business_id'] == searched_id].related_ids.tolist()[0]\n",
    "df_rest[df_rest['business_id'].isin(related)].drop(columns=['%_competition','longitude','latitude','cluster_rating','cluster_name','review_count'])"
   ]
  },
  {
   "cell_type": "code",
   "execution_count": null,
   "metadata": {},
   "outputs": [],
   "source": [
    "df_results.to_parquet('df_results.parquet')"
   ]
  }
 ],
 "metadata": {
  "kernelspec": {
   "display_name": "Python 3",
   "language": "python",
   "name": "python3"
  },
  "language_info": {
   "codemirror_mode": {
    "name": "ipython",
    "version": 3
   },
   "file_extension": ".py",
   "mimetype": "text/x-python",
   "name": "python",
   "nbconvert_exporter": "python",
   "pygments_lexer": "ipython3",
   "version": "3.11.8"
  }
 },
 "nbformat": 4,
 "nbformat_minor": 2
}
