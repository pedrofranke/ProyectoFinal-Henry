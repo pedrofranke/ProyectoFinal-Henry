{
 "cells": [
  {
   "cell_type": "code",
   "execution_count": 36,
   "metadata": {},
   "outputs": [],
   "source": [
    "import pandas as pd\n",
    "from surprise import Dataset, Reader, KNNBasic\n",
    "import pickle\n",
    "import gzip\n",
    "import joblib"
   ]
  },
  {
   "cell_type": "code",
   "execution_count": 11,
   "metadata": {},
   "outputs": [],
   "source": [
    "# Extraccion de archivos\n",
    "df_rest = pd.read_parquet('../Data Engineering/Unification/Final Unifications/df_restaurants.parquet')\n",
    "df_reviews = pd.read_parquet('../Data Engineering/Unification/Final Unifications/df_reviews.parquet')\n",
    "df = pd.merge(df_rest, df_reviews, on='business_id', how='inner')\n",
    "\n",
    "df = df[(df['avg_rating']>3.5)&(df['review_count']>50)]\n",
    "\n",
    "unique_businesses = df['business_id'].unique()"
   ]
  },
  {
   "cell_type": "code",
   "execution_count": 24,
   "metadata": {},
   "outputs": [
    {
     "name": "stdout",
     "output_type": "stream",
     "text": [
      "Computing the cosine similarity matrix...\n",
      "Done computing similarity matrix.\n"
     ]
    }
   ],
   "source": [
    "# generacion del modelo y matriz de relaciones\n",
    "reader = Reader(rating_scale=(1, 5))\n",
    "data = Dataset.load_from_df(df[['user_id', 'business_id', 'rating']], reader)\n",
    "\n",
    "trainset = data.build_full_trainset()\n",
    "knn = KNNBasic(sim_options={'name': 'cosine', 'user_based': False}) \n",
    "knn.fit(trainset) # Modelo necesario (dump model)\n",
    "\n",
    "inner_to_raw = {}\n",
    "for raw_id, inner_id in trainset._raw2inner_id_items.items():\n",
    "    inner_to_raw[inner_id] = raw_id\n",
    "\n",
    "raw_to_inner = {v: k for k, v in inner_to_raw.items()}"
   ]
  },
  {
   "cell_type": "code",
   "execution_count": 26,
   "metadata": {},
   "outputs": [],
   "source": [
    "# Funcion de recomendacion\n",
    "def get_similar_businesses(business_id,cluster):\n",
    "    # eleccion del top 5\n",
    "    business_inner_id = raw_to_inner[business_id]\n",
    "    business_similarities = knn.get_neighbors(business_inner_id, k=1000)\n",
    "    \n",
    "    # toma de datos de los ids seleccionados\n",
    "    similar_businesses_ids = [inner_to_raw[inner_id] for inner_id in business_similarities]\n",
    "    similar_businesses = df_rest[df_rest['business_id'].isin(similar_businesses_ids) & (df_rest['cluster'] == cluster)].head(5)\n",
    "    similar_businesses.drop(columns=['%_competition','longitude','latitude','cluster','cluster_rating','cluster_name','review_count'],inplace=True)\n",
    "\n",
    "    return similar_businesses"
   ]
  },
  {
   "cell_type": "code",
   "execution_count": 33,
   "metadata": {},
   "outputs": [
    {
     "data": {
      "text/html": [
       "<div>\n",
       "<style scoped>\n",
       "    .dataframe tbody tr th:only-of-type {\n",
       "        vertical-align: middle;\n",
       "    }\n",
       "\n",
       "    .dataframe tbody tr th {\n",
       "        vertical-align: top;\n",
       "    }\n",
       "\n",
       "    .dataframe thead th {\n",
       "        text-align: right;\n",
       "    }\n",
       "</style>\n",
       "<table border=\"1\" class=\"dataframe\">\n",
       "  <thead>\n",
       "    <tr style=\"text-align: right;\">\n",
       "      <th></th>\n",
       "      <th>business_id</th>\n",
       "      <th>business_name</th>\n",
       "      <th>category</th>\n",
       "      <th>avg_rating</th>\n",
       "      <th>address</th>\n",
       "      <th>state</th>\n",
       "      <th>city</th>\n",
       "      <th>postal_code</th>\n",
       "      <th>county</th>\n",
       "    </tr>\n",
       "  </thead>\n",
       "  <tbody>\n",
       "    <tr>\n",
       "      <th>844</th>\n",
       "      <td>wMti5VLmoqnEce1VQILUNg</td>\n",
       "      <td>Eclipse Brewing</td>\n",
       "      <td>Family</td>\n",
       "      <td>5.0</td>\n",
       "      <td>25 E Park Ave</td>\n",
       "      <td>Pennsylvania</td>\n",
       "      <td>Merchantville</td>\n",
       "      <td>08109</td>\n",
       "      <td>Camden County</td>\n",
       "    </tr>\n",
       "    <tr>\n",
       "      <th>932</th>\n",
       "      <td>7T1VAYHIS3cgsDj3iS6JWQ</td>\n",
       "      <td>The Frosted Fox Cake Shop</td>\n",
       "      <td>Family</td>\n",
       "      <td>5.0</td>\n",
       "      <td>6511 Germantown Ave</td>\n",
       "      <td>Pennsylvania</td>\n",
       "      <td>Philadelphia</td>\n",
       "      <td>19119</td>\n",
       "      <td>Philadelphia County</td>\n",
       "    </tr>\n",
       "    <tr>\n",
       "      <th>2555</th>\n",
       "      <td>vHqJerp8iZN1Lje3dLa4Eg</td>\n",
       "      <td>Uptown Eats</td>\n",
       "      <td>Family</td>\n",
       "      <td>5.0</td>\n",
       "      <td>689 Dr Mlk Jr St N, Ste D</td>\n",
       "      <td>Pennsylvania</td>\n",
       "      <td>St. Petersburg</td>\n",
       "      <td>33701</td>\n",
       "      <td>Pinellas County</td>\n",
       "    </tr>\n",
       "    <tr>\n",
       "      <th>2714</th>\n",
       "      <td>cn9SECA9LNC01GRXCi3wsg</td>\n",
       "      <td>Sugar Sweet Bakery</td>\n",
       "      <td>Family</td>\n",
       "      <td>5.0</td>\n",
       "      <td>18 S Eastbourne Ave</td>\n",
       "      <td>California</td>\n",
       "      <td>Tucson</td>\n",
       "      <td>85716</td>\n",
       "      <td>Pima County</td>\n",
       "    </tr>\n",
       "    <tr>\n",
       "      <th>3979</th>\n",
       "      <td>Pg2ZKh-Ss7CCpaF8MwNWYw</td>\n",
       "      <td>Antonio's Deli</td>\n",
       "      <td>Family</td>\n",
       "      <td>5.0</td>\n",
       "      <td>1014 Federal St</td>\n",
       "      <td>Pennsylvania</td>\n",
       "      <td>Philadelphia</td>\n",
       "      <td>19147</td>\n",
       "      <td>Philadelphia County</td>\n",
       "    </tr>\n",
       "  </tbody>\n",
       "</table>\n",
       "</div>"
      ],
      "text/plain": [
       "                 business_id              business_name category  avg_rating  \\\n",
       "844   wMti5VLmoqnEce1VQILUNg            Eclipse Brewing   Family         5.0   \n",
       "932   7T1VAYHIS3cgsDj3iS6JWQ  The Frosted Fox Cake Shop   Family         5.0   \n",
       "2555  vHqJerp8iZN1Lje3dLa4Eg                Uptown Eats   Family         5.0   \n",
       "2714  cn9SECA9LNC01GRXCi3wsg         Sugar Sweet Bakery   Family         5.0   \n",
       "3979  Pg2ZKh-Ss7CCpaF8MwNWYw             Antonio's Deli   Family         5.0   \n",
       "\n",
       "                        address         state            city postal_code  \\\n",
       "844               25 E Park Ave  Pennsylvania   Merchantville       08109   \n",
       "932         6511 Germantown Ave  Pennsylvania    Philadelphia       19119   \n",
       "2555  689 Dr Mlk Jr St N, Ste D  Pennsylvania  St. Petersburg       33701   \n",
       "2714        18 S Eastbourne Ave    California          Tucson       85716   \n",
       "3979            1014 Federal St  Pennsylvania    Philadelphia       19147   \n",
       "\n",
       "                   county  \n",
       "844         Camden County  \n",
       "932   Philadelphia County  \n",
       "2555      Pinellas County  \n",
       "2714          Pima County  \n",
       "3979  Philadelphia County  "
      ]
     },
     "execution_count": 33,
     "metadata": {},
     "output_type": "execute_result"
    }
   ],
   "source": [
    "#Consulta\n",
    "business_id = '0x88c2fd4b6db6ca95:0x5b414c5c84a4c5e0'  # business_id deseado\n",
    "cluster = df_rest[df_rest['business_id'] == business_id]['cluster'].values[0]\n",
    "top_recommendations = get_similar_businesses(business_id,cluster)\n",
    "top_recommendations"
   ]
  },
  {
   "cell_type": "code",
   "execution_count": 34,
   "metadata": {},
   "outputs": [
    {
     "data": {
      "text/html": [
       "<div>\n",
       "<style scoped>\n",
       "    .dataframe tbody tr th:only-of-type {\n",
       "        vertical-align: middle;\n",
       "    }\n",
       "\n",
       "    .dataframe tbody tr th {\n",
       "        vertical-align: top;\n",
       "    }\n",
       "\n",
       "    .dataframe thead th {\n",
       "        text-align: right;\n",
       "    }\n",
       "</style>\n",
       "<table border=\"1\" class=\"dataframe\">\n",
       "  <thead>\n",
       "    <tr style=\"text-align: right;\">\n",
       "      <th></th>\n",
       "      <th>business_id</th>\n",
       "      <th>business_name</th>\n",
       "      <th>category</th>\n",
       "      <th>avg_rating</th>\n",
       "      <th>address</th>\n",
       "      <th>state</th>\n",
       "      <th>city</th>\n",
       "      <th>postal_code</th>\n",
       "      <th>county</th>\n",
       "    </tr>\n",
       "  </thead>\n",
       "  <tbody>\n",
       "    <tr>\n",
       "      <th>50683</th>\n",
       "      <td>0x88c2fd4b6db6ca95:0x5b414c5c84a4c5e0</td>\n",
       "      <td>Grillin N Chillin St. Pete, Inc.</td>\n",
       "      <td>Family</td>\n",
       "      <td>4.9</td>\n",
       "      <td>Grillin N Chillin St. Pete, Inc., 6708 Gulf Bl...</td>\n",
       "      <td>Florida</td>\n",
       "      <td>St Pete Beach</td>\n",
       "      <td>33706</td>\n",
       "      <td>Pinellas County</td>\n",
       "    </tr>\n",
       "  </tbody>\n",
       "</table>\n",
       "</div>"
      ],
      "text/plain": [
       "                                 business_id  \\\n",
       "50683  0x88c2fd4b6db6ca95:0x5b414c5c84a4c5e0   \n",
       "\n",
       "                          business_name category  avg_rating  \\\n",
       "50683  Grillin N Chillin St. Pete, Inc.   Family         4.9   \n",
       "\n",
       "                                                 address    state  \\\n",
       "50683  Grillin N Chillin St. Pete, Inc., 6708 Gulf Bl...  Florida   \n",
       "\n",
       "                city postal_code           county  \n",
       "50683  St Pete Beach       33706  Pinellas County  "
      ]
     },
     "execution_count": 34,
     "metadata": {},
     "output_type": "execute_result"
    }
   ],
   "source": [
    "df_rest[df_rest['business_id'] == business_id].drop(columns=['%_competition','longitude','latitude','cluster','cluster_rating','cluster_name','review_count'])"
   ]
  },
  {
   "cell_type": "code",
   "execution_count": 40,
   "metadata": {},
   "outputs": [],
   "source": [
    "# Guardar el modelo sin compresión\n",
    "joblib.dump(knn, 'modelo_knn.pkl')\n",
    "\n",
    "# Comprimir el archivo utilizando gzip\n",
    "with open('modelo_knn.pkl', 'rb') as f_in:\n",
    "    with gzip.open('modelo_knn.gz', 'wb') as f_out:\n",
    "        f_out.writelines(f_in)"
   ]
  },
  {
   "cell_type": "code",
   "execution_count": 37,
   "metadata": {},
   "outputs": [],
   "source": [
    "with open('raw_to_inner.pkl', 'wb') as f:\n",
    "    pickle.dump(raw_to_inner, f)\n",
    "\n",
    "with open('inner_to_raw.pkl', 'wb') as f:\n",
    "    pickle.dump(inner_to_raw, f)"
   ]
  },
  {
   "cell_type": "code",
   "execution_count": 41,
   "metadata": {},
   "outputs": [
    {
     "data": {
      "text/plain": [
       "['2dlQX5sP9X6Dlm1MmNOlSw',\n",
       " 'SlLfWzeYOrVBxCd-0QILZQ',\n",
       " 'pUVRCYL8rT4I5Ry5FYkRsA',\n",
       " '9Y5JPV0TFZpJXFokFxwewQ',\n",
       " 'jULIPydhMj18KOI5OHTwfA']"
      ]
     },
     "execution_count": 41,
     "metadata": {},
     "output_type": "execute_result"
    }
   ],
   "source": [
    "business_id = 'wMti5VLmoqnEce1VQILUNg'\n",
    "\n",
    "business_inner_id = raw_to_inner[business_id]\n",
    "business_similarities = knn.get_neighbors(business_inner_id, k=5)\n",
    "similar_businesses_ids = [inner_to_raw[inner_id] for inner_id in business_similarities]\n",
    "\n",
    "similar_businesses_ids"
   ]
  }
 ],
 "metadata": {
  "kernelspec": {
   "display_name": "Python 3",
   "language": "python",
   "name": "python3"
  },
  "language_info": {
   "codemirror_mode": {
    "name": "ipython",
    "version": 3
   },
   "file_extension": ".py",
   "mimetype": "text/x-python",
   "name": "python",
   "nbconvert_exporter": "python",
   "pygments_lexer": "ipython3",
   "version": "3.11.7"
  }
 },
 "nbformat": 4,
 "nbformat_minor": 2
}
