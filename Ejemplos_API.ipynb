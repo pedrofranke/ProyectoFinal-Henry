{
  "cells": [
    {
      "cell_type": "markdown",
      "metadata": {
        "id": "cXMksjPN-_nm"
      },
      "source": [
        "### Finance API - yfinance"
      ]
    },
    {
      "cell_type": "code",
      "execution_count": null,
      "metadata": {
        "id": "Zp_cadbR-_nq",
        "outputId": "0a22564c-9c9b-4652-a3f1-e0aebfc36d68"
      },
      "outputs": [
        {
          "name": "stdout",
          "output_type": "stream",
          "text": [
            "Capitalización de mercado de AAPL: 3002237190144\n"
          ]
        }
      ],
      "source": [
        "import yfinance as yf\n",
        "\n",
        "ticker_symbol = \"AAPL\"\n",
        "\n",
        "empresa = yf.Ticker(ticker_symbol)\n",
        "\n",
        "market_cap = empresa.info[\"marketCap\"]\n",
        "\n",
        "print(f\"Capitalización de mercado de {ticker_symbol}: {market_cap}\")\n"
      ]
    },
    {
      "cell_type": "markdown",
      "metadata": {
        "id": "CEl4pE9O-_ns"
      },
      "source": [
        "### Geolocalization API - geopy"
      ]
    },
    {
      "cell_type": "code",
      "execution_count": null,
      "metadata": {
        "id": "PeEUbADY-_nt"
      },
      "outputs": [],
      "source": [
        "from geopy import distance, Nominatim\n",
        "\n",
        "geolocator = Nominatim(user_agent='pef999@hotmail.com')"
      ]
    },
    {
      "cell_type": "code",
      "execution_count": null,
      "metadata": {
        "id": "v0IIhPEc-_nt",
        "outputId": "5877881a-58b1-4134-c8b3-45141ecc24c3"
      },
      "outputs": [
        {
          "name": "stdout",
          "output_type": "stream",
          "text": [
            "Tafí Viejo\n",
            "Distancia de 1082 kilometros entre puntos\n"
          ]
        }
      ],
      "source": [
        "punto1 = (-26.738244,-65.252012)\n",
        "punto2 = (-34.6157437, -58.573385)\n",
        "\n",
        "print(geolocator.reverse(punto1).raw['address']['town'])\n",
        "\n",
        "print(f'Distancia de {int(round(distance.geodesic(punto1, punto2).km,0))} kilometros entre puntos')\n",
        "\n",
        "#df_clientes.loc[3310, 'Pais'] = geolocator.reverse(df_clientes.loc[3310, ['Latitud', 'Longitud']].values).raw['address']['country']"
      ]
    },
    {
      "cell_type": "markdown",
      "metadata": {
        "id": "J53mzxYW-_nt"
      },
      "source": [
        "### Importacion de google drive"
      ]
    },
    {
      "cell_type": "code",
      "execution_count": 1,
      "metadata": {
        "colab": {
          "base_uri": "https://localhost:8080/"
        },
        "id": "sk69Z72--_nu",
        "outputId": "7e9a63e4-21ca-4e6f-89ba-0928b19271d5"
      },
      "outputs": [
        {
          "name": "stdout",
          "output_type": "stream",
          "text": [
            "Mounted at /content/drive\n"
          ]
        }
      ],
      "source": [
        "from google.colab import drive\n",
        "drive.mount('/content/drive')\n"
      ]
    },
    {
      "cell_type": "code",
      "execution_count": 5,
      "metadata": {
        "id": "4tgJha2LAkZJ"
      },
      "outputs": [],
      "source": [
        "import pandas as pd\n",
        "\n",
        "shared_folder_path = '/content/drive/MyDrive/Henry - Proyecto Final/Yelp/'\n",
        "\n",
        "# Lee un archivo desde la carpeta compartida\n",
        "file_path = shared_folder_path + 'user.parquet'\n",
        "df = pd.read_parquet(file_path)"
      ]
    },
    {
      "cell_type": "code",
      "execution_count": 7,
      "metadata": {
        "colab": {
          "base_uri": "https://localhost:8080/"
        },
        "id": "RmYhRdlkBmm3",
        "outputId": "47304e33-b7c5-4246-f330-74401e8fa7d1"
      },
      "outputs": [
        {
          "data": {
            "text/plain": [
              "(2105597, 22)"
            ]
          },
          "execution_count": 7,
          "metadata": {},
          "output_type": "execute_result"
        }
      ],
      "source": [
        "df.shape"
      ]
    },
    {
      "cell_type": "code",
      "execution_count": 1,
      "metadata": {
        "id": "9Wg627plBnQn"
      },
      "outputs": [
        {
          "ename": "OpenAIError",
          "evalue": "The api_key client option must be set either by passing api_key to the client or by setting the OPENAI_API_KEY environment variable",
          "output_type": "error",
          "traceback": [
            "\u001b[1;31m---------------------------------------------------------------------------\u001b[0m",
            "\u001b[1;31mOpenAIError\u001b[0m                               Traceback (most recent call last)",
            "Cell \u001b[1;32mIn[1], line 2\u001b[0m\n\u001b[0;32m      1\u001b[0m \u001b[38;5;28;01mfrom\u001b[39;00m \u001b[38;5;21;01mopenai\u001b[39;00m \u001b[38;5;28;01mimport\u001b[39;00m OpenAI\n\u001b[1;32m----> 2\u001b[0m client \u001b[38;5;241m=\u001b[39m \u001b[43mOpenAI\u001b[49m\u001b[43m(\u001b[49m\u001b[43m)\u001b[49m\n\u001b[0;32m      4\u001b[0m response \u001b[38;5;241m=\u001b[39m client\u001b[38;5;241m.\u001b[39mimages\u001b[38;5;241m.\u001b[39mcreate_variation(\n\u001b[0;32m      5\u001b[0m   image\u001b[38;5;241m=\u001b[39m\u001b[38;5;28mopen\u001b[39m(\u001b[38;5;124m\"\u001b[39m\u001b[38;5;124mlogo1.jpg\u001b[39m\u001b[38;5;124m\"\u001b[39m, \u001b[38;5;124m\"\u001b[39m\u001b[38;5;124mrb\u001b[39m\u001b[38;5;124m\"\u001b[39m),\n\u001b[0;32m      6\u001b[0m   n\u001b[38;5;241m=\u001b[39m\u001b[38;5;241m2\u001b[39m,\n\u001b[0;32m      7\u001b[0m   size\u001b[38;5;241m=\u001b[39m\u001b[38;5;124m\"\u001b[39m\u001b[38;5;124m1024x1024\u001b[39m\u001b[38;5;124m\"\u001b[39m\n\u001b[0;32m      8\u001b[0m )\n\u001b[0;32m     10\u001b[0m image_url \u001b[38;5;241m=\u001b[39m response\u001b[38;5;241m.\u001b[39mdata[\u001b[38;5;241m0\u001b[39m]\u001b[38;5;241m.\u001b[39murl\n",
            "File \u001b[1;32m~\\AppData\\Local\\Packages\\PythonSoftwareFoundation.Python.3.11_qbz5n2kfra8p0\\LocalCache\\local-packages\\Python311\\site-packages\\openai\\_client.py:98\u001b[0m, in \u001b[0;36mOpenAI.__init__\u001b[1;34m(self, api_key, organization, base_url, timeout, max_retries, default_headers, default_query, http_client, _strict_response_validation)\u001b[0m\n\u001b[0;32m     96\u001b[0m     api_key \u001b[38;5;241m=\u001b[39m os\u001b[38;5;241m.\u001b[39menviron\u001b[38;5;241m.\u001b[39mget(\u001b[38;5;124m\"\u001b[39m\u001b[38;5;124mOPENAI_API_KEY\u001b[39m\u001b[38;5;124m\"\u001b[39m)\n\u001b[0;32m     97\u001b[0m \u001b[38;5;28;01mif\u001b[39;00m api_key \u001b[38;5;129;01mis\u001b[39;00m \u001b[38;5;28;01mNone\u001b[39;00m:\n\u001b[1;32m---> 98\u001b[0m     \u001b[38;5;28;01mraise\u001b[39;00m OpenAIError(\n\u001b[0;32m     99\u001b[0m         \u001b[38;5;124m\"\u001b[39m\u001b[38;5;124mThe api_key client option must be set either by passing api_key to the client or by setting the OPENAI_API_KEY environment variable\u001b[39m\u001b[38;5;124m\"\u001b[39m\n\u001b[0;32m    100\u001b[0m     )\n\u001b[0;32m    101\u001b[0m \u001b[38;5;28mself\u001b[39m\u001b[38;5;241m.\u001b[39mapi_key \u001b[38;5;241m=\u001b[39m api_key\n\u001b[0;32m    103\u001b[0m \u001b[38;5;28;01mif\u001b[39;00m organization \u001b[38;5;129;01mis\u001b[39;00m \u001b[38;5;28;01mNone\u001b[39;00m:\n",
            "\u001b[1;31mOpenAIError\u001b[0m: The api_key client option must be set either by passing api_key to the client or by setting the OPENAI_API_KEY environment variable"
          ]
        }
      ],
      "source": [
        "from openai import OpenAI\n",
        "client = OpenAI()\n",
        "\n",
        "response = client.images.create_variation(\n",
        "  image=open(\"logo1.jpg\", \"rb\"),\n",
        "  n=2,\n",
        "  size=\"1024x1024\"\n",
        ")\n",
        "\n",
        "image_url = response.data[0].url"
      ]
    }
  ],
  "metadata": {
    "colab": {
      "provenance": []
    },
    "kernelspec": {
      "display_name": "Python 3",
      "language": "python",
      "name": "python3"
    },
    "language_info": {
      "codemirror_mode": {
        "name": "ipython",
        "version": 3
      },
      "file_extension": ".py",
      "mimetype": "text/x-python",
      "name": "python",
      "nbconvert_exporter": "python",
      "pygments_lexer": "ipython3",
      "version": "3.11.7"
    }
  },
  "nbformat": 4,
  "nbformat_minor": 0
}
