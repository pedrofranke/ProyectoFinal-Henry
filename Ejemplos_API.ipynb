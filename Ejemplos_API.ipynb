{
  "cells": [
    {
      "cell_type": "markdown",
      "metadata": {
        "colab_type": "text",
        "id": "view-in-github"
      },
      "source": [
        "<a href=\"https://colab.research.google.com/github/pedrofranke/ProyectoFinal-Henry/blob/main/Ejemplos_API.ipynb\" target=\"_parent\"><img src=\"https://colab.research.google.com/assets/colab-badge.svg\" alt=\"Open In Colab\"/></a>"
      ]
    },
    {
      "cell_type": "markdown",
      "metadata": {
        "id": "cXMksjPN-_nm"
      },
      "source": [
        "### Finance API - yfinance"
      ]
    },
    {
      "cell_type": "code",
      "execution_count": 1,
      "metadata": {
        "id": "Zp_cadbR-_nq",
        "outputId": "0a22564c-9c9b-4652-a3f1-e0aebfc36d68"
      },
      "outputs": [
        {
          "name": "stdout",
          "output_type": "stream",
          "text": [
            "Capitalización de mercado de AAPL: 2960644636672\n"
          ]
        }
      ],
      "source": [
        "import yfinance as yf\n",
        "\n",
        "ticker_symbol = \"AAPL\"\n",
        "\n",
        "empresa = yf.Ticker(ticker_symbol)\n",
        "\n",
        "market_cap = empresa.info[\"marketCap\"]\n",
        "\n",
        "print(f\"Capitalización de mercado de {ticker_symbol}: {market_cap}\")\n"
      ]
    },
    {
      "cell_type": "markdown",
      "metadata": {
        "id": "CEl4pE9O-_ns"
      },
      "source": [
        "### Geolocalization API - geopy"
      ]
    },
    {
      "cell_type": "code",
      "execution_count": 26,
      "metadata": {
        "id": "PeEUbADY-_nt"
      },
      "outputs": [],
      "source": [
        "from geopy import distance, Nominatim\n",
        "\n",
        "geolocator = Nominatim(user_agent='pef999@hotmail.com')"
      ]
    },
    {
      "cell_type": "code",
      "execution_count": 28,
      "metadata": {
        "id": "v0IIhPEc-_nt",
        "outputId": "5877881a-58b1-4134-c8b3-45141ecc24c3"
      },
      "outputs": [
        {
          "name": "stdout",
          "output_type": "stream",
          "text": [
            "Tucumán\n",
            "Distancia de 1082 kilometros entre puntos\n"
          ]
        }
      ],
      "source": [
        "punto1 = (-26.738244,-65.252012)\n",
        "punto2 = (-34.6157437, -58.573385)\n",
        "\n",
        "print(geolocator.reverse(punto1).raw['address']['state'])\n",
        "\n",
        "print(f'Distancia de {int(round(distance.geodesic(punto1, punto2).km,0))} kilometros entre puntos')\n",
        "\n",
        "#df_clientes.loc[3310, 'Pais'] = geolocator.reverse(df_clientes.loc[3310, ['Latitud', 'Longitud']].values).raw['address']['country']"
      ]
    },
    {
      "cell_type": "code",
      "execution_count": 44,
      "metadata": {},
      "outputs": [],
      "source": [
        "import pandas as pd\n",
        "from geopy import Nominatim\n",
        "\n",
        "geolocator = Nominatim(user_agent='pef999@hotmail.com')\n",
        "\n",
        "def state(df,output='State',latitud='Latitud',longitud='Longitud'):\n",
        "    def locador(row):\n",
        "        if pd.notna(row[latitud]) and pd.notna(row[longitud]):\n",
        "            x = geolocator.reverse(row[[latitud,longitud]].values).raw['address']['state']\n",
        "        return x\n",
        "\n",
        "    df[output] = df.apply(locador,axis=1)\n",
        "    return df"
      ]
    },
    {
      "cell_type": "code",
      "execution_count": 45,
      "metadata": {},
      "outputs": [
        {
          "data": {
            "text/html": [
              "<div>\n",
              "<style scoped>\n",
              "    .dataframe tbody tr th:only-of-type {\n",
              "        vertical-align: middle;\n",
              "    }\n",
              "\n",
              "    .dataframe tbody tr th {\n",
              "        vertical-align: top;\n",
              "    }\n",
              "\n",
              "    .dataframe thead th {\n",
              "        text-align: right;\n",
              "    }\n",
              "</style>\n",
              "<table border=\"1\" class=\"dataframe\">\n",
              "  <thead>\n",
              "    <tr style=\"text-align: right;\">\n",
              "      <th></th>\n",
              "      <th>State</th>\n",
              "      <th>Longitud</th>\n",
              "      <th>Latitud</th>\n",
              "    </tr>\n",
              "  </thead>\n",
              "  <tbody>\n",
              "    <tr>\n",
              "      <th>0</th>\n",
              "      <td>None</td>\n",
              "      <td>-58.458297</td>\n",
              "      <td>-34.560158</td>\n",
              "    </tr>\n",
              "    <tr>\n",
              "      <th>1</th>\n",
              "      <td>None</td>\n",
              "      <td>-58.491426</td>\n",
              "      <td>-34.645848</td>\n",
              "    </tr>\n",
              "    <tr>\n",
              "      <th>2</th>\n",
              "      <td>None</td>\n",
              "      <td>-58.512714</td>\n",
              "      <td>-34.577866</td>\n",
              "    </tr>\n",
              "  </tbody>\n",
              "</table>\n",
              "</div>"
            ],
            "text/plain": [
              "  State   Longitud    Latitud\n",
              "0  None -58.458297 -34.560158\n",
              "1  None -58.491426 -34.645848\n",
              "2  None -58.512714 -34.577866"
            ]
          },
          "execution_count": 45,
          "metadata": {},
          "output_type": "execute_result"
        }
      ],
      "source": [
        "dic = {'State':[None,None,None],\n",
        "       'Longitud':[-58.458297,-58.491426,-58.512714],\n",
        "       'Latitud':[-34.560158,-34.645848,-34.577866]\n",
        "       }\n",
        "\n",
        "df = pd.DataFrame(dic)\n",
        "df"
      ]
    },
    {
      "cell_type": "code",
      "execution_count": 46,
      "metadata": {},
      "outputs": [
        {
          "data": {
            "text/html": [
              "<div>\n",
              "<style scoped>\n",
              "    .dataframe tbody tr th:only-of-type {\n",
              "        vertical-align: middle;\n",
              "    }\n",
              "\n",
              "    .dataframe tbody tr th {\n",
              "        vertical-align: top;\n",
              "    }\n",
              "\n",
              "    .dataframe thead th {\n",
              "        text-align: right;\n",
              "    }\n",
              "</style>\n",
              "<table border=\"1\" class=\"dataframe\">\n",
              "  <thead>\n",
              "    <tr style=\"text-align: right;\">\n",
              "      <th></th>\n",
              "      <th>State</th>\n",
              "      <th>Longitud</th>\n",
              "      <th>Latitud</th>\n",
              "    </tr>\n",
              "  </thead>\n",
              "  <tbody>\n",
              "    <tr>\n",
              "      <th>0</th>\n",
              "      <td>Ciudad Autónoma de Buenos Aires</td>\n",
              "      <td>-58.458297</td>\n",
              "      <td>-34.560158</td>\n",
              "    </tr>\n",
              "    <tr>\n",
              "      <th>1</th>\n",
              "      <td>Ciudad Autónoma de Buenos Aires</td>\n",
              "      <td>-58.491426</td>\n",
              "      <td>-34.645848</td>\n",
              "    </tr>\n",
              "    <tr>\n",
              "      <th>2</th>\n",
              "      <td>Ciudad Autónoma de Buenos Aires</td>\n",
              "      <td>-58.512714</td>\n",
              "      <td>-34.577866</td>\n",
              "    </tr>\n",
              "  </tbody>\n",
              "</table>\n",
              "</div>"
            ],
            "text/plain": [
              "                             State   Longitud    Latitud\n",
              "0  Ciudad Autónoma de Buenos Aires -58.458297 -34.560158\n",
              "1  Ciudad Autónoma de Buenos Aires -58.491426 -34.645848\n",
              "2  Ciudad Autónoma de Buenos Aires -58.512714 -34.577866"
            ]
          },
          "execution_count": 46,
          "metadata": {},
          "output_type": "execute_result"
        }
      ],
      "source": [
        "state(df)"
      ]
    },
    {
      "cell_type": "markdown",
      "metadata": {
        "id": "J53mzxYW-_nt"
      },
      "source": [
        "### Importacion de google drive"
      ]
    },
    {
      "cell_type": "code",
      "execution_count": 1,
      "metadata": {
        "colab": {
          "base_uri": "https://localhost:8080/"
        },
        "id": "sk69Z72--_nu",
        "outputId": "7e9a63e4-21ca-4e6f-89ba-0928b19271d5"
      },
      "outputs": [
        {
          "name": "stdout",
          "output_type": "stream",
          "text": [
            "Mounted at /content/drive\n"
          ]
        }
      ],
      "source": [
        "from google.colab import drive\n",
        "drive.mount('/content/drive')\n"
      ]
    },
    {
      "cell_type": "code",
      "execution_count": 5,
      "metadata": {
        "colab": {
          "base_uri": "https://localhost:8080/"
        },
        "id": "RmYhRdlkBmm3",
        "outputId": "47304e33-b7c5-4246-f330-74401e8fa7d1"
      },
      "outputs": [
        {
          "data": {
            "text/plain": [
              "(2105597, 22)"
            ]
          },
          "execution_count": 7,
          "metadata": {},
          "output_type": "execute_result"
        }
      ],
      "source": [
        "df.shape"
      ]
    }
  ],
  "metadata": {
    "colab": {
      "provenance": []
    },
    "kernelspec": {
      "display_name": "Python 3",
      "language": "python",
      "name": "python3"
    },
    "language_info": {
      "codemirror_mode": {
        "name": "ipython",
        "version": 3
      },
      "file_extension": ".py",
      "mimetype": "text/x-python",
      "name": "python",
      "nbconvert_exporter": "python",
      "pygments_lexer": "ipython3",
      "version": "3.11.7"
    }
  },
  "nbformat": 4,
  "nbformat_minor": 0
}
