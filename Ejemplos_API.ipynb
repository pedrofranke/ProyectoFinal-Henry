{
  "cells": [
    {
      "cell_type": "markdown",
      "metadata": {
        "id": "view-in-github",
        "colab_type": "text"
      },
      "source": [
        "<a href=\"https://colab.research.google.com/github/pedrofranke/ProyectoFinal-Henry/blob/main/Ejemplos_API.ipynb\" target=\"_parent\"><img src=\"https://colab.research.google.com/assets/colab-badge.svg\" alt=\"Open In Colab\"/></a>"
      ]
    },
    {
      "cell_type": "markdown",
      "metadata": {
        "id": "cXMksjPN-_nm"
      },
      "source": [
        "### Finance API - yfinance"
      ]
    },
    {
      "cell_type": "code",
      "execution_count": null,
      "metadata": {
        "id": "Zp_cadbR-_nq",
        "outputId": "0a22564c-9c9b-4652-a3f1-e0aebfc36d68"
      },
      "outputs": [
        {
          "name": "stdout",
          "output_type": "stream",
          "text": [
            "Capitalización de mercado de AAPL: 3002237190144\n"
          ]
        }
      ],
      "source": [
        "import yfinance as yf\n",
        "\n",
        "ticker_symbol = \"AAPL\"\n",
        "\n",
        "empresa = yf.Ticker(ticker_symbol)\n",
        "\n",
        "market_cap = empresa.info[\"marketCap\"]\n",
        "\n",
        "print(f\"Capitalización de mercado de {ticker_symbol}: {market_cap}\")\n"
      ]
    },
    {
      "cell_type": "markdown",
      "metadata": {
        "id": "CEl4pE9O-_ns"
      },
      "source": [
        "### Geolocalization API - geopy"
      ]
    },
    {
      "cell_type": "code",
      "execution_count": null,
      "metadata": {
        "id": "PeEUbADY-_nt"
      },
      "outputs": [],
      "source": [
        "from geopy import distance, Nominatim\n",
        "\n",
        "geolocator = Nominatim(user_agent='pef999@hotmail.com')"
      ]
    },
    {
      "cell_type": "code",
      "execution_count": null,
      "metadata": {
        "id": "v0IIhPEc-_nt",
        "outputId": "5877881a-58b1-4134-c8b3-45141ecc24c3"
      },
      "outputs": [
        {
          "name": "stdout",
          "output_type": "stream",
          "text": [
            "Tafí Viejo\n",
            "Distancia de 1082 kilometros entre puntos\n"
          ]
        }
      ],
      "source": [
        "punto1 = (-26.738244,-65.252012)\n",
        "punto2 = (-34.6157437, -58.573385)\n",
        "\n",
        "print(geolocator.reverse(punto1).raw['address']['town'])\n",
        "\n",
        "print(f'Distancia de {int(round(distance.geodesic(punto1, punto2).km,0))} kilometros entre puntos')\n",
        "\n",
        "#df_clientes.loc[3310, 'Pais'] = geolocator.reverse(df_clientes.loc[3310, ['Latitud', 'Longitud']].values).raw['address']['country']"
      ]
    },
    {
      "cell_type": "markdown",
      "metadata": {
        "id": "J53mzxYW-_nt"
      },
      "source": [
        "### Importacion de google drive"
      ]
    },
    {
      "cell_type": "code",
      "execution_count": 1,
      "metadata": {

        "colab": {
          "base_uri": "https://localhost:8080/"
        },
        "id": "sk69Z72--_nu",
        "outputId": "7e9a63e4-21ca-4e6f-89ba-0928b19271d5"
      },
      "outputs": [
        {
          "name": "stdout",
          "output_type": "stream",
          "text": [
            "Mounted at /content/drive\n"
          ]
        }
      ],
      "source": [
        "from google.colab import drive\n",
        "drive.mount('/content/drive')\n"
      ]
    },
    {
      "cell_type": "code",
      "execution_count": 5,
      "metadata": {
        "id": "4tgJha2LAkZJ"
      },
      "outputs": [],
      "source": [
        "import pandas as pd\n",
        "\n",
        "shared_folder_path = '/content/drive/MyDrive/Henry - Proyecto Final/Yelp/'\n",
        "\n",
        "# Lee un archivo desde la carpeta compartida\n",
        "file_path = shared_folder_path + 'user.parquet'\n",
      "metadata": {
        "colab": {
          "base_uri": "https://localhost:8080/"
        },
        "id": "RmYhRdlkBmm3",
        "outputId": "47304e33-b7c5-4246-f330-74401e8fa7d1"
      },
      "outputs": [
        {
          "data": {
            "text/plain": [
              "(2105597, 22)"
            ]
          },
          "execution_count": 7,
          "metadata": {},
          "output_type": "execute_result"
        }
      ],
      "source": [
        "df.shape"
      ]
    }
  ],
  "metadata": {
    "colab": {
      "provenance": []
    },
    "kernelspec": {
      "display_name": "Python 3",
      "language": "python",
      "name": "python3"
    },
    "language_info": {
      "codemirror_mode": {
        "name": "ipython",
        "version": 3
      },
      "file_extension": ".py",
      "mimetype": "text/x-python",
      "name": "python",
      "nbconvert_exporter": "python",
      "pygments_lexer": "ipython3",
      "version": "3.11.7"
    }
  },
  "nbformat": 4,
  "nbformat_minor": 0
}
