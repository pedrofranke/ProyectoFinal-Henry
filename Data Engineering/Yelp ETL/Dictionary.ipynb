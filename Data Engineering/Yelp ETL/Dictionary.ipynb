{
 "cells": [
  {
   "cell_type": "markdown",
   "metadata": {},
   "source": [
    "### Dataset: Business\n",
    "\n",
    "| Nombre         | Descripción                               | Ejemplo       |\n",
    "|----------------|-------------------------------------------|---------------|\n",
    "| business_id    | Identifier for each restaurant            |MTSW4McQd7CbVtyjqoe9mw |\n",
    "| name           | Restaurant name                           |St Honore Pastries               |\n",
    "| address        | Restaurant address                        |935 Race St               |\n",
    "| city           | City where the restaurant is located      |Philadelphia              |\n",
    "| state          | State where the restaurant is situated    |CA               |\n",
    "| postal_code    | Postal code of the restaurant             |19107               |\n",
    "| latitude       | Latitude on the map for the restaurant    |39.955505               |\n",
    "| longitude      | Longitude on the map for the restaurant   |-75.155564               |\n",
    "| stars          | Rating of the restaurant                  |4.0               |\n",
    "| review_count   | Number of reviews for the restaurant      |80               |\n",
    "| categories     | Categories of the businesses              |Restaurants, Food, Bubble Tea, Coffee & Tea               |\n",
    "\n",
    "### Dataset: Review\n",
    "\n",
    "| Nombre       | Descripción                        | Ejemplo       |\n",
    "|--------------|------------------------------------|---------------|\n",
    "| review_id    | Identifier for each review          |KU_O5udG6zpxOg-VcAEodg               |\n",
    "| user_id      | Identifier for each user            |mh_-eMZ6K5RLWhZyISBhwA               |\n",
    "| business_id  | Identifier for each restaurant      |XQfwVwDr-v0ZS3_CbbE5Xw               |\n",
    "| stars        | Rating of each review               |3.0               |\n",
    "| text         | Review written by the user          |A delightful find in Chinatown! Very clean.               |\n",
    "| date         | Date and time of the review         |2014-05-26 01:09:53               |\n",
    "\n",
    "### Dataset: User\n",
    "\n",
    "| Nombre         | Descripción                          | Ejemplo       |\n",
    "|----------------|--------------------------------------|---------------|\n",
    "| user_id        | Identifier for each user             |qVc8ODYU5SZjKXVBgXdI7w               |\n",
    "| name           | Name of each user                    |Walker               |\n",
    "| review_count   | Number of reviews made by the user    |585             |\n",
    "| useful         | Number of votes marked as useful by other users for that user   |7217              |"
   ]
  }
 ],
 "metadata": {
  "language_info": {
   "name": "python"
  }
 },
 "nbformat": 4,
 "nbformat_minor": 2
}
