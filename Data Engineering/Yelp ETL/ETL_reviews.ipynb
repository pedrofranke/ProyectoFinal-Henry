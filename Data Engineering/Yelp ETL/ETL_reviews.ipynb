{
 "cells": [
  {
   "cell_type": "markdown",
   "metadata": {},
   "source": [
    "# Extraction, Transformation, and Loading of data 👨🏽‍💻 👩🏽‍💻"
   ]
  },
  {
   "cell_type": "markdown",
   "metadata": {},
   "source": [
    "In this notebook, the data will be loaded, and the types of each column will be reviewed to determine which columns will be useful. The notebook will also check for duplicate records (rows) and if any record in a column has empty or null values. In addition to these transformations, the libraries that will be used throughout the notebook to manipulate the data will be imported, including our custom module called 'Tools.' Finally, the processed data will be exported and ready for analysis."
   ]
  },
  {
   "cell_type": "markdown",
   "metadata": {},
   "source": [
    "## Importing the necessary libraries 📚"
   ]
  },
  {
   "cell_type": "markdown",
   "metadata": {},
   "source": [
    "These libraries assist us in manipulating the data to ensure consistency and quality. Additionally, we import our custom module named 'tools' to aid in this entire process."
   ]
  },
  {
   "cell_type": "code",
   "execution_count": 9,
   "metadata": {},
   "outputs": [],
   "source": [
    "import pandas as pd\n",
    "import Tools as T\n",
    "import warnings\n",
    "warnings.filterwarnings(\"ignore\")"
   ]
  },
  {
   "cell_type": "markdown",
   "metadata": {},
   "source": [
    "## Data Loading 📂🔄"
   ]
  },
  {
   "cell_type": "code",
   "execution_count": 10,
   "metadata": {},
   "outputs": [],
   "source": [
    "df_rest_reviews = T.OpenJsonYelp('review-001.json')"
   ]
  },
  {
   "cell_type": "markdown",
   "metadata": {},
   "source": [
    "## Transformations 🔀"
   ]
  },
  {
   "cell_type": "markdown",
   "metadata": {},
   "source": [
    "We will proceed to delete the columns that contain three types of ratings:\n",
    "\n",
    "* cool\n",
    "* funny\n",
    "* useful\n",
    "\n",
    "Since we will conduct our own sentiment analysis."
   ]
  },
  {
   "cell_type": "code",
   "execution_count": 11,
   "metadata": {},
   "outputs": [
    {
     "data": {
      "text/html": [
       "<div>\n",
       "<style scoped>\n",
       "    .dataframe tbody tr th:only-of-type {\n",
       "        vertical-align: middle;\n",
       "    }\n",
       "\n",
       "    .dataframe tbody tr th {\n",
       "        vertical-align: top;\n",
       "    }\n",
       "\n",
       "    .dataframe thead th {\n",
       "        text-align: right;\n",
       "    }\n",
       "</style>\n",
       "<table border=\"1\" class=\"dataframe\">\n",
       "  <thead>\n",
       "    <tr style=\"text-align: right;\">\n",
       "      <th></th>\n",
       "      <th>review_id</th>\n",
       "      <th>user_id</th>\n",
       "      <th>business_id</th>\n",
       "      <th>stars</th>\n",
       "      <th>text</th>\n",
       "      <th>date</th>\n",
       "    </tr>\n",
       "  </thead>\n",
       "  <tbody>\n",
       "    <tr>\n",
       "      <th>0</th>\n",
       "      <td>KU_O5udG6zpxOg-VcAEodg</td>\n",
       "      <td>mh_-eMZ6K5RLWhZyISBhwA</td>\n",
       "      <td>XQfwVwDr-v0ZS3_CbbE5Xw</td>\n",
       "      <td>3.0</td>\n",
       "      <td>If you decide to eat here, just be aware it is...</td>\n",
       "      <td>2018-07-07 22:09:11</td>\n",
       "    </tr>\n",
       "    <tr>\n",
       "      <th>1</th>\n",
       "      <td>BiTunyQ73aT9WBnpR9DZGw</td>\n",
       "      <td>OyoGAe7OKpv6SyGZT5g77Q</td>\n",
       "      <td>7ATYjTIgM3jUlt4UM3IypQ</td>\n",
       "      <td>5.0</td>\n",
       "      <td>I've taken a lot of spin classes over the year...</td>\n",
       "      <td>2012-01-03 15:28:18</td>\n",
       "    </tr>\n",
       "    <tr>\n",
       "      <th>2</th>\n",
       "      <td>saUsX_uimxRlCVr67Z4Jig</td>\n",
       "      <td>8g_iMtfSiwikVnbP2etR0A</td>\n",
       "      <td>YjUWPpI6HXG530lwP-fb2A</td>\n",
       "      <td>3.0</td>\n",
       "      <td>Family diner. Had the buffet. Eclectic assortm...</td>\n",
       "      <td>2014-02-05 20:30:30</td>\n",
       "    </tr>\n",
       "    <tr>\n",
       "      <th>3</th>\n",
       "      <td>AqPFMleE6RsU23_auESxiA</td>\n",
       "      <td>_7bHUi9Uuf5__HHc_Q8guQ</td>\n",
       "      <td>kxX2SOes4o-D3ZQBkiMRfA</td>\n",
       "      <td>5.0</td>\n",
       "      <td>Wow!  Yummy, different,  delicious.   Our favo...</td>\n",
       "      <td>2015-01-04 00:01:03</td>\n",
       "    </tr>\n",
       "    <tr>\n",
       "      <th>4</th>\n",
       "      <td>Sx8TMOWLNuJBWer-0pcmoA</td>\n",
       "      <td>bcjbaE6dDog4jkNY91ncLQ</td>\n",
       "      <td>e4Vwtrqf-wpJfwesgvdgxQ</td>\n",
       "      <td>4.0</td>\n",
       "      <td>Cute interior and owner (?) gave us tour of up...</td>\n",
       "      <td>2017-01-14 20:54:15</td>\n",
       "    </tr>\n",
       "    <tr>\n",
       "      <th>...</th>\n",
       "      <td>...</td>\n",
       "      <td>...</td>\n",
       "      <td>...</td>\n",
       "      <td>...</td>\n",
       "      <td>...</td>\n",
       "      <td>...</td>\n",
       "    </tr>\n",
       "    <tr>\n",
       "      <th>6990275</th>\n",
       "      <td>H0RIamZu0B0Ei0P4aeh3sQ</td>\n",
       "      <td>qskILQ3k0I_qcCMI-k6_QQ</td>\n",
       "      <td>jals67o91gcrD4DC81Vk6w</td>\n",
       "      <td>5.0</td>\n",
       "      <td>Latest addition to services from ICCU is Apple...</td>\n",
       "      <td>2014-12-17 21:45:20</td>\n",
       "    </tr>\n",
       "    <tr>\n",
       "      <th>6990276</th>\n",
       "      <td>shTPgbgdwTHSuU67mGCmZQ</td>\n",
       "      <td>Zo0th2m8Ez4gLSbHftiQvg</td>\n",
       "      <td>2vLksaMmSEcGbjI5gywpZA</td>\n",
       "      <td>5.0</td>\n",
       "      <td>This spot offers a great, affordable east week...</td>\n",
       "      <td>2021-03-31 16:55:10</td>\n",
       "    </tr>\n",
       "    <tr>\n",
       "      <th>6990277</th>\n",
       "      <td>YNfNhgZlaaCO5Q_YJR4rEw</td>\n",
       "      <td>mm6E4FbCMwJmb7kPDZ5v2Q</td>\n",
       "      <td>R1khUUxidqfaJmcpmGd4aw</td>\n",
       "      <td>4.0</td>\n",
       "      <td>This Home Depot won me over when I needed to g...</td>\n",
       "      <td>2019-12-30 03:56:30</td>\n",
       "    </tr>\n",
       "    <tr>\n",
       "      <th>6990278</th>\n",
       "      <td>i-I4ZOhoX70Nw5H0FwrQUA</td>\n",
       "      <td>YwAMC-jvZ1fvEUum6QkEkw</td>\n",
       "      <td>Rr9kKArrMhSLVE9a53q-aA</td>\n",
       "      <td>5.0</td>\n",
       "      <td>For when I'm feeling like ignoring my calorie-...</td>\n",
       "      <td>2022-01-19 18:59:27</td>\n",
       "    </tr>\n",
       "    <tr>\n",
       "      <th>6990279</th>\n",
       "      <td>RwcKOdEuLRHNJe4M9-qpqg</td>\n",
       "      <td>6JehEvdoCvZPJ_XIxnzIIw</td>\n",
       "      <td>VAeEXLbEcI9Emt9KGYq9aA</td>\n",
       "      <td>3.0</td>\n",
       "      <td>Located in the 'Walking District' in Nashville...</td>\n",
       "      <td>2018-01-02 22:50:47</td>\n",
       "    </tr>\n",
       "  </tbody>\n",
       "</table>\n",
       "<p>6990280 rows × 6 columns</p>\n",
       "</div>"
      ],
      "text/plain": [
       "                      review_id                 user_id  \\\n",
       "0        KU_O5udG6zpxOg-VcAEodg  mh_-eMZ6K5RLWhZyISBhwA   \n",
       "1        BiTunyQ73aT9WBnpR9DZGw  OyoGAe7OKpv6SyGZT5g77Q   \n",
       "2        saUsX_uimxRlCVr67Z4Jig  8g_iMtfSiwikVnbP2etR0A   \n",
       "3        AqPFMleE6RsU23_auESxiA  _7bHUi9Uuf5__HHc_Q8guQ   \n",
       "4        Sx8TMOWLNuJBWer-0pcmoA  bcjbaE6dDog4jkNY91ncLQ   \n",
       "...                         ...                     ...   \n",
       "6990275  H0RIamZu0B0Ei0P4aeh3sQ  qskILQ3k0I_qcCMI-k6_QQ   \n",
       "6990276  shTPgbgdwTHSuU67mGCmZQ  Zo0th2m8Ez4gLSbHftiQvg   \n",
       "6990277  YNfNhgZlaaCO5Q_YJR4rEw  mm6E4FbCMwJmb7kPDZ5v2Q   \n",
       "6990278  i-I4ZOhoX70Nw5H0FwrQUA  YwAMC-jvZ1fvEUum6QkEkw   \n",
       "6990279  RwcKOdEuLRHNJe4M9-qpqg  6JehEvdoCvZPJ_XIxnzIIw   \n",
       "\n",
       "                    business_id  stars  \\\n",
       "0        XQfwVwDr-v0ZS3_CbbE5Xw    3.0   \n",
       "1        7ATYjTIgM3jUlt4UM3IypQ    5.0   \n",
       "2        YjUWPpI6HXG530lwP-fb2A    3.0   \n",
       "3        kxX2SOes4o-D3ZQBkiMRfA    5.0   \n",
       "4        e4Vwtrqf-wpJfwesgvdgxQ    4.0   \n",
       "...                         ...    ...   \n",
       "6990275  jals67o91gcrD4DC81Vk6w    5.0   \n",
       "6990276  2vLksaMmSEcGbjI5gywpZA    5.0   \n",
       "6990277  R1khUUxidqfaJmcpmGd4aw    4.0   \n",
       "6990278  Rr9kKArrMhSLVE9a53q-aA    5.0   \n",
       "6990279  VAeEXLbEcI9Emt9KGYq9aA    3.0   \n",
       "\n",
       "                                                      text  \\\n",
       "0        If you decide to eat here, just be aware it is...   \n",
       "1        I've taken a lot of spin classes over the year...   \n",
       "2        Family diner. Had the buffet. Eclectic assortm...   \n",
       "3        Wow!  Yummy, different,  delicious.   Our favo...   \n",
       "4        Cute interior and owner (?) gave us tour of up...   \n",
       "...                                                    ...   \n",
       "6990275  Latest addition to services from ICCU is Apple...   \n",
       "6990276  This spot offers a great, affordable east week...   \n",
       "6990277  This Home Depot won me over when I needed to g...   \n",
       "6990278  For when I'm feeling like ignoring my calorie-...   \n",
       "6990279  Located in the 'Walking District' in Nashville...   \n",
       "\n",
       "                        date  \n",
       "0        2018-07-07 22:09:11  \n",
       "1        2012-01-03 15:28:18  \n",
       "2        2014-02-05 20:30:30  \n",
       "3        2015-01-04 00:01:03  \n",
       "4        2017-01-14 20:54:15  \n",
       "...                      ...  \n",
       "6990275  2014-12-17 21:45:20  \n",
       "6990276  2021-03-31 16:55:10  \n",
       "6990277  2019-12-30 03:56:30  \n",
       "6990278  2022-01-19 18:59:27  \n",
       "6990279  2018-01-02 22:50:47  \n",
       "\n",
       "[6990280 rows x 6 columns]"
      ]
     },
     "execution_count": 11,
     "metadata": {},
     "output_type": "execute_result"
    }
   ],
   "source": [
    "df_rest_reviews = df_rest_reviews.drop(columns=['cool','funny','useful'])\n",
    "df_rest_reviews"
   ]
  },
  {
   "cell_type": "markdown",
   "metadata": {},
   "source": [
    "The proper deletion of the columns is verified, ensuring that the change has been made correctly. Now, we can check for null values and determine the data types present in each column."
   ]
  },
  {
   "cell_type": "code",
   "execution_count": 12,
   "metadata": {},
   "outputs": [
    {
     "data": {
      "text/html": [
       "<div>\n",
       "<style scoped>\n",
       "    .dataframe tbody tr th:only-of-type {\n",
       "        vertical-align: middle;\n",
       "    }\n",
       "\n",
       "    .dataframe tbody tr th {\n",
       "        vertical-align: top;\n",
       "    }\n",
       "\n",
       "    .dataframe thead th {\n",
       "        text-align: right;\n",
       "    }\n",
       "</style>\n",
       "<table border=\"1\" class=\"dataframe\">\n",
       "  <thead>\n",
       "    <tr style=\"text-align: right;\">\n",
       "      <th></th>\n",
       "      <th>Name</th>\n",
       "      <th>Unique Data Types</th>\n",
       "      <th>% of Non-null Values</th>\n",
       "      <th>% of Null Values</th>\n",
       "      <th>Number of Null Values</th>\n",
       "    </tr>\n",
       "  </thead>\n",
       "  <tbody>\n",
       "    <tr>\n",
       "      <th>0</th>\n",
       "      <td>review_id</td>\n",
       "      <td>[&lt;class 'str'&gt;]</td>\n",
       "      <td>100.0</td>\n",
       "      <td>0.0</td>\n",
       "      <td>0</td>\n",
       "    </tr>\n",
       "    <tr>\n",
       "      <th>1</th>\n",
       "      <td>user_id</td>\n",
       "      <td>[&lt;class 'str'&gt;]</td>\n",
       "      <td>100.0</td>\n",
       "      <td>0.0</td>\n",
       "      <td>0</td>\n",
       "    </tr>\n",
       "    <tr>\n",
       "      <th>2</th>\n",
       "      <td>business_id</td>\n",
       "      <td>[&lt;class 'str'&gt;]</td>\n",
       "      <td>100.0</td>\n",
       "      <td>0.0</td>\n",
       "      <td>0</td>\n",
       "    </tr>\n",
       "    <tr>\n",
       "      <th>3</th>\n",
       "      <td>stars</td>\n",
       "      <td>[&lt;class 'float'&gt;]</td>\n",
       "      <td>100.0</td>\n",
       "      <td>0.0</td>\n",
       "      <td>0</td>\n",
       "    </tr>\n",
       "    <tr>\n",
       "      <th>4</th>\n",
       "      <td>text</td>\n",
       "      <td>[&lt;class 'str'&gt;]</td>\n",
       "      <td>100.0</td>\n",
       "      <td>0.0</td>\n",
       "      <td>0</td>\n",
       "    </tr>\n",
       "    <tr>\n",
       "      <th>5</th>\n",
       "      <td>date</td>\n",
       "      <td>[&lt;class 'str'&gt;]</td>\n",
       "      <td>100.0</td>\n",
       "      <td>0.0</td>\n",
       "      <td>0</td>\n",
       "    </tr>\n",
       "  </tbody>\n",
       "</table>\n",
       "</div>"
      ],
      "text/plain": [
       "          Name  Unique Data Types  % of Non-null Values  % of Null Values  \\\n",
       "0    review_id    [<class 'str'>]                 100.0               0.0   \n",
       "1      user_id    [<class 'str'>]                 100.0               0.0   \n",
       "2  business_id    [<class 'str'>]                 100.0               0.0   \n",
       "3        stars  [<class 'float'>]                 100.0               0.0   \n",
       "4         text    [<class 'str'>]                 100.0               0.0   \n",
       "5         date    [<class 'str'>]                 100.0               0.0   \n",
       "\n",
       "   Number of Null Values  \n",
       "0                      0  \n",
       "1                      0  \n",
       "2                      0  \n",
       "3                      0  \n",
       "4                      0  \n",
       "5                      0  "
      ]
     },
     "execution_count": 12,
     "metadata": {},
     "output_type": "execute_result"
    }
   ],
   "source": [
    "T.analyze_data(df_rest_reviews)"
   ]
  },
  {
   "cell_type": "markdown",
   "metadata": {},
   "source": [
    "\"e need to cross-reference the data to perform a join and only keep the reviews of places related to food. This will be done using the business identifier we have in both datasets - the reviews and the business dataset. From now on, we will work with this new dataframe called 'df_rest_reviews'."
   ]
  },
  {
   "cell_type": "code",
   "execution_count": 13,
   "metadata": {},
   "outputs": [
    {
     "data": {
      "text/html": [
       "<div>\n",
       "<style scoped>\n",
       "    .dataframe tbody tr th:only-of-type {\n",
       "        vertical-align: middle;\n",
       "    }\n",
       "\n",
       "    .dataframe tbody tr th {\n",
       "        vertical-align: top;\n",
       "    }\n",
       "\n",
       "    .dataframe thead th {\n",
       "        text-align: right;\n",
       "    }\n",
       "</style>\n",
       "<table border=\"1\" class=\"dataframe\">\n",
       "  <thead>\n",
       "    <tr style=\"text-align: right;\">\n",
       "      <th></th>\n",
       "      <th>business_id</th>\n",
       "      <th>review_id</th>\n",
       "      <th>user_id</th>\n",
       "      <th>stars</th>\n",
       "      <th>text</th>\n",
       "      <th>date</th>\n",
       "    </tr>\n",
       "  </thead>\n",
       "  <tbody>\n",
       "    <tr>\n",
       "      <th>0</th>\n",
       "      <td>MTSW4McQd7CbVtyjqoe9mw</td>\n",
       "      <td>BXQcBN0iAi1lAUxibGLFzA</td>\n",
       "      <td>6_SpY41LIHZuIaiDs5FMKA</td>\n",
       "      <td>4.0</td>\n",
       "      <td>This is nice little Chinese bakery in the hear...</td>\n",
       "      <td>2014-05-26 01:09:53</td>\n",
       "    </tr>\n",
       "    <tr>\n",
       "      <th>1</th>\n",
       "      <td>MTSW4McQd7CbVtyjqoe9mw</td>\n",
       "      <td>uduvUCvi9w3T2bSGivCfXg</td>\n",
       "      <td>tCXElwhzekJEH6QJe3xs7Q</td>\n",
       "      <td>4.0</td>\n",
       "      <td>This is the bakery I usually go to in Chinatow...</td>\n",
       "      <td>2013-10-05 15:19:06</td>\n",
       "    </tr>\n",
       "    <tr>\n",
       "      <th>2</th>\n",
       "      <td>MTSW4McQd7CbVtyjqoe9mw</td>\n",
       "      <td>a0vwPOqDXXZuJkbBW2356g</td>\n",
       "      <td>WqfKtI-aGMmvbA9pPUxNQQ</td>\n",
       "      <td>5.0</td>\n",
       "      <td>A delightful find in Chinatown! Very clean, an...</td>\n",
       "      <td>2013-10-25 01:34:57</td>\n",
       "    </tr>\n",
       "    <tr>\n",
       "      <th>3</th>\n",
       "      <td>MTSW4McQd7CbVtyjqoe9mw</td>\n",
       "      <td>MKNp_CdR2k2202-c8GN5Dw</td>\n",
       "      <td>3-1va0IQfK-9tUMzfHWfTA</td>\n",
       "      <td>5.0</td>\n",
       "      <td>I ordered a graduation cake for my niece and i...</td>\n",
       "      <td>2018-05-20 17:58:57</td>\n",
       "    </tr>\n",
       "    <tr>\n",
       "      <th>4</th>\n",
       "      <td>MTSW4McQd7CbVtyjqoe9mw</td>\n",
       "      <td>D1GisLDPe84Rrk_R4X2brQ</td>\n",
       "      <td>EouCKoDfzaVG0klEgdDvCQ</td>\n",
       "      <td>4.0</td>\n",
       "      <td>HK-STYLE MILK TEA:  FOUR STARS\\n\\nNot quite su...</td>\n",
       "      <td>2013-10-25 02:31:35</td>\n",
       "    </tr>\n",
       "    <tr>\n",
       "      <th>...</th>\n",
       "      <td>...</td>\n",
       "      <td>...</td>\n",
       "      <td>...</td>\n",
       "      <td>...</td>\n",
       "      <td>...</td>\n",
       "      <td>...</td>\n",
       "    </tr>\n",
       "    <tr>\n",
       "      <th>3024653</th>\n",
       "      <td>2O2K6SXPWv56amqxCECd4w</td>\n",
       "      <td>Kt3gFeW1rhZz7RuiV-6Tcw</td>\n",
       "      <td>eWz12w7dzYlfrGnhTQ82Fg</td>\n",
       "      <td>5.0</td>\n",
       "      <td>This is my favorite food truck! I only wish I ...</td>\n",
       "      <td>2019-07-14 14:25:35</td>\n",
       "    </tr>\n",
       "    <tr>\n",
       "      <th>3024654</th>\n",
       "      <td>2O2K6SXPWv56amqxCECd4w</td>\n",
       "      <td>ruy3Ycey_gGbwkE_3TX1Fg</td>\n",
       "      <td>lDyhGApbGZ0_BoeJzRQq7g</td>\n",
       "      <td>5.0</td>\n",
       "      <td>This food truck was stupid. Stupidly delicious...</td>\n",
       "      <td>2021-06-25 23:22:26</td>\n",
       "    </tr>\n",
       "    <tr>\n",
       "      <th>3024655</th>\n",
       "      <td>2O2K6SXPWv56amqxCECd4w</td>\n",
       "      <td>C_l8NTpvNOEUorEmEOusaA</td>\n",
       "      <td>-TTJ75--0NEAjvFCOV7rBg</td>\n",
       "      <td>5.0</td>\n",
       "      <td>Bubba never disappoints i go to his fb page an...</td>\n",
       "      <td>2016-12-09 21:38:05</td>\n",
       "    </tr>\n",
       "    <tr>\n",
       "      <th>3024656</th>\n",
       "      <td>2O2K6SXPWv56amqxCECd4w</td>\n",
       "      <td>q39JOIkHmIhdmYnjEhZCdQ</td>\n",
       "      <td>8yFNNU7UmQcfzmcTvzTlOA</td>\n",
       "      <td>1.0</td>\n",
       "      <td>The truck was invited to our office for a part...</td>\n",
       "      <td>2020-02-19 22:59:06</td>\n",
       "    </tr>\n",
       "    <tr>\n",
       "      <th>3024657</th>\n",
       "      <td>2O2K6SXPWv56amqxCECd4w</td>\n",
       "      <td>ejNwTMv26Hkaj_DHh1Ra0Q</td>\n",
       "      <td>uvBkI-2pOW0gg8yee7YvdA</td>\n",
       "      <td>4.0</td>\n",
       "      <td>Plum Pit came and did my niece's graduation pa...</td>\n",
       "      <td>2021-06-07 02:55:04</td>\n",
       "    </tr>\n",
       "  </tbody>\n",
       "</table>\n",
       "<p>3024658 rows × 6 columns</p>\n",
       "</div>"
      ],
      "text/plain": [
       "                    business_id               review_id  \\\n",
       "0        MTSW4McQd7CbVtyjqoe9mw  BXQcBN0iAi1lAUxibGLFzA   \n",
       "1        MTSW4McQd7CbVtyjqoe9mw  uduvUCvi9w3T2bSGivCfXg   \n",
       "2        MTSW4McQd7CbVtyjqoe9mw  a0vwPOqDXXZuJkbBW2356g   \n",
       "3        MTSW4McQd7CbVtyjqoe9mw  MKNp_CdR2k2202-c8GN5Dw   \n",
       "4        MTSW4McQd7CbVtyjqoe9mw  D1GisLDPe84Rrk_R4X2brQ   \n",
       "...                         ...                     ...   \n",
       "3024653  2O2K6SXPWv56amqxCECd4w  Kt3gFeW1rhZz7RuiV-6Tcw   \n",
       "3024654  2O2K6SXPWv56amqxCECd4w  ruy3Ycey_gGbwkE_3TX1Fg   \n",
       "3024655  2O2K6SXPWv56amqxCECd4w  C_l8NTpvNOEUorEmEOusaA   \n",
       "3024656  2O2K6SXPWv56amqxCECd4w  q39JOIkHmIhdmYnjEhZCdQ   \n",
       "3024657  2O2K6SXPWv56amqxCECd4w  ejNwTMv26Hkaj_DHh1Ra0Q   \n",
       "\n",
       "                        user_id  stars  \\\n",
       "0        6_SpY41LIHZuIaiDs5FMKA    4.0   \n",
       "1        tCXElwhzekJEH6QJe3xs7Q    4.0   \n",
       "2        WqfKtI-aGMmvbA9pPUxNQQ    5.0   \n",
       "3        3-1va0IQfK-9tUMzfHWfTA    5.0   \n",
       "4        EouCKoDfzaVG0klEgdDvCQ    4.0   \n",
       "...                         ...    ...   \n",
       "3024653  eWz12w7dzYlfrGnhTQ82Fg    5.0   \n",
       "3024654  lDyhGApbGZ0_BoeJzRQq7g    5.0   \n",
       "3024655  -TTJ75--0NEAjvFCOV7rBg    5.0   \n",
       "3024656  8yFNNU7UmQcfzmcTvzTlOA    1.0   \n",
       "3024657  uvBkI-2pOW0gg8yee7YvdA    4.0   \n",
       "\n",
       "                                                      text  \\\n",
       "0        This is nice little Chinese bakery in the hear...   \n",
       "1        This is the bakery I usually go to in Chinatow...   \n",
       "2        A delightful find in Chinatown! Very clean, an...   \n",
       "3        I ordered a graduation cake for my niece and i...   \n",
       "4        HK-STYLE MILK TEA:  FOUR STARS\\n\\nNot quite su...   \n",
       "...                                                    ...   \n",
       "3024653  This is my favorite food truck! I only wish I ...   \n",
       "3024654  This food truck was stupid. Stupidly delicious...   \n",
       "3024655  Bubba never disappoints i go to his fb page an...   \n",
       "3024656  The truck was invited to our office for a part...   \n",
       "3024657  Plum Pit came and did my niece's graduation pa...   \n",
       "\n",
       "                        date  \n",
       "0        2014-05-26 01:09:53  \n",
       "1        2013-10-05 15:19:06  \n",
       "2        2013-10-25 01:34:57  \n",
       "3        2018-05-20 17:58:57  \n",
       "4        2013-10-25 02:31:35  \n",
       "...                      ...  \n",
       "3024653  2019-07-14 14:25:35  \n",
       "3024654  2021-06-25 23:22:26  \n",
       "3024655  2016-12-09 21:38:05  \n",
       "3024656  2020-02-19 22:59:06  \n",
       "3024657  2021-06-07 02:55:04  \n",
       "\n",
       "[3024658 rows x 6 columns]"
      ]
     },
     "execution_count": 13,
     "metadata": {},
     "output_type": "execute_result"
    }
   ],
   "source": [
    "df_rest = pd.read_parquet('df_business.parquet')\n",
    "df_rest2 = df_rest[['business_id']]\n",
    "df_rest_reviews = pd.merge(df_rest2,df_rest_reviews,how='inner',on='business_id')\n",
    "df_rest_reviews"
   ]
  },
  {
   "cell_type": "markdown",
   "metadata": {},
   "source": [
    "Now, we can check again for null values and determine the data types present in each column."
   ]
  },
  {
   "cell_type": "code",
   "execution_count": 14,
   "metadata": {},
   "outputs": [
    {
     "data": {
      "text/html": [
       "<div>\n",
       "<style scoped>\n",
       "    .dataframe tbody tr th:only-of-type {\n",
       "        vertical-align: middle;\n",
       "    }\n",
       "\n",
       "    .dataframe tbody tr th {\n",
       "        vertical-align: top;\n",
       "    }\n",
       "\n",
       "    .dataframe thead th {\n",
       "        text-align: right;\n",
       "    }\n",
       "</style>\n",
       "<table border=\"1\" class=\"dataframe\">\n",
       "  <thead>\n",
       "    <tr style=\"text-align: right;\">\n",
       "      <th></th>\n",
       "      <th>Name</th>\n",
       "      <th>Unique Data Types</th>\n",
       "      <th>% of Non-null Values</th>\n",
       "      <th>% of Null Values</th>\n",
       "      <th>Number of Null Values</th>\n",
       "    </tr>\n",
       "  </thead>\n",
       "  <tbody>\n",
       "    <tr>\n",
       "      <th>0</th>\n",
       "      <td>business_id</td>\n",
       "      <td>[&lt;class 'str'&gt;]</td>\n",
       "      <td>100.0</td>\n",
       "      <td>0.0</td>\n",
       "      <td>0</td>\n",
       "    </tr>\n",
       "    <tr>\n",
       "      <th>1</th>\n",
       "      <td>review_id</td>\n",
       "      <td>[&lt;class 'str'&gt;]</td>\n",
       "      <td>100.0</td>\n",
       "      <td>0.0</td>\n",
       "      <td>0</td>\n",
       "    </tr>\n",
       "    <tr>\n",
       "      <th>2</th>\n",
       "      <td>user_id</td>\n",
       "      <td>[&lt;class 'str'&gt;]</td>\n",
       "      <td>100.0</td>\n",
       "      <td>0.0</td>\n",
       "      <td>0</td>\n",
       "    </tr>\n",
       "    <tr>\n",
       "      <th>3</th>\n",
       "      <td>stars</td>\n",
       "      <td>[&lt;class 'float'&gt;]</td>\n",
       "      <td>100.0</td>\n",
       "      <td>0.0</td>\n",
       "      <td>0</td>\n",
       "    </tr>\n",
       "    <tr>\n",
       "      <th>4</th>\n",
       "      <td>text</td>\n",
       "      <td>[&lt;class 'str'&gt;]</td>\n",
       "      <td>100.0</td>\n",
       "      <td>0.0</td>\n",
       "      <td>0</td>\n",
       "    </tr>\n",
       "    <tr>\n",
       "      <th>5</th>\n",
       "      <td>date</td>\n",
       "      <td>[&lt;class 'str'&gt;]</td>\n",
       "      <td>100.0</td>\n",
       "      <td>0.0</td>\n",
       "      <td>0</td>\n",
       "    </tr>\n",
       "  </tbody>\n",
       "</table>\n",
       "</div>"
      ],
      "text/plain": [
       "          Name  Unique Data Types  % of Non-null Values  % of Null Values  \\\n",
       "0  business_id    [<class 'str'>]                 100.0               0.0   \n",
       "1    review_id    [<class 'str'>]                 100.0               0.0   \n",
       "2      user_id    [<class 'str'>]                 100.0               0.0   \n",
       "3        stars  [<class 'float'>]                 100.0               0.0   \n",
       "4         text    [<class 'str'>]                 100.0               0.0   \n",
       "5         date    [<class 'str'>]                 100.0               0.0   \n",
       "\n",
       "   Number of Null Values  \n",
       "0                      0  \n",
       "1                      0  \n",
       "2                      0  \n",
       "3                      0  \n",
       "4                      0  \n",
       "5                      0  "
      ]
     },
     "execution_count": 14,
     "metadata": {},
     "output_type": "execute_result"
    }
   ],
   "source": [
    "T.analyze_data(df_rest_reviews)"
   ]
  },
  {
   "cell_type": "markdown",
   "metadata": {},
   "source": [
    "## Column ``Date``"
   ]
  },
  {
   "cell_type": "markdown",
   "metadata": {},
   "source": [
    "It was observed that we have a column with hours and dates in string format. Therefore, the pandas library was used to handle it and convert it to a date format (datetime). pandas was chosen for its versatility compared to standard Python functions."
   ]
  },
  {
   "cell_type": "code",
   "execution_count": 15,
   "metadata": {},
   "outputs": [
    {
     "data": {
      "text/html": [
       "<div>\n",
       "<style scoped>\n",
       "    .dataframe tbody tr th:only-of-type {\n",
       "        vertical-align: middle;\n",
       "    }\n",
       "\n",
       "    .dataframe tbody tr th {\n",
       "        vertical-align: top;\n",
       "    }\n",
       "\n",
       "    .dataframe thead th {\n",
       "        text-align: right;\n",
       "    }\n",
       "</style>\n",
       "<table border=\"1\" class=\"dataframe\">\n",
       "  <thead>\n",
       "    <tr style=\"text-align: right;\">\n",
       "      <th></th>\n",
       "      <th>business_id</th>\n",
       "      <th>review_id</th>\n",
       "      <th>user_id</th>\n",
       "      <th>stars</th>\n",
       "      <th>text</th>\n",
       "      <th>date</th>\n",
       "    </tr>\n",
       "  </thead>\n",
       "  <tbody>\n",
       "    <tr>\n",
       "      <th>0</th>\n",
       "      <td>MTSW4McQd7CbVtyjqoe9mw</td>\n",
       "      <td>BXQcBN0iAi1lAUxibGLFzA</td>\n",
       "      <td>6_SpY41LIHZuIaiDs5FMKA</td>\n",
       "      <td>4.0</td>\n",
       "      <td>This is nice little Chinese bakery in the hear...</td>\n",
       "      <td>2014-05-26 01:09:53</td>\n",
       "    </tr>\n",
       "    <tr>\n",
       "      <th>1</th>\n",
       "      <td>MTSW4McQd7CbVtyjqoe9mw</td>\n",
       "      <td>uduvUCvi9w3T2bSGivCfXg</td>\n",
       "      <td>tCXElwhzekJEH6QJe3xs7Q</td>\n",
       "      <td>4.0</td>\n",
       "      <td>This is the bakery I usually go to in Chinatow...</td>\n",
       "      <td>2013-10-05 15:19:06</td>\n",
       "    </tr>\n",
       "    <tr>\n",
       "      <th>2</th>\n",
       "      <td>MTSW4McQd7CbVtyjqoe9mw</td>\n",
       "      <td>a0vwPOqDXXZuJkbBW2356g</td>\n",
       "      <td>WqfKtI-aGMmvbA9pPUxNQQ</td>\n",
       "      <td>5.0</td>\n",
       "      <td>A delightful find in Chinatown! Very clean, an...</td>\n",
       "      <td>2013-10-25 01:34:57</td>\n",
       "    </tr>\n",
       "    <tr>\n",
       "      <th>3</th>\n",
       "      <td>MTSW4McQd7CbVtyjqoe9mw</td>\n",
       "      <td>MKNp_CdR2k2202-c8GN5Dw</td>\n",
       "      <td>3-1va0IQfK-9tUMzfHWfTA</td>\n",
       "      <td>5.0</td>\n",
       "      <td>I ordered a graduation cake for my niece and i...</td>\n",
       "      <td>2018-05-20 17:58:57</td>\n",
       "    </tr>\n",
       "    <tr>\n",
       "      <th>4</th>\n",
       "      <td>MTSW4McQd7CbVtyjqoe9mw</td>\n",
       "      <td>D1GisLDPe84Rrk_R4X2brQ</td>\n",
       "      <td>EouCKoDfzaVG0klEgdDvCQ</td>\n",
       "      <td>4.0</td>\n",
       "      <td>HK-STYLE MILK TEA:  FOUR STARS\\n\\nNot quite su...</td>\n",
       "      <td>2013-10-25 02:31:35</td>\n",
       "    </tr>\n",
       "    <tr>\n",
       "      <th>...</th>\n",
       "      <td>...</td>\n",
       "      <td>...</td>\n",
       "      <td>...</td>\n",
       "      <td>...</td>\n",
       "      <td>...</td>\n",
       "      <td>...</td>\n",
       "    </tr>\n",
       "    <tr>\n",
       "      <th>3024653</th>\n",
       "      <td>2O2K6SXPWv56amqxCECd4w</td>\n",
       "      <td>Kt3gFeW1rhZz7RuiV-6Tcw</td>\n",
       "      <td>eWz12w7dzYlfrGnhTQ82Fg</td>\n",
       "      <td>5.0</td>\n",
       "      <td>This is my favorite food truck! I only wish I ...</td>\n",
       "      <td>2019-07-14 14:25:35</td>\n",
       "    </tr>\n",
       "    <tr>\n",
       "      <th>3024654</th>\n",
       "      <td>2O2K6SXPWv56amqxCECd4w</td>\n",
       "      <td>ruy3Ycey_gGbwkE_3TX1Fg</td>\n",
       "      <td>lDyhGApbGZ0_BoeJzRQq7g</td>\n",
       "      <td>5.0</td>\n",
       "      <td>This food truck was stupid. Stupidly delicious...</td>\n",
       "      <td>2021-06-25 23:22:26</td>\n",
       "    </tr>\n",
       "    <tr>\n",
       "      <th>3024655</th>\n",
       "      <td>2O2K6SXPWv56amqxCECd4w</td>\n",
       "      <td>C_l8NTpvNOEUorEmEOusaA</td>\n",
       "      <td>-TTJ75--0NEAjvFCOV7rBg</td>\n",
       "      <td>5.0</td>\n",
       "      <td>Bubba never disappoints i go to his fb page an...</td>\n",
       "      <td>2016-12-09 21:38:05</td>\n",
       "    </tr>\n",
       "    <tr>\n",
       "      <th>3024656</th>\n",
       "      <td>2O2K6SXPWv56amqxCECd4w</td>\n",
       "      <td>q39JOIkHmIhdmYnjEhZCdQ</td>\n",
       "      <td>8yFNNU7UmQcfzmcTvzTlOA</td>\n",
       "      <td>1.0</td>\n",
       "      <td>The truck was invited to our office for a part...</td>\n",
       "      <td>2020-02-19 22:59:06</td>\n",
       "    </tr>\n",
       "    <tr>\n",
       "      <th>3024657</th>\n",
       "      <td>2O2K6SXPWv56amqxCECd4w</td>\n",
       "      <td>ejNwTMv26Hkaj_DHh1Ra0Q</td>\n",
       "      <td>uvBkI-2pOW0gg8yee7YvdA</td>\n",
       "      <td>4.0</td>\n",
       "      <td>Plum Pit came and did my niece's graduation pa...</td>\n",
       "      <td>2021-06-07 02:55:04</td>\n",
       "    </tr>\n",
       "  </tbody>\n",
       "</table>\n",
       "<p>3024658 rows × 6 columns</p>\n",
       "</div>"
      ],
      "text/plain": [
       "                    business_id               review_id  \\\n",
       "0        MTSW4McQd7CbVtyjqoe9mw  BXQcBN0iAi1lAUxibGLFzA   \n",
       "1        MTSW4McQd7CbVtyjqoe9mw  uduvUCvi9w3T2bSGivCfXg   \n",
       "2        MTSW4McQd7CbVtyjqoe9mw  a0vwPOqDXXZuJkbBW2356g   \n",
       "3        MTSW4McQd7CbVtyjqoe9mw  MKNp_CdR2k2202-c8GN5Dw   \n",
       "4        MTSW4McQd7CbVtyjqoe9mw  D1GisLDPe84Rrk_R4X2brQ   \n",
       "...                         ...                     ...   \n",
       "3024653  2O2K6SXPWv56amqxCECd4w  Kt3gFeW1rhZz7RuiV-6Tcw   \n",
       "3024654  2O2K6SXPWv56amqxCECd4w  ruy3Ycey_gGbwkE_3TX1Fg   \n",
       "3024655  2O2K6SXPWv56amqxCECd4w  C_l8NTpvNOEUorEmEOusaA   \n",
       "3024656  2O2K6SXPWv56amqxCECd4w  q39JOIkHmIhdmYnjEhZCdQ   \n",
       "3024657  2O2K6SXPWv56amqxCECd4w  ejNwTMv26Hkaj_DHh1Ra0Q   \n",
       "\n",
       "                        user_id  stars  \\\n",
       "0        6_SpY41LIHZuIaiDs5FMKA    4.0   \n",
       "1        tCXElwhzekJEH6QJe3xs7Q    4.0   \n",
       "2        WqfKtI-aGMmvbA9pPUxNQQ    5.0   \n",
       "3        3-1va0IQfK-9tUMzfHWfTA    5.0   \n",
       "4        EouCKoDfzaVG0klEgdDvCQ    4.0   \n",
       "...                         ...    ...   \n",
       "3024653  eWz12w7dzYlfrGnhTQ82Fg    5.0   \n",
       "3024654  lDyhGApbGZ0_BoeJzRQq7g    5.0   \n",
       "3024655  -TTJ75--0NEAjvFCOV7rBg    5.0   \n",
       "3024656  8yFNNU7UmQcfzmcTvzTlOA    1.0   \n",
       "3024657  uvBkI-2pOW0gg8yee7YvdA    4.0   \n",
       "\n",
       "                                                      text                date  \n",
       "0        This is nice little Chinese bakery in the hear... 2014-05-26 01:09:53  \n",
       "1        This is the bakery I usually go to in Chinatow... 2013-10-05 15:19:06  \n",
       "2        A delightful find in Chinatown! Very clean, an... 2013-10-25 01:34:57  \n",
       "3        I ordered a graduation cake for my niece and i... 2018-05-20 17:58:57  \n",
       "4        HK-STYLE MILK TEA:  FOUR STARS\\n\\nNot quite su... 2013-10-25 02:31:35  \n",
       "...                                                    ...                 ...  \n",
       "3024653  This is my favorite food truck! I only wish I ... 2019-07-14 14:25:35  \n",
       "3024654  This food truck was stupid. Stupidly delicious... 2021-06-25 23:22:26  \n",
       "3024655  Bubba never disappoints i go to his fb page an... 2016-12-09 21:38:05  \n",
       "3024656  The truck was invited to our office for a part... 2020-02-19 22:59:06  \n",
       "3024657  Plum Pit came and did my niece's graduation pa... 2021-06-07 02:55:04  \n",
       "\n",
       "[3024658 rows x 6 columns]"
      ]
     },
     "execution_count": 15,
     "metadata": {},
     "output_type": "execute_result"
    }
   ],
   "source": [
    "df_rest_reviews['date'] = pd.to_datetime(df_rest_reviews['date'],format='%Y-%m-%d %H:%M:%S')\n",
    "df_rest_reviews"
   ]
  },
  {
   "cell_type": "markdown",
   "metadata": {},
   "source": [
    "## Column ``review_id``"
   ]
  },
  {
   "cell_type": "markdown",
   "metadata": {},
   "source": [
    "We will start by searching for null values using a function from our custom module."
   ]
  },
  {
   "cell_type": "code",
   "execution_count": 16,
   "metadata": {},
   "outputs": [
    {
     "name": "stdout",
     "output_type": "stream",
     "text": [
      "The column \"review_id\" does not have nulls\n"
     ]
    },
    {
     "data": {
      "text/html": [
       "<div>\n",
       "<style scoped>\n",
       "    .dataframe tbody tr th:only-of-type {\n",
       "        vertical-align: middle;\n",
       "    }\n",
       "\n",
       "    .dataframe tbody tr th {\n",
       "        vertical-align: top;\n",
       "    }\n",
       "\n",
       "    .dataframe thead th {\n",
       "        text-align: right;\n",
       "    }\n",
       "</style>\n",
       "<table border=\"1\" class=\"dataframe\">\n",
       "  <thead>\n",
       "    <tr style=\"text-align: right;\">\n",
       "      <th></th>\n",
       "      <th>business_id</th>\n",
       "      <th>review_id</th>\n",
       "      <th>user_id</th>\n",
       "      <th>stars</th>\n",
       "      <th>text</th>\n",
       "      <th>date</th>\n",
       "    </tr>\n",
       "  </thead>\n",
       "  <tbody>\n",
       "  </tbody>\n",
       "</table>\n",
       "</div>"
      ],
      "text/plain": [
       "Empty DataFrame\n",
       "Columns: [business_id, review_id, user_id, stars, text, date]\n",
       "Index: []"
      ]
     },
     "execution_count": 16,
     "metadata": {},
     "output_type": "execute_result"
    }
   ],
   "source": [
    "T.nulls(df_rest_reviews,'review_id')"
   ]
  },
  {
   "cell_type": "markdown",
   "metadata": {},
   "source": [
    "We are going to check if there are any empty records."
   ]
  },
  {
   "cell_type": "code",
   "execution_count": 17,
   "metadata": {},
   "outputs": [
    {
     "name": "stdout",
     "output_type": "stream",
     "text": [
      "The column \"review_id\" does not have empty values\n"
     ]
    }
   ],
   "source": [
    "T.empty_values(df_rest_reviews,'review_id')"
   ]
  },
  {
   "cell_type": "markdown",
   "metadata": {},
   "source": [
    "We are going to check if there are any duplicate data."
   ]
  },
  {
   "cell_type": "code",
   "execution_count": 18,
   "metadata": {},
   "outputs": [
    {
     "data": {
      "text/html": [
       "<div>\n",
       "<style scoped>\n",
       "    .dataframe tbody tr th:only-of-type {\n",
       "        vertical-align: middle;\n",
       "    }\n",
       "\n",
       "    .dataframe tbody tr th {\n",
       "        vertical-align: top;\n",
       "    }\n",
       "\n",
       "    .dataframe thead th {\n",
       "        text-align: right;\n",
       "    }\n",
       "</style>\n",
       "<table border=\"1\" class=\"dataframe\">\n",
       "  <thead>\n",
       "    <tr style=\"text-align: right;\">\n",
       "      <th></th>\n",
       "      <th>business_id</th>\n",
       "      <th>review_id</th>\n",
       "      <th>user_id</th>\n",
       "      <th>stars</th>\n",
       "      <th>text</th>\n",
       "      <th>date</th>\n",
       "    </tr>\n",
       "  </thead>\n",
       "  <tbody>\n",
       "  </tbody>\n",
       "</table>\n",
       "</div>"
      ],
      "text/plain": [
       "Empty DataFrame\n",
       "Columns: [business_id, review_id, user_id, stars, text, date]\n",
       "Index: []"
      ]
     },
     "execution_count": 18,
     "metadata": {},
     "output_type": "execute_result"
    }
   ],
   "source": [
    "T.duplicates(df_rest_reviews)"
   ]
  },
  {
   "cell_type": "markdown",
   "metadata": {},
   "source": [
    "We observe that, by not finding duplicates, we can conclude that there is no user who has made more than one review for the same place. Additionally, there are no empty or null values, indicating that the information is complete and consistent."
   ]
  },
  {
   "cell_type": "markdown",
   "metadata": {},
   "source": [
    "## Column ``text``"
   ]
  },
  {
   "cell_type": "markdown",
   "metadata": {},
   "source": [
    "We will start by searching for null values using a function from our custom module."
   ]
  },
  {
   "cell_type": "code",
   "execution_count": 19,
   "metadata": {},
   "outputs": [
    {
     "name": "stdout",
     "output_type": "stream",
     "text": [
      "The column \"text\" does not have nulls\n"
     ]
    },
    {
     "data": {
      "text/html": [
       "<div>\n",
       "<style scoped>\n",
       "    .dataframe tbody tr th:only-of-type {\n",
       "        vertical-align: middle;\n",
       "    }\n",
       "\n",
       "    .dataframe tbody tr th {\n",
       "        vertical-align: top;\n",
       "    }\n",
       "\n",
       "    .dataframe thead th {\n",
       "        text-align: right;\n",
       "    }\n",
       "</style>\n",
       "<table border=\"1\" class=\"dataframe\">\n",
       "  <thead>\n",
       "    <tr style=\"text-align: right;\">\n",
       "      <th></th>\n",
       "      <th>business_id</th>\n",
       "      <th>review_id</th>\n",
       "      <th>user_id</th>\n",
       "      <th>stars</th>\n",
       "      <th>text</th>\n",
       "      <th>date</th>\n",
       "    </tr>\n",
       "  </thead>\n",
       "  <tbody>\n",
       "  </tbody>\n",
       "</table>\n",
       "</div>"
      ],
      "text/plain": [
       "Empty DataFrame\n",
       "Columns: [business_id, review_id, user_id, stars, text, date]\n",
       "Index: []"
      ]
     },
     "execution_count": 19,
     "metadata": {},
     "output_type": "execute_result"
    }
   ],
   "source": [
    "T.nulls(df_rest_reviews,'text')"
   ]
  },
  {
   "cell_type": "markdown",
   "metadata": {},
   "source": [
    "We are going to check if there are any empty records."
   ]
  },
  {
   "cell_type": "code",
   "execution_count": 20,
   "metadata": {},
   "outputs": [
    {
     "name": "stdout",
     "output_type": "stream",
     "text": [
      "The column \"text\" does not have empty values\n"
     ]
    }
   ],
   "source": [
    "T.empty_values(df_rest_reviews,'text')"
   ]
  },
  {
   "cell_type": "markdown",
   "metadata": {},
   "source": [
    "Some comments are repeated up to 10 times, as shown for visualization purposes."
   ]
  },
  {
   "cell_type": "code",
   "execution_count": 21,
   "metadata": {},
   "outputs": [
    {
     "data": {
      "text/plain": [
       "text\n",
       "DO NOT PARK HERE!\\nthey are too quick to boot you!\\n$144 to remove a boot.\\nIf you lose track of time (a normal affair in New Orleans, having fun) and even if (like I did) you add time, they get you in between!!!!\\nAVOID ALL PREMIUM PARKING LOTS!!\\nThere are so many other options near by!\\nTrust me!                                                                                                                                                                                                                                                                                                                                                                                                                                                                                                                                                                                                                                                                                                                                                                                                                                                                                                                                                                                                                                                                                                                                                                                                                                                                     10\n",
       "I had a terrible experience with the customer service side of Club Fitness.  I was in St. Louis for 2 months this summer for my job, and I joined for those dates.  The gym stipulates when you join that should you like to cancel, you need to do so online and 30 days before you are charged again.  I knew when I would be leaving, so I put this in my calendar, and made sure to cancel on time.  I followed through with this and double-checked on my last day by going up to the counter, asking them to make sure my account was cancelled, and they said everything looked good.  \\n\\nI got back to my home in Illinois, and have been charged every month since leaving.  I called customer service, completely confused as to why I have been charged.  They claim that they have no recollection of my cancellation online, and therefore will not reimburse me.  Additionally, I asked right then and there to cancel my account immediately, they said, \"You must cancel online only, we can't do it over the phone.\"  Which probably means I will be charged again, since I need to give 30 days notice.  UNBELIEVABLE.  The confirmation email from my original cancellation no longer exists (why would it, because the gym confirmed it with me on my last day at the gym) so I have no proof that I cancelled.  It is their word against mine.  \\n\\nI had a nice time working out at the gym, but I have NEVER had to deal with such bad customer service in my life.  I am out a lot of money, and it was never my fault.  I say to you: stay away!!!!     7\n",
       "We have been coming here for breakfast and it is good and the service has been fine. The dinners are very disappointing and will not be back and rather go elsewhere for dinner. I would give it a five star rating for breakfast but will give it a 3 star overall since we have had poor dinners lately!!!  The waitress staff and help is nice !!! We tried it again and won't be back for dinners or lunches. Breakfast is fine                                                                                                                                                                                                                                                                                                                                                                                                                                                                                                                                                                                                                                                                                                                                                                                                                                                                                                                                                                                                                                                                                                                                               6\n",
       "The regretful furniture purchased ever from Ethan Allen Reno, Nevada . \\nThe fabric pillows and cushion  are not comfortable. The pillows filler (inserts) was not full and fluffy. They looks to have been designed by an inexperienced craftsman. \\nThis $8000.00+ sofa and three bar stools purchase needs redoing. Susanne was my salesman interior representative. She did not deliver  classic and comfort design I was expecting to receive.\\nUnsatisfied customer!!!                                                                                                                                                                                                                                                                                                                                                                                                                                                                                                                                                                                                                                                                                                                                                                                                                                                                                                                                                                                                                                                                                                      6\n",
       "We had mistakenly been short paying our car loan by a whopping $1.83 per month... Totally our fault. BUT, instead of calling all of our contact numbers or sending us a letter, SSFCU reports this to the credit bureaus and dings my wife's and my credit by 100 points. When called about this, they said \"not our fault\".  I will be ending my relationship as soon as I can, and I will go with a credit union that care enough to call/mail about things like this before killing my credit. A little human touch vs. automated calling would have solved this.  All for $1.83/month...nice customer service!                                                                                                                                                                                                                                                                                                                                                                                                                                                                                                                                                                                                                                                                                                                                                                                                                                                                                                                                                                5\n",
       "Name: count, dtype: int64"
      ]
     },
     "execution_count": 21,
     "metadata": {},
     "output_type": "execute_result"
    }
   ],
   "source": [
    "df_rest_reviews['text'].value_counts().head()"
   ]
  },
  {
   "cell_type": "markdown",
   "metadata": {},
   "source": [
    "## Column ``stars``"
   ]
  },
  {
   "cell_type": "markdown",
   "metadata": {},
   "source": [
    "We will start by searching for null values using a function from our custom module."
   ]
  },
  {
   "cell_type": "code",
   "execution_count": 22,
   "metadata": {},
   "outputs": [
    {
     "name": "stdout",
     "output_type": "stream",
     "text": [
      "The column \"stars\" does not have nulls\n"
     ]
    },
    {
     "data": {
      "text/html": [
       "<div>\n",
       "<style scoped>\n",
       "    .dataframe tbody tr th:only-of-type {\n",
       "        vertical-align: middle;\n",
       "    }\n",
       "\n",
       "    .dataframe tbody tr th {\n",
       "        vertical-align: top;\n",
       "    }\n",
       "\n",
       "    .dataframe thead th {\n",
       "        text-align: right;\n",
       "    }\n",
       "</style>\n",
       "<table border=\"1\" class=\"dataframe\">\n",
       "  <thead>\n",
       "    <tr style=\"text-align: right;\">\n",
       "      <th></th>\n",
       "      <th>business_id</th>\n",
       "      <th>review_id</th>\n",
       "      <th>user_id</th>\n",
       "      <th>stars</th>\n",
       "      <th>text</th>\n",
       "      <th>date</th>\n",
       "    </tr>\n",
       "  </thead>\n",
       "  <tbody>\n",
       "  </tbody>\n",
       "</table>\n",
       "</div>"
      ],
      "text/plain": [
       "Empty DataFrame\n",
       "Columns: [business_id, review_id, user_id, stars, text, date]\n",
       "Index: []"
      ]
     },
     "execution_count": 22,
     "metadata": {},
     "output_type": "execute_result"
    }
   ],
   "source": [
    "T.nulls(df_rest_reviews,'stars')"
   ]
  },
  {
   "cell_type": "markdown",
   "metadata": {},
   "source": [
    "We are going to check if there are any empty records."
   ]
  },
  {
   "cell_type": "code",
   "execution_count": 23,
   "metadata": {},
   "outputs": [
    {
     "name": "stdout",
     "output_type": "stream",
     "text": [
      "The column \"stars\" does not have empty values\n"
     ]
    }
   ],
   "source": [
    "T.empty_values(df_rest_reviews,'stars')"
   ]
  },
  {
   "cell_type": "markdown",
   "metadata": {},
   "source": [
    "It can be observed that the vast majority tends to rate restaurants with 5 stars. This is presented for visualization purposes."
   ]
  },
  {
   "cell_type": "code",
   "execution_count": 24,
   "metadata": {},
   "outputs": [
    {
     "name": "stdout",
     "output_type": "stream",
     "text": [
      "The values of stars:\n",
      "5.0    1393524\n",
      "4.0     631449\n",
      "1.0     462985\n",
      "3.0     300476\n",
      "2.0     236224\n",
      "\n",
      "The percentage that each value represents:\n",
      "5.0    46.07\n",
      "4.0    20.88\n",
      "1.0    15.31\n",
      "3.0     9.93\n",
      "2.0     7.81\n"
     ]
    }
   ],
   "source": [
    "T.count_and_percentage(df_rest_reviews,'stars')"
   ]
  },
  {
   "cell_type": "markdown",
   "metadata": {},
   "source": [
    "## Column ``business_id``"
   ]
  },
  {
   "cell_type": "markdown",
   "metadata": {},
   "source": [
    "We will start by searching for null values using a function from our custom module."
   ]
  },
  {
   "cell_type": "code",
   "execution_count": 25,
   "metadata": {},
   "outputs": [
    {
     "name": "stdout",
     "output_type": "stream",
     "text": [
      "The column \"business_id\" does not have nulls\n"
     ]
    },
    {
     "data": {
      "text/html": [
       "<div>\n",
       "<style scoped>\n",
       "    .dataframe tbody tr th:only-of-type {\n",
       "        vertical-align: middle;\n",
       "    }\n",
       "\n",
       "    .dataframe tbody tr th {\n",
       "        vertical-align: top;\n",
       "    }\n",
       "\n",
       "    .dataframe thead th {\n",
       "        text-align: right;\n",
       "    }\n",
       "</style>\n",
       "<table border=\"1\" class=\"dataframe\">\n",
       "  <thead>\n",
       "    <tr style=\"text-align: right;\">\n",
       "      <th></th>\n",
       "      <th>business_id</th>\n",
       "      <th>review_id</th>\n",
       "      <th>user_id</th>\n",
       "      <th>stars</th>\n",
       "      <th>text</th>\n",
       "      <th>date</th>\n",
       "    </tr>\n",
       "  </thead>\n",
       "  <tbody>\n",
       "  </tbody>\n",
       "</table>\n",
       "</div>"
      ],
      "text/plain": [
       "Empty DataFrame\n",
       "Columns: [business_id, review_id, user_id, stars, text, date]\n",
       "Index: []"
      ]
     },
     "execution_count": 25,
     "metadata": {},
     "output_type": "execute_result"
    }
   ],
   "source": [
    "T.nulls(df_rest_reviews,'business_id')"
   ]
  },
  {
   "cell_type": "markdown",
   "metadata": {},
   "source": [
    "We are going to check if there are any empty records."
   ]
  },
  {
   "cell_type": "code",
   "execution_count": 26,
   "metadata": {},
   "outputs": [
    {
     "name": "stdout",
     "output_type": "stream",
     "text": [
      "The column \"business_id\" does not have empty values\n"
     ]
    }
   ],
   "source": [
    "T.empty_values(df_rest_reviews,'business_id')"
   ]
  },
  {
   "cell_type": "markdown",
   "metadata": {},
   "source": [
    "It can be observed that the top five businesses have more than five thousand and up to over seven thousand reviews by customers. These data are presented for visualization purposes."
   ]
  },
  {
   "cell_type": "code",
   "execution_count": 27,
   "metadata": {},
   "outputs": [
    {
     "data": {
      "text/plain": [
       "business_id\n",
       "ac1AeYqs8Z4_e2X5M3if2A    7516\n",
       "ytynqOUb3hjKeJfRj5Tshw    5778\n",
       "oBNrLz4EDhiscSlbOl8uAw    5264\n",
       "_C7QiQQc47AOEv4PE3Kong    4969\n",
       "GBTPC53ZrG1ZBY3DT8Mbcw    4661\n",
       "Name: count, dtype: int64"
      ]
     },
     "execution_count": 27,
     "metadata": {},
     "output_type": "execute_result"
    }
   ],
   "source": [
    "df_rest_reviews['business_id'].value_counts().head()"
   ]
  },
  {
   "cell_type": "markdown",
   "metadata": {},
   "source": [
    "## Column ``user_id``"
   ]
  },
  {
   "cell_type": "markdown",
   "metadata": {},
   "source": [
    "We will start by searching for null values using a function from our custom module."
   ]
  },
  {
   "cell_type": "code",
   "execution_count": 28,
   "metadata": {},
   "outputs": [
    {
     "name": "stdout",
     "output_type": "stream",
     "text": [
      "The column \"user_id\" does not have nulls\n"
     ]
    },
    {
     "data": {
      "text/html": [
       "<div>\n",
       "<style scoped>\n",
       "    .dataframe tbody tr th:only-of-type {\n",
       "        vertical-align: middle;\n",
       "    }\n",
       "\n",
       "    .dataframe tbody tr th {\n",
       "        vertical-align: top;\n",
       "    }\n",
       "\n",
       "    .dataframe thead th {\n",
       "        text-align: right;\n",
       "    }\n",
       "</style>\n",
       "<table border=\"1\" class=\"dataframe\">\n",
       "  <thead>\n",
       "    <tr style=\"text-align: right;\">\n",
       "      <th></th>\n",
       "      <th>business_id</th>\n",
       "      <th>review_id</th>\n",
       "      <th>user_id</th>\n",
       "      <th>stars</th>\n",
       "      <th>text</th>\n",
       "      <th>date</th>\n",
       "    </tr>\n",
       "  </thead>\n",
       "  <tbody>\n",
       "  </tbody>\n",
       "</table>\n",
       "</div>"
      ],
      "text/plain": [
       "Empty DataFrame\n",
       "Columns: [business_id, review_id, user_id, stars, text, date]\n",
       "Index: []"
      ]
     },
     "execution_count": 28,
     "metadata": {},
     "output_type": "execute_result"
    }
   ],
   "source": [
    "T.nulls(df_rest_reviews,'user_id')"
   ]
  },
  {
   "cell_type": "markdown",
   "metadata": {},
   "source": [
    "We are going to check if there are any empty records."
   ]
  },
  {
   "cell_type": "code",
   "execution_count": 29,
   "metadata": {},
   "outputs": [
    {
     "name": "stdout",
     "output_type": "stream",
     "text": [
      "The column \"user_id\" does not have empty values\n"
     ]
    }
   ],
   "source": [
    "T.empty_values(df_rest_reviews,'user_id')"
   ]
  },
  {
   "cell_type": "markdown",
   "metadata": {},
   "source": [
    "It can be observed that the top five users have more than fifteen hundred and up to over three thousand reviews. These data are presented for visualization purposes."
   ]
  },
  {
   "cell_type": "code",
   "execution_count": 30,
   "metadata": {},
   "outputs": [
    {
     "data": {
      "text/plain": [
       "user_id\n",
       "_BcWyKQL16ndpBdggh2kNA    1345\n",
       "Xw7ZjaGfr0WNVt6s_5KZfA     821\n",
       "0Igx-a1wAstiBDerGxXk2A     791\n",
       "ET8n-r7glWYqZhuR6GcdNw     751\n",
       "-G7Zkl1wIWBBmD0KRy_sCw     726\n",
       "Name: count, dtype: int64"
      ]
     },
     "execution_count": 30,
     "metadata": {},
     "output_type": "execute_result"
    }
   ],
   "source": [
    "df_rest_reviews['user_id'].value_counts().head()"
   ]
  },
  {
   "cell_type": "markdown",
   "metadata": {},
   "source": [
    "After analyzing all the columns, an additional column called 'id_review_yelp' will be added, which will help us identify from which platform the user is at the time of connecting the information with Google's data."
   ]
  },
  {
   "cell_type": "code",
   "execution_count": 31,
   "metadata": {},
   "outputs": [],
   "source": [
    "df_rest_reviews['id_review_yelp'] = range(0,len(df_rest_reviews))"
   ]
  },
  {
   "cell_type": "markdown",
   "metadata": {},
   "source": [
    "## Exporting the Data 🌐"
   ]
  },
  {
   "cell_type": "code",
   "execution_count": 32,
   "metadata": {},
   "outputs": [],
   "source": [
    "df_rest_reviews.to_parquet('df_reviews.parquet')"
   ]
  },
  {
   "cell_type": "markdown",
   "metadata": {},
   "source": [
    "The conclusions from this notebook are as follows: We had columns that were not suitable for our purposes, such as feeding a recommendation system, so they were deleted. We had data types changed, such as dates and times in string format. Then, the values of user ID, business ID, review ID, reviews, and ratings columns were reviewed, and a top list of these data points was created."
   ]
  },
  {
   "cell_type": "markdown",
   "metadata": {},
   "source": [
    "Once this ETL is completed, we will move on to the next one for [users](ETL_user.ipynb)."
   ]
  }
 ],
 "metadata": {
  "kernelspec": {
   "display_name": "Python 3",
   "language": "python",
   "name": "python3"
  },
  "language_info": {
   "codemirror_mode": {
    "name": "ipython",
    "version": 3
   },
   "file_extension": ".py",
   "mimetype": "text/x-python",
   "name": "python",
   "nbconvert_exporter": "python",
   "pygments_lexer": "ipython3",
   "version": "3.11.4"
  }
 },
 "nbformat": 4,
 "nbformat_minor": 2
}
