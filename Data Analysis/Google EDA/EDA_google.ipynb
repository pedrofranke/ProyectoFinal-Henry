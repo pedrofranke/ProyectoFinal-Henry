{
  "cells": [
    {
      "cell_type": "markdown",
      "metadata": {
        "id": "view-in-github",
        "colab_type": "text"
      },
      "source": [
        "<a href=\"https://colab.research.google.com/github/pedrofranke/ProyectoFinal-Henry/blob/main/EDA_google.ipynb\" target=\"_parent\"><img src=\"https://colab.research.google.com/assets/colab-badge.svg\" alt=\"Open In Colab\"/></a>"
      ]
    },
    {
      "cell_type": "markdown",
      "metadata": {
        "id": "uMLBNNcTAM6U"
      },
      "source": [
        "# Análisis exploratorio de datos"
      ]
    },
    {
      "cell_type": "code",
      "source": [
        "from google.colab import drive\n",
        "drive.mount('/content/drive')"
      ],
      "metadata": {
        "colab": {
          "base_uri": "https://localhost:8080/"
        },
        "id": "Bu0pAWLUASH8",
        "outputId": "4d4c022c-20b1-4cbe-a174-57d30e3e9c69"
      },
      "execution_count": 3,
      "outputs": [
        {
          "output_type": "stream",
          "name": "stdout",
          "text": [
            "Drive already mounted at /content/drive; to attempt to forcibly remount, call drive.mount(\"/content/drive\", force_remount=True).\n"
          ]
        }
      ]
    },
    {
      "cell_type": "markdown",
      "metadata": {
        "id": "gyoHhB2wAM6Y"
      },
      "source": [
        "Se realiza un análisis exploratorio de los datos, con la finalidad de encontrar patrones que permitan generar información para la toma de decisiones en relación a los restaurantes existentes en los estados de **California**, **Texas**, **Florida**, **New York** & **Pennsylvania**.<br>\n",
        "Para una lectura mas ordenada, los códigos de gráficos y otros datos se colocaron en funciones dentro de la librería `functions` que se adjunta en este repositorio."
      ]
    },
    {
      "cell_type": "markdown",
      "metadata": {
        "id": "yWMql0WlAM6Z"
      },
      "source": [
        "### Importamos las librerias necesarias\n"
      ]
    },
    {
      "cell_type": "code",
      "execution_count": 4,
      "metadata": {
        "colab": {
          "base_uri": "https://localhost:8080/"
        },
        "id": "REjNnGFmAM6a",
        "outputId": "8b4eacf4-3f08-47e4-e6a2-0e5a86710d1a"
      },
      "outputs": [
        {
          "output_type": "stream",
          "name": "stdout",
          "text": [
            "The autoreload extension is already loaded. To reload it, use:\n",
            "  %reload_ext autoreload\n"
          ]
        }
      ],
      "source": [
        "import numpy as np\n",
        "import pandas as pd\n",
        "%load_ext autoreload\n",
        "%autoreload 2\n",
        "import functions\n",
        "import warnings\n",
        "warnings.filterwarnings(\"ignore\")"
      ]
    },
    {
      "cell_type": "markdown",
      "metadata": {
        "id": "3E_jy-irAM6b"
      },
      "source": [
        "### Abrimos el archivo restaurant_clean <br>\n",
        "Y vemos los primeros registros"
      ]
    },
    {
      "cell_type": "code",
      "execution_count": 5,
      "metadata": {
        "id": "25pMMlXZAM6b"
      },
      "outputs": [],
      "source": [
        "df_rest_clean= pd.read_parquet('/content/drive/MyDrive/PF-Henry/google_restaurant_clean.parquet')"
      ]
    },
    {
      "cell_type": "markdown",
      "metadata": {
        "id": "Nt2t-drEAM6c"
      },
      "source": [
        "Vemos las columnas que hay en el dataset"
      ]
    },
    {
      "cell_type": "code",
      "execution_count": 6,
      "metadata": {
        "colab": {
          "base_uri": "https://localhost:8080/"
        },
        "id": "CPHptOqYAM6c",
        "outputId": "488f809a-aee6-485a-a7cc-5f5aa31e8970"
      },
      "outputs": [
        {
          "output_type": "execute_result",
          "data": {
            "text/plain": [
              "Index(['restaurant_name', 'address', 'state', 'city', 'postal_code',\n",
              "       'latitude', 'longitude', 'avg_rating', 'num_of_reviews',\n",
              "       'price_numeric', 'gmap_id'],\n",
              "      dtype='object')"
            ]
          },
          "metadata": {},
          "execution_count": 6
        }
      ],
      "source": [
        "df_rest_clean.columns"
      ]
    },
    {
      "cell_type": "markdown",
      "source": [
        "Modificamos el nombre de las columnas\n",
        "- avg_rating por *avg_rating_rest*\n",
        "- num_of_reviews por *num_of_reviews_rest*"
      ],
      "metadata": {
        "id": "lt5MJ2JNA6rC"
      }
    },
    {
      "cell_type": "code",
      "source": [
        "df_rest_clean = df_rest_clean.rename(columns={'avg_rating':'avg_rating_rest',\n",
        "                                      'num_of_reviews': 'num_of_reviews_rest'})"
      ],
      "metadata": {
        "id": "4eseNIGgBWoO"
      },
      "execution_count": 7,
      "outputs": []
    },
    {
      "cell_type": "markdown",
      "metadata": {
        "id": "OgdrzTxOAM6e"
      },
      "source": [
        "### Abrimos el archivo google_reviews <br>\n",
        "Y vemos los primeros registros"
      ]
    },
    {
      "cell_type": "code",
      "execution_count": 8,
      "metadata": {
        "id": "O0I6LYMCAM6e"
      },
      "outputs": [],
      "source": [
        "df_reviews= pd.read_parquet('/content/drive/MyDrive/PF-Henry/google_reviews.parquet')\n"
      ]
    },
    {
      "cell_type": "markdown",
      "metadata": {
        "id": "rxzRbZNvAM6e"
      },
      "source": [
        "Vemos las columnas que hay en el dataset."
      ]
    },
    {
      "cell_type": "code",
      "execution_count": 9,
      "metadata": {
        "colab": {
          "base_uri": "https://localhost:8080/"
        },
        "id": "UVqPeqilAM6e",
        "outputId": "f54cbe91-4764-4f66-fce0-261deaeeaef7"
      },
      "outputs": [
        {
          "output_type": "execute_result",
          "data": {
            "text/plain": [
              "Index(['user_id', 'user_name', 'time', 'rating', 'text', 'restaurant_name',\n",
              "       'state', 'city', 'gmap_id'],\n",
              "      dtype='object')"
            ]
          },
          "metadata": {},
          "execution_count": 9
        }
      ],
      "source": [
        "df_reviews.columns"
      ]
    },
    {
      "cell_type": "markdown",
      "metadata": {
        "id": "GLdoBOTaAM6f"
      },
      "source": [
        "## Abrimos el archivo google_users <br>\n",
        "Y vemos los primeros registros"
      ]
    },
    {
      "cell_type": "code",
      "execution_count": 10,
      "metadata": {
        "id": "4n9xrM7gAM6g"
      },
      "outputs": [],
      "source": [
        "df_users= pd.read_parquet('/content/drive/MyDrive/PF-Henry/google_users.parquet')\n"
      ]
    },
    {
      "cell_type": "markdown",
      "metadata": {
        "id": "4a-QuuZ_AM6g"
      },
      "source": [
        "Vemos las columnas que hay en el dataset"
      ]
    },
    {
      "cell_type": "code",
      "execution_count": 11,
      "metadata": {
        "colab": {
          "base_uri": "https://localhost:8080/"
        },
        "id": "ChiY0DoBAM6g",
        "outputId": "e71b63bb-7bcf-4fd5-f9ad-c888bdf42bfd"
      },
      "outputs": [
        {
          "output_type": "execute_result",
          "data": {
            "text/plain": [
              "Index(['user_id', 'user_name', 'review_count', 'average_rating'], dtype='object')"
            ]
          },
          "metadata": {},
          "execution_count": 11
        }
      ],
      "source": [
        "df_users.columns"
      ]
    },
    {
      "cell_type": "markdown",
      "metadata": {
        "id": "O6AX9jeCAM6h"
      },
      "source": [
        "### Eliminación de columnas <br>\n",
        "Como se va a realizar una fusión de información entre los conjuntos de datos, se eliminan las columnas 'user_name', 'state', 'city' & ''gmap_id' del **df_reviews**, ya que tienen los mismos datos que en **df_rest_clean** y **df_users**"
      ]
    },
    {
      "cell_type": "code",
      "execution_count": 12,
      "metadata": {
        "id": "MFsyqlUUAM6h"
      },
      "outputs": [],
      "source": [
        "df_reviews = df_reviews.drop(['user_name', 'state', 'city', 'gmap_id'], axis=1)\n"
      ]
    },
    {
      "cell_type": "markdown",
      "metadata": {
        "id": "u7vkJ_6pAM6h"
      },
      "source": [
        "## Fusión de información <br>\n",
        "Unificamos los conjuntos de datos de *df_reviews* con *df_rest_clean* a través de **restaurant_name**"
      ]
    },
    {
      "cell_type": "code",
      "execution_count": 13,
      "metadata": {
        "id": "8VTEsvHlAM6h"
      },
      "outputs": [],
      "source": [
        "df_1= df_reviews.merge(df_rest_clean, on= 'restaurant_name', how= 'left')\n"
      ]
    },
    {
      "cell_type": "markdown",
      "metadata": {
        "id": "fa8uzFnkAM6i"
      },
      "source": [
        "Ahora unificamos los datos de *df_1* con *df_users* a través de **user_id**"
      ]
    },
    {
      "cell_type": "code",
      "source": [
        "df_google = df_1.merge(df_users, on= 'user_id', how= 'left')\n"
      ],
      "metadata": {
        "id": "PddClV-RCb-h"
      },
      "execution_count": 14,
      "outputs": []
    },
    {
      "cell_type": "code",
      "source": [
        "df_google.columns"
      ],
      "metadata": {
        "colab": {
          "base_uri": "https://localhost:8080/"
        },
        "id": "-dX2X3YM_NSE",
        "outputId": "a60f2fb4-3178-4fd1-8479-d6b55abc01dd"
      },
      "execution_count": 15,
      "outputs": [
        {
          "output_type": "execute_result",
          "data": {
            "text/plain": [
              "Index(['user_id', 'time', 'rating', 'text', 'restaurant_name', 'address',\n",
              "       'state', 'city', 'postal_code', 'latitude', 'longitude',\n",
              "       'avg_rating_rest', 'num_of_reviews_rest', 'price_numeric', 'gmap_id',\n",
              "       'user_name', 'review_count', 'average_rating'],\n",
              "      dtype='object')"
            ]
          },
          "metadata": {},
          "execution_count": 15
        }
      ]
    },
    {
      "cell_type": "markdown",
      "source": [
        "Eliminamos columnas que no aportan valor. <br>\n",
        "- average_rating\n",
        "- review_count\n",
        "- rating"
      ],
      "metadata": {
        "id": "4srUnUfqz3MB"
      }
    },
    {
      "cell_type": "code",
      "source": [
        "df_google = df_google.drop(columns=['average_rating', 'review_count', 'rating'], axis=1)\n",
        "\n",
        "df_google.columns"
      ],
      "metadata": {
        "colab": {
          "base_uri": "https://localhost:8080/"
        },
        "id": "u653TdJr0V3a",
        "outputId": "b03c316d-3769-4847-9099-e65abb4237c5"
      },
      "execution_count": 16,
      "outputs": [
        {
          "output_type": "execute_result",
          "data": {
            "text/plain": [
              "Index(['user_id', 'time', 'text', 'restaurant_name', 'address', 'state',\n",
              "       'city', 'postal_code', 'latitude', 'longitude', 'avg_rating_rest',\n",
              "       'num_of_reviews_rest', 'price_numeric', 'gmap_id', 'user_name'],\n",
              "      dtype='object')"
            ]
          },
          "metadata": {},
          "execution_count": 16
        }
      ]
    },
    {
      "cell_type": "markdown",
      "source": [
        "Convertimos la columna **time** a tipo *datetime* para así poder obtener los datos de año, mes y día y trabajar de forma precisa"
      ],
      "metadata": {
        "id": "PJYTVf-xHaZj"
      }
    },
    {
      "cell_type": "code",
      "source": [
        "df_google['time'] = pd.to_datetime(df_google['time'])"
      ],
      "metadata": {
        "id": "EQWCfMiUHvgG"
      },
      "execution_count": 17,
      "outputs": []
    },
    {
      "cell_type": "markdown",
      "source": [
        "Extraemos los datos de año, mes y día en columnas separadas, y se elimina la columna 'time'"
      ],
      "metadata": {
        "id": "boYUdAwXIJAX"
      }
    },
    {
      "cell_type": "code",
      "source": [
        "df_google['year'] = df_google['time'].dt.year\n",
        "df_google['month'] = df_google['time'].dt.month\n",
        "df_google['day'] = df_google['time'].dt.day\n",
        "\n",
        "df_google.columns"
      ],
      "metadata": {
        "colab": {
          "base_uri": "https://localhost:8080/"
        },
        "id": "2dA3u_2mIGWs",
        "outputId": "033594d9-088c-4ae3-8610-3e35aba94030"
      },
      "execution_count": 18,
      "outputs": [
        {
          "output_type": "execute_result",
          "data": {
            "text/plain": [
              "Index(['user_id', 'time', 'text', 'restaurant_name', 'address', 'state',\n",
              "       'city', 'postal_code', 'latitude', 'longitude', 'avg_rating_rest',\n",
              "       'num_of_reviews_rest', 'price_numeric', 'gmap_id', 'user_name', 'year',\n",
              "       'month', 'day'],\n",
              "      dtype='object')"
            ]
          },
          "metadata": {},
          "execution_count": 18
        }
      ]
    },
    {
      "cell_type": "code",
      "source": [
        "df_google = df_google.drop(columns='time', axis=1)"
      ],
      "metadata": {
        "id": "OQgSGTMuI5Ai"
      },
      "execution_count": 19,
      "outputs": []
    },
    {
      "cell_type": "code",
      "source": [
        "# Prueba\n",
        "\n",
        "df_google.year.unique()"
      ],
      "metadata": {
        "colab": {
          "base_uri": "https://localhost:8080/"
        },
        "id": "WQK2qp1sLSS7",
        "outputId": "a9c02779-ce3e-4922-b8d4-b27fe591c00f"
      },
      "execution_count": 20,
      "outputs": [
        {
          "output_type": "execute_result",
          "data": {
            "text/plain": [
              "array([2013, 2015, 2014, 2016, 2017, 2021, 2020, 2019, 2010, 2012, 2009,\n",
              "       2011, 2018, 2007, 2002, 2003, 2008, 2005, 2004, 2006, 1990])"
            ]
          },
          "metadata": {},
          "execution_count": 20
        }
      ]
    },
    {
      "cell_type": "markdown",
      "source": [
        "Encontramos que hay registros de reseñas de años anteriores a 2016, por lo cual no son útiles para el análisis y se procede a eliminarlos."
      ],
      "metadata": {
        "id": "C6ouZbGBQZdr"
      }
    },
    {
      "cell_type": "code",
      "source": [
        "df_google = df_google[df_google['year'].isin([2016, 2017, 2018, 2019, 2020, 2021])]"
      ],
      "metadata": {
        "id": "bra0j58nQmae"
      },
      "execution_count": 21,
      "outputs": []
    },
    {
      "cell_type": "code",
      "source": [
        "df_google"
      ],
      "metadata": {
        "colab": {
          "base_uri": "https://localhost:8080/",
          "height": 1000
        },
        "id": "Lfjayi-3SKcS",
        "outputId": "7874161b-7980-48d9-b674-e732f1dc4a15"
      },
      "execution_count": 22,
      "outputs": [
        {
          "output_type": "execute_result",
          "data": {
            "text/plain": [
              "                        user_id  \\\n",
              "4         107373453968933712290   \n",
              "9         107373453968933712290   \n",
              "10        114661297312109535369   \n",
              "11        114520850364721926342   \n",
              "12        108986259089914025393   \n",
              "...                         ...   \n",
              "22549938  115681351373725195193   \n",
              "22549939  115300300663901754734   \n",
              "22549940  100925700082850645645   \n",
              "22549941  109106707670810407931   \n",
              "22549942  111294173214385569206   \n",
              "\n",
              "                                                       text  \\\n",
              "4         Used to get lunch here nearly every day. You w...   \n",
              "9         Used to get lunch here nearly every day. You w...   \n",
              "10        Today was my first time at Casa Malinche, and ...   \n",
              "11        Yummy!! Please try the guacamole. You won't re...   \n",
              "12        Legit. Real deal burritos and guacamole. Fast ...   \n",
              "...                                                     ...   \n",
              "22549938                                          No Review   \n",
              "22549939                                          No Review   \n",
              "22549940                                          No Review   \n",
              "22549941                                          No Review   \n",
              "22549942                                          No Review   \n",
              "\n",
              "                 restaurant_name  \\\n",
              "4         Raffaello Kosher Pizza   \n",
              "9         Raffaello Kosher Pizza   \n",
              "10                 Casa Malinche   \n",
              "11                 Casa Malinche   \n",
              "12                 Casa Malinche   \n",
              "...                          ...   \n",
              "22549938      Taquitos Mi Rancho   \n",
              "22549939      Taquitos Mi Rancho   \n",
              "22549940      Taquitos Mi Rancho   \n",
              "22549941      Taquitos Mi Rancho   \n",
              "22549942      Taquitos Mi Rancho   \n",
              "\n",
              "                                                    address     state  \\\n",
              "4         Raffaello Kosher Pizza, 37 W 46th St, New York...  New York   \n",
              "9         Raffaello Kosher Pizza, 37 W 46th St, New York...  New York   \n",
              "10        Casa Malinche, 3078 Coney Island Ave, Brooklyn...  New York   \n",
              "11        Casa Malinche, 3078 Coney Island Ave, Brooklyn...  New York   \n",
              "12        Casa Malinche, 3078 Coney Island Ave, Brooklyn...  New York   \n",
              "...                                                     ...       ...   \n",
              "22549938  Taquitos Mi Rancho, 651 E Hopkins St, San Marc...     Texas   \n",
              "22549939  Taquitos Mi Rancho, 651 E Hopkins St, San Marc...     Texas   \n",
              "22549940  Taquitos Mi Rancho, 651 E Hopkins St, San Marc...     Texas   \n",
              "22549941  Taquitos Mi Rancho, 651 E Hopkins St, San Marc...     Texas   \n",
              "22549942  Taquitos Mi Rancho, 651 E Hopkins St, San Marc...     Texas   \n",
              "\n",
              "                city  postal_code   latitude  longitude  avg_rating_rest  \\\n",
              "4           New York        10036  40.756872 -73.980427              3.4   \n",
              "9           New York        10036  40.756872 -73.980427              3.4   \n",
              "10          Brooklyn        11235  40.581086 -73.960139              4.4   \n",
              "11          Brooklyn        11235  40.581086 -73.960139              4.4   \n",
              "12          Brooklyn        11235  40.581086 -73.960139              4.4   \n",
              "...              ...          ...        ...        ...              ...   \n",
              "22549938  San Marcos        78666  29.885066 -97.924276              4.8   \n",
              "22549939  San Marcos        78666  29.885066 -97.924276              4.8   \n",
              "22549940  San Marcos        78666  29.885066 -97.924276              4.8   \n",
              "22549941  San Marcos        78666  29.885066 -97.924276              4.8   \n",
              "22549942  San Marcos        78666  29.885066 -97.924276              4.8   \n",
              "\n",
              "          num_of_reviews_rest  price_numeric  \\\n",
              "4                           8              0   \n",
              "9                           8              0   \n",
              "10                          7              0   \n",
              "11                          7              0   \n",
              "12                          7              0   \n",
              "...                       ...            ...   \n",
              "22549938                   88              0   \n",
              "22549939                   88              0   \n",
              "22549940                   88              0   \n",
              "22549941                   88              0   \n",
              "22549942                   88              0   \n",
              "\n",
              "                                        gmap_id         user_name  year  \\\n",
              "4         0x89c258ffaeaba947:0x8355860772a595a9    Matt Schaffnit  2016   \n",
              "9         0x89c258ffaeaba947:0x8355860772a595a9    Matt Schaffnit  2016   \n",
              "10        0x89c244427d3e2c19:0xc1dbf7d8e71d7201              Anya  2016   \n",
              "11        0x89c244427d3e2c19:0xc1dbf7d8e71d7201      TheNaelabean  2017   \n",
              "12        0x89c244427d3e2c19:0xc1dbf7d8e71d7201     Robert Hebron  2017   \n",
              "...                                         ...               ...   ...   \n",
              "22549938  0x865ca94e2edeb237:0xdfc44b585273f4c5    Zoraida Vences  2021   \n",
              "22549939  0x865ca94e2edeb237:0xdfc44b585273f4c5  Gabriel Gonzales  2020   \n",
              "22549940  0x865ca94e2edeb237:0xdfc44b585273f4c5   Jacqueline Cano  2019   \n",
              "22549941  0x865ca94e2edeb237:0xdfc44b585273f4c5   Manuel Martinez  2020   \n",
              "22549942  0x865ca94e2edeb237:0xdfc44b585273f4c5     Kevin Cancino  2019   \n",
              "\n",
              "          month  day  \n",
              "4            10   25  \n",
              "9            10   25  \n",
              "10            8   19  \n",
              "11            6   19  \n",
              "12            6   18  \n",
              "...         ...  ...  \n",
              "22549938      1   26  \n",
              "22549939     12    8  \n",
              "22549940      9   27  \n",
              "22549941     12   11  \n",
              "22549942     10   24  \n",
              "\n",
              "[22352228 rows x 17 columns]"
            ],
            "text/html": [
              "\n",
              "  <div id=\"df-e6d334fc-5e9c-445f-acf9-14f0ff9b0e38\" class=\"colab-df-container\">\n",
              "    <div>\n",
              "<style scoped>\n",
              "    .dataframe tbody tr th:only-of-type {\n",
              "        vertical-align: middle;\n",
              "    }\n",
              "\n",
              "    .dataframe tbody tr th {\n",
              "        vertical-align: top;\n",
              "    }\n",
              "\n",
              "    .dataframe thead th {\n",
              "        text-align: right;\n",
              "    }\n",
              "</style>\n",
              "<table border=\"1\" class=\"dataframe\">\n",
              "  <thead>\n",
              "    <tr style=\"text-align: right;\">\n",
              "      <th></th>\n",
              "      <th>user_id</th>\n",
              "      <th>text</th>\n",
              "      <th>restaurant_name</th>\n",
              "      <th>address</th>\n",
              "      <th>state</th>\n",
              "      <th>city</th>\n",
              "      <th>postal_code</th>\n",
              "      <th>latitude</th>\n",
              "      <th>longitude</th>\n",
              "      <th>avg_rating_rest</th>\n",
              "      <th>num_of_reviews_rest</th>\n",
              "      <th>price_numeric</th>\n",
              "      <th>gmap_id</th>\n",
              "      <th>user_name</th>\n",
              "      <th>year</th>\n",
              "      <th>month</th>\n",
              "      <th>day</th>\n",
              "    </tr>\n",
              "  </thead>\n",
              "  <tbody>\n",
              "    <tr>\n",
              "      <th>4</th>\n",
              "      <td>107373453968933712290</td>\n",
              "      <td>Used to get lunch here nearly every day. You w...</td>\n",
              "      <td>Raffaello Kosher Pizza</td>\n",
              "      <td>Raffaello Kosher Pizza, 37 W 46th St, New York...</td>\n",
              "      <td>New York</td>\n",
              "      <td>New York</td>\n",
              "      <td>10036</td>\n",
              "      <td>40.756872</td>\n",
              "      <td>-73.980427</td>\n",
              "      <td>3.4</td>\n",
              "      <td>8</td>\n",
              "      <td>0</td>\n",
              "      <td>0x89c258ffaeaba947:0x8355860772a595a9</td>\n",
              "      <td>Matt Schaffnit</td>\n",
              "      <td>2016</td>\n",
              "      <td>10</td>\n",
              "      <td>25</td>\n",
              "    </tr>\n",
              "    <tr>\n",
              "      <th>9</th>\n",
              "      <td>107373453968933712290</td>\n",
              "      <td>Used to get lunch here nearly every day. You w...</td>\n",
              "      <td>Raffaello Kosher Pizza</td>\n",
              "      <td>Raffaello Kosher Pizza, 37 W 46th St, New York...</td>\n",
              "      <td>New York</td>\n",
              "      <td>New York</td>\n",
              "      <td>10036</td>\n",
              "      <td>40.756872</td>\n",
              "      <td>-73.980427</td>\n",
              "      <td>3.4</td>\n",
              "      <td>8</td>\n",
              "      <td>0</td>\n",
              "      <td>0x89c258ffaeaba947:0x8355860772a595a9</td>\n",
              "      <td>Matt Schaffnit</td>\n",
              "      <td>2016</td>\n",
              "      <td>10</td>\n",
              "      <td>25</td>\n",
              "    </tr>\n",
              "    <tr>\n",
              "      <th>10</th>\n",
              "      <td>114661297312109535369</td>\n",
              "      <td>Today was my first time at Casa Malinche, and ...</td>\n",
              "      <td>Casa Malinche</td>\n",
              "      <td>Casa Malinche, 3078 Coney Island Ave, Brooklyn...</td>\n",
              "      <td>New York</td>\n",
              "      <td>Brooklyn</td>\n",
              "      <td>11235</td>\n",
              "      <td>40.581086</td>\n",
              "      <td>-73.960139</td>\n",
              "      <td>4.4</td>\n",
              "      <td>7</td>\n",
              "      <td>0</td>\n",
              "      <td>0x89c244427d3e2c19:0xc1dbf7d8e71d7201</td>\n",
              "      <td>Anya</td>\n",
              "      <td>2016</td>\n",
              "      <td>8</td>\n",
              "      <td>19</td>\n",
              "    </tr>\n",
              "    <tr>\n",
              "      <th>11</th>\n",
              "      <td>114520850364721926342</td>\n",
              "      <td>Yummy!! Please try the guacamole. You won't re...</td>\n",
              "      <td>Casa Malinche</td>\n",
              "      <td>Casa Malinche, 3078 Coney Island Ave, Brooklyn...</td>\n",
              "      <td>New York</td>\n",
              "      <td>Brooklyn</td>\n",
              "      <td>11235</td>\n",
              "      <td>40.581086</td>\n",
              "      <td>-73.960139</td>\n",
              "      <td>4.4</td>\n",
              "      <td>7</td>\n",
              "      <td>0</td>\n",
              "      <td>0x89c244427d3e2c19:0xc1dbf7d8e71d7201</td>\n",
              "      <td>TheNaelabean</td>\n",
              "      <td>2017</td>\n",
              "      <td>6</td>\n",
              "      <td>19</td>\n",
              "    </tr>\n",
              "    <tr>\n",
              "      <th>12</th>\n",
              "      <td>108986259089914025393</td>\n",
              "      <td>Legit. Real deal burritos and guacamole. Fast ...</td>\n",
              "      <td>Casa Malinche</td>\n",
              "      <td>Casa Malinche, 3078 Coney Island Ave, Brooklyn...</td>\n",
              "      <td>New York</td>\n",
              "      <td>Brooklyn</td>\n",
              "      <td>11235</td>\n",
              "      <td>40.581086</td>\n",
              "      <td>-73.960139</td>\n",
              "      <td>4.4</td>\n",
              "      <td>7</td>\n",
              "      <td>0</td>\n",
              "      <td>0x89c244427d3e2c19:0xc1dbf7d8e71d7201</td>\n",
              "      <td>Robert Hebron</td>\n",
              "      <td>2017</td>\n",
              "      <td>6</td>\n",
              "      <td>18</td>\n",
              "    </tr>\n",
              "    <tr>\n",
              "      <th>...</th>\n",
              "      <td>...</td>\n",
              "      <td>...</td>\n",
              "      <td>...</td>\n",
              "      <td>...</td>\n",
              "      <td>...</td>\n",
              "      <td>...</td>\n",
              "      <td>...</td>\n",
              "      <td>...</td>\n",
              "      <td>...</td>\n",
              "      <td>...</td>\n",
              "      <td>...</td>\n",
              "      <td>...</td>\n",
              "      <td>...</td>\n",
              "      <td>...</td>\n",
              "      <td>...</td>\n",
              "      <td>...</td>\n",
              "      <td>...</td>\n",
              "    </tr>\n",
              "    <tr>\n",
              "      <th>22549938</th>\n",
              "      <td>115681351373725195193</td>\n",
              "      <td>No Review</td>\n",
              "      <td>Taquitos Mi Rancho</td>\n",
              "      <td>Taquitos Mi Rancho, 651 E Hopkins St, San Marc...</td>\n",
              "      <td>Texas</td>\n",
              "      <td>San Marcos</td>\n",
              "      <td>78666</td>\n",
              "      <td>29.885066</td>\n",
              "      <td>-97.924276</td>\n",
              "      <td>4.8</td>\n",
              "      <td>88</td>\n",
              "      <td>0</td>\n",
              "      <td>0x865ca94e2edeb237:0xdfc44b585273f4c5</td>\n",
              "      <td>Zoraida Vences</td>\n",
              "      <td>2021</td>\n",
              "      <td>1</td>\n",
              "      <td>26</td>\n",
              "    </tr>\n",
              "    <tr>\n",
              "      <th>22549939</th>\n",
              "      <td>115300300663901754734</td>\n",
              "      <td>No Review</td>\n",
              "      <td>Taquitos Mi Rancho</td>\n",
              "      <td>Taquitos Mi Rancho, 651 E Hopkins St, San Marc...</td>\n",
              "      <td>Texas</td>\n",
              "      <td>San Marcos</td>\n",
              "      <td>78666</td>\n",
              "      <td>29.885066</td>\n",
              "      <td>-97.924276</td>\n",
              "      <td>4.8</td>\n",
              "      <td>88</td>\n",
              "      <td>0</td>\n",
              "      <td>0x865ca94e2edeb237:0xdfc44b585273f4c5</td>\n",
              "      <td>Gabriel Gonzales</td>\n",
              "      <td>2020</td>\n",
              "      <td>12</td>\n",
              "      <td>8</td>\n",
              "    </tr>\n",
              "    <tr>\n",
              "      <th>22549940</th>\n",
              "      <td>100925700082850645645</td>\n",
              "      <td>No Review</td>\n",
              "      <td>Taquitos Mi Rancho</td>\n",
              "      <td>Taquitos Mi Rancho, 651 E Hopkins St, San Marc...</td>\n",
              "      <td>Texas</td>\n",
              "      <td>San Marcos</td>\n",
              "      <td>78666</td>\n",
              "      <td>29.885066</td>\n",
              "      <td>-97.924276</td>\n",
              "      <td>4.8</td>\n",
              "      <td>88</td>\n",
              "      <td>0</td>\n",
              "      <td>0x865ca94e2edeb237:0xdfc44b585273f4c5</td>\n",
              "      <td>Jacqueline Cano</td>\n",
              "      <td>2019</td>\n",
              "      <td>9</td>\n",
              "      <td>27</td>\n",
              "    </tr>\n",
              "    <tr>\n",
              "      <th>22549941</th>\n",
              "      <td>109106707670810407931</td>\n",
              "      <td>No Review</td>\n",
              "      <td>Taquitos Mi Rancho</td>\n",
              "      <td>Taquitos Mi Rancho, 651 E Hopkins St, San Marc...</td>\n",
              "      <td>Texas</td>\n",
              "      <td>San Marcos</td>\n",
              "      <td>78666</td>\n",
              "      <td>29.885066</td>\n",
              "      <td>-97.924276</td>\n",
              "      <td>4.8</td>\n",
              "      <td>88</td>\n",
              "      <td>0</td>\n",
              "      <td>0x865ca94e2edeb237:0xdfc44b585273f4c5</td>\n",
              "      <td>Manuel Martinez</td>\n",
              "      <td>2020</td>\n",
              "      <td>12</td>\n",
              "      <td>11</td>\n",
              "    </tr>\n",
              "    <tr>\n",
              "      <th>22549942</th>\n",
              "      <td>111294173214385569206</td>\n",
              "      <td>No Review</td>\n",
              "      <td>Taquitos Mi Rancho</td>\n",
              "      <td>Taquitos Mi Rancho, 651 E Hopkins St, San Marc...</td>\n",
              "      <td>Texas</td>\n",
              "      <td>San Marcos</td>\n",
              "      <td>78666</td>\n",
              "      <td>29.885066</td>\n",
              "      <td>-97.924276</td>\n",
              "      <td>4.8</td>\n",
              "      <td>88</td>\n",
              "      <td>0</td>\n",
              "      <td>0x865ca94e2edeb237:0xdfc44b585273f4c5</td>\n",
              "      <td>Kevin Cancino</td>\n",
              "      <td>2019</td>\n",
              "      <td>10</td>\n",
              "      <td>24</td>\n",
              "    </tr>\n",
              "  </tbody>\n",
              "</table>\n",
              "<p>22352228 rows × 17 columns</p>\n",
              "</div>\n",
              "    <div class=\"colab-df-buttons\">\n",
              "\n",
              "  <div class=\"colab-df-container\">\n",
              "    <button class=\"colab-df-convert\" onclick=\"convertToInteractive('df-e6d334fc-5e9c-445f-acf9-14f0ff9b0e38')\"\n",
              "            title=\"Convert this dataframe to an interactive table.\"\n",
              "            style=\"display:none;\">\n",
              "\n",
              "  <svg xmlns=\"http://www.w3.org/2000/svg\" height=\"24px\" viewBox=\"0 -960 960 960\">\n",
              "    <path d=\"M120-120v-720h720v720H120Zm60-500h600v-160H180v160Zm220 220h160v-160H400v160Zm0 220h160v-160H400v160ZM180-400h160v-160H180v160Zm440 0h160v-160H620v160ZM180-180h160v-160H180v160Zm440 0h160v-160H620v160Z\"/>\n",
              "  </svg>\n",
              "    </button>\n",
              "\n",
              "  <style>\n",
              "    .colab-df-container {\n",
              "      display:flex;\n",
              "      gap: 12px;\n",
              "    }\n",
              "\n",
              "    .colab-df-convert {\n",
              "      background-color: #E8F0FE;\n",
              "      border: none;\n",
              "      border-radius: 50%;\n",
              "      cursor: pointer;\n",
              "      display: none;\n",
              "      fill: #1967D2;\n",
              "      height: 32px;\n",
              "      padding: 0 0 0 0;\n",
              "      width: 32px;\n",
              "    }\n",
              "\n",
              "    .colab-df-convert:hover {\n",
              "      background-color: #E2EBFA;\n",
              "      box-shadow: 0px 1px 2px rgba(60, 64, 67, 0.3), 0px 1px 3px 1px rgba(60, 64, 67, 0.15);\n",
              "      fill: #174EA6;\n",
              "    }\n",
              "\n",
              "    .colab-df-buttons div {\n",
              "      margin-bottom: 4px;\n",
              "    }\n",
              "\n",
              "    [theme=dark] .colab-df-convert {\n",
              "      background-color: #3B4455;\n",
              "      fill: #D2E3FC;\n",
              "    }\n",
              "\n",
              "    [theme=dark] .colab-df-convert:hover {\n",
              "      background-color: #434B5C;\n",
              "      box-shadow: 0px 1px 3px 1px rgba(0, 0, 0, 0.15);\n",
              "      filter: drop-shadow(0px 1px 2px rgba(0, 0, 0, 0.3));\n",
              "      fill: #FFFFFF;\n",
              "    }\n",
              "  </style>\n",
              "\n",
              "    <script>\n",
              "      const buttonEl =\n",
              "        document.querySelector('#df-e6d334fc-5e9c-445f-acf9-14f0ff9b0e38 button.colab-df-convert');\n",
              "      buttonEl.style.display =\n",
              "        google.colab.kernel.accessAllowed ? 'block' : 'none';\n",
              "\n",
              "      async function convertToInteractive(key) {\n",
              "        const element = document.querySelector('#df-e6d334fc-5e9c-445f-acf9-14f0ff9b0e38');\n",
              "        const dataTable =\n",
              "          await google.colab.kernel.invokeFunction('convertToInteractive',\n",
              "                                                    [key], {});\n",
              "        if (!dataTable) return;\n",
              "\n",
              "        const docLinkHtml = 'Like what you see? Visit the ' +\n",
              "          '<a target=\"_blank\" href=https://colab.research.google.com/notebooks/data_table.ipynb>data table notebook</a>'\n",
              "          + ' to learn more about interactive tables.';\n",
              "        element.innerHTML = '';\n",
              "        dataTable['output_type'] = 'display_data';\n",
              "        await google.colab.output.renderOutput(dataTable, element);\n",
              "        const docLink = document.createElement('div');\n",
              "        docLink.innerHTML = docLinkHtml;\n",
              "        element.appendChild(docLink);\n",
              "      }\n",
              "    </script>\n",
              "  </div>\n",
              "\n",
              "\n",
              "<div id=\"df-2d4821b5-7c16-4f7d-84fb-2d87965b6029\">\n",
              "  <button class=\"colab-df-quickchart\" onclick=\"quickchart('df-2d4821b5-7c16-4f7d-84fb-2d87965b6029')\"\n",
              "            title=\"Suggest charts\"\n",
              "            style=\"display:none;\">\n",
              "\n",
              "<svg xmlns=\"http://www.w3.org/2000/svg\" height=\"24px\"viewBox=\"0 0 24 24\"\n",
              "     width=\"24px\">\n",
              "    <g>\n",
              "        <path d=\"M19 3H5c-1.1 0-2 .9-2 2v14c0 1.1.9 2 2 2h14c1.1 0 2-.9 2-2V5c0-1.1-.9-2-2-2zM9 17H7v-7h2v7zm4 0h-2V7h2v10zm4 0h-2v-4h2v4z\"/>\n",
              "    </g>\n",
              "</svg>\n",
              "  </button>\n",
              "\n",
              "<style>\n",
              "  .colab-df-quickchart {\n",
              "      --bg-color: #E8F0FE;\n",
              "      --fill-color: #1967D2;\n",
              "      --hover-bg-color: #E2EBFA;\n",
              "      --hover-fill-color: #174EA6;\n",
              "      --disabled-fill-color: #AAA;\n",
              "      --disabled-bg-color: #DDD;\n",
              "  }\n",
              "\n",
              "  [theme=dark] .colab-df-quickchart {\n",
              "      --bg-color: #3B4455;\n",
              "      --fill-color: #D2E3FC;\n",
              "      --hover-bg-color: #434B5C;\n",
              "      --hover-fill-color: #FFFFFF;\n",
              "      --disabled-bg-color: #3B4455;\n",
              "      --disabled-fill-color: #666;\n",
              "  }\n",
              "\n",
              "  .colab-df-quickchart {\n",
              "    background-color: var(--bg-color);\n",
              "    border: none;\n",
              "    border-radius: 50%;\n",
              "    cursor: pointer;\n",
              "    display: none;\n",
              "    fill: var(--fill-color);\n",
              "    height: 32px;\n",
              "    padding: 0;\n",
              "    width: 32px;\n",
              "  }\n",
              "\n",
              "  .colab-df-quickchart:hover {\n",
              "    background-color: var(--hover-bg-color);\n",
              "    box-shadow: 0 1px 2px rgba(60, 64, 67, 0.3), 0 1px 3px 1px rgba(60, 64, 67, 0.15);\n",
              "    fill: var(--button-hover-fill-color);\n",
              "  }\n",
              "\n",
              "  .colab-df-quickchart-complete:disabled,\n",
              "  .colab-df-quickchart-complete:disabled:hover {\n",
              "    background-color: var(--disabled-bg-color);\n",
              "    fill: var(--disabled-fill-color);\n",
              "    box-shadow: none;\n",
              "  }\n",
              "\n",
              "  .colab-df-spinner {\n",
              "    border: 2px solid var(--fill-color);\n",
              "    border-color: transparent;\n",
              "    border-bottom-color: var(--fill-color);\n",
              "    animation:\n",
              "      spin 1s steps(1) infinite;\n",
              "  }\n",
              "\n",
              "  @keyframes spin {\n",
              "    0% {\n",
              "      border-color: transparent;\n",
              "      border-bottom-color: var(--fill-color);\n",
              "      border-left-color: var(--fill-color);\n",
              "    }\n",
              "    20% {\n",
              "      border-color: transparent;\n",
              "      border-left-color: var(--fill-color);\n",
              "      border-top-color: var(--fill-color);\n",
              "    }\n",
              "    30% {\n",
              "      border-color: transparent;\n",
              "      border-left-color: var(--fill-color);\n",
              "      border-top-color: var(--fill-color);\n",
              "      border-right-color: var(--fill-color);\n",
              "    }\n",
              "    40% {\n",
              "      border-color: transparent;\n",
              "      border-right-color: var(--fill-color);\n",
              "      border-top-color: var(--fill-color);\n",
              "    }\n",
              "    60% {\n",
              "      border-color: transparent;\n",
              "      border-right-color: var(--fill-color);\n",
              "    }\n",
              "    80% {\n",
              "      border-color: transparent;\n",
              "      border-right-color: var(--fill-color);\n",
              "      border-bottom-color: var(--fill-color);\n",
              "    }\n",
              "    90% {\n",
              "      border-color: transparent;\n",
              "      border-bottom-color: var(--fill-color);\n",
              "    }\n",
              "  }\n",
              "</style>\n",
              "\n",
              "  <script>\n",
              "    async function quickchart(key) {\n",
              "      const quickchartButtonEl =\n",
              "        document.querySelector('#' + key + ' button');\n",
              "      quickchartButtonEl.disabled = true;  // To prevent multiple clicks.\n",
              "      quickchartButtonEl.classList.add('colab-df-spinner');\n",
              "      try {\n",
              "        const charts = await google.colab.kernel.invokeFunction(\n",
              "            'suggestCharts', [key], {});\n",
              "      } catch (error) {\n",
              "        console.error('Error during call to suggestCharts:', error);\n",
              "      }\n",
              "      quickchartButtonEl.classList.remove('colab-df-spinner');\n",
              "      quickchartButtonEl.classList.add('colab-df-quickchart-complete');\n",
              "    }\n",
              "    (() => {\n",
              "      let quickchartButtonEl =\n",
              "        document.querySelector('#df-2d4821b5-7c16-4f7d-84fb-2d87965b6029 button');\n",
              "      quickchartButtonEl.style.display =\n",
              "        google.colab.kernel.accessAllowed ? 'block' : 'none';\n",
              "    })();\n",
              "  </script>\n",
              "</div>\n",
              "\n",
              "  <div id=\"id_2496d126-af51-40c0-b791-adbaf4438fc2\">\n",
              "    <style>\n",
              "      .colab-df-generate {\n",
              "        background-color: #E8F0FE;\n",
              "        border: none;\n",
              "        border-radius: 50%;\n",
              "        cursor: pointer;\n",
              "        display: none;\n",
              "        fill: #1967D2;\n",
              "        height: 32px;\n",
              "        padding: 0 0 0 0;\n",
              "        width: 32px;\n",
              "      }\n",
              "\n",
              "      .colab-df-generate:hover {\n",
              "        background-color: #E2EBFA;\n",
              "        box-shadow: 0px 1px 2px rgba(60, 64, 67, 0.3), 0px 1px 3px 1px rgba(60, 64, 67, 0.15);\n",
              "        fill: #174EA6;\n",
              "      }\n",
              "\n",
              "      [theme=dark] .colab-df-generate {\n",
              "        background-color: #3B4455;\n",
              "        fill: #D2E3FC;\n",
              "      }\n",
              "\n",
              "      [theme=dark] .colab-df-generate:hover {\n",
              "        background-color: #434B5C;\n",
              "        box-shadow: 0px 1px 3px 1px rgba(0, 0, 0, 0.15);\n",
              "        filter: drop-shadow(0px 1px 2px rgba(0, 0, 0, 0.3));\n",
              "        fill: #FFFFFF;\n",
              "      }\n",
              "    </style>\n",
              "    <button class=\"colab-df-generate\" onclick=\"generateWithVariable('df_google')\"\n",
              "            title=\"Generate code using this dataframe.\"\n",
              "            style=\"display:none;\">\n",
              "\n",
              "  <svg xmlns=\"http://www.w3.org/2000/svg\" height=\"24px\"viewBox=\"0 0 24 24\"\n",
              "       width=\"24px\">\n",
              "    <path d=\"M7,19H8.4L18.45,9,17,7.55,7,17.6ZM5,21V16.75L18.45,3.32a2,2,0,0,1,2.83,0l1.4,1.43a1.91,1.91,0,0,1,.58,1.4,1.91,1.91,0,0,1-.58,1.4L9.25,21ZM18.45,9,17,7.55Zm-12,3A5.31,5.31,0,0,0,4.9,8.1,5.31,5.31,0,0,0,1,6.5,5.31,5.31,0,0,0,4.9,4.9,5.31,5.31,0,0,0,6.5,1,5.31,5.31,0,0,0,8.1,4.9,5.31,5.31,0,0,0,12,6.5,5.46,5.46,0,0,0,6.5,12Z\"/>\n",
              "  </svg>\n",
              "    </button>\n",
              "    <script>\n",
              "      (() => {\n",
              "      const buttonEl =\n",
              "        document.querySelector('#id_2496d126-af51-40c0-b791-adbaf4438fc2 button.colab-df-generate');\n",
              "      buttonEl.style.display =\n",
              "        google.colab.kernel.accessAllowed ? 'block' : 'none';\n",
              "\n",
              "      buttonEl.onclick = () => {\n",
              "        google.colab.notebook.generateWithVariable('df_google');\n",
              "      }\n",
              "      })();\n",
              "    </script>\n",
              "  </div>\n",
              "\n",
              "    </div>\n",
              "  </div>\n"
            ]
          },
          "metadata": {},
          "execution_count": 22
        }
      ]
    },
    {
      "cell_type": "code",
      "source": [
        "#Verificamos que se realizaron los cambios\n",
        "\n",
        "df_google.year.unique()"
      ],
      "metadata": {
        "colab": {
          "base_uri": "https://localhost:8080/"
        },
        "id": "AMfvY55eS-jq",
        "outputId": "4ae5db31-e99b-4a3f-d352-6906b8295858"
      },
      "execution_count": 23,
      "outputs": [
        {
          "output_type": "execute_result",
          "data": {
            "text/plain": [
              "array([2016, 2017, 2021, 2020, 2019, 2018])"
            ]
          },
          "metadata": {},
          "execution_count": 23
        }
      ]
    },
    {
      "cell_type": "code",
      "source": [
        "df_google.head(3)"
      ],
      "metadata": {
        "colab": {
          "base_uri": "https://localhost:8080/",
          "height": 476
        },
        "id": "CBVNb_DdUi7q",
        "outputId": "55f41831-6b5a-4707-eb2f-7366754d5be1"
      },
      "execution_count": 24,
      "outputs": [
        {
          "output_type": "execute_result",
          "data": {
            "text/plain": [
              "                  user_id                                               text  \\\n",
              "4   107373453968933712290  Used to get lunch here nearly every day. You w...   \n",
              "9   107373453968933712290  Used to get lunch here nearly every day. You w...   \n",
              "10  114661297312109535369  Today was my first time at Casa Malinche, and ...   \n",
              "\n",
              "           restaurant_name                                            address  \\\n",
              "4   Raffaello Kosher Pizza  Raffaello Kosher Pizza, 37 W 46th St, New York...   \n",
              "9   Raffaello Kosher Pizza  Raffaello Kosher Pizza, 37 W 46th St, New York...   \n",
              "10           Casa Malinche  Casa Malinche, 3078 Coney Island Ave, Brooklyn...   \n",
              "\n",
              "       state      city  postal_code   latitude  longitude  avg_rating_rest  \\\n",
              "4   New York  New York        10036  40.756872 -73.980427              3.4   \n",
              "9   New York  New York        10036  40.756872 -73.980427              3.4   \n",
              "10  New York  Brooklyn        11235  40.581086 -73.960139              4.4   \n",
              "\n",
              "    num_of_reviews_rest  price_numeric                                gmap_id  \\\n",
              "4                     8              0  0x89c258ffaeaba947:0x8355860772a595a9   \n",
              "9                     8              0  0x89c258ffaeaba947:0x8355860772a595a9   \n",
              "10                    7              0  0x89c244427d3e2c19:0xc1dbf7d8e71d7201   \n",
              "\n",
              "         user_name  year  month  day  \n",
              "4   Matt Schaffnit  2016     10   25  \n",
              "9   Matt Schaffnit  2016     10   25  \n",
              "10            Anya  2016      8   19  "
            ],
            "text/html": [
              "\n",
              "  <div id=\"df-59999e86-8ba6-429d-a895-5bb7701b2d3e\" class=\"colab-df-container\">\n",
              "    <div>\n",
              "<style scoped>\n",
              "    .dataframe tbody tr th:only-of-type {\n",
              "        vertical-align: middle;\n",
              "    }\n",
              "\n",
              "    .dataframe tbody tr th {\n",
              "        vertical-align: top;\n",
              "    }\n",
              "\n",
              "    .dataframe thead th {\n",
              "        text-align: right;\n",
              "    }\n",
              "</style>\n",
              "<table border=\"1\" class=\"dataframe\">\n",
              "  <thead>\n",
              "    <tr style=\"text-align: right;\">\n",
              "      <th></th>\n",
              "      <th>user_id</th>\n",
              "      <th>text</th>\n",
              "      <th>restaurant_name</th>\n",
              "      <th>address</th>\n",
              "      <th>state</th>\n",
              "      <th>city</th>\n",
              "      <th>postal_code</th>\n",
              "      <th>latitude</th>\n",
              "      <th>longitude</th>\n",
              "      <th>avg_rating_rest</th>\n",
              "      <th>num_of_reviews_rest</th>\n",
              "      <th>price_numeric</th>\n",
              "      <th>gmap_id</th>\n",
              "      <th>user_name</th>\n",
              "      <th>year</th>\n",
              "      <th>month</th>\n",
              "      <th>day</th>\n",
              "    </tr>\n",
              "  </thead>\n",
              "  <tbody>\n",
              "    <tr>\n",
              "      <th>4</th>\n",
              "      <td>107373453968933712290</td>\n",
              "      <td>Used to get lunch here nearly every day. You w...</td>\n",
              "      <td>Raffaello Kosher Pizza</td>\n",
              "      <td>Raffaello Kosher Pizza, 37 W 46th St, New York...</td>\n",
              "      <td>New York</td>\n",
              "      <td>New York</td>\n",
              "      <td>10036</td>\n",
              "      <td>40.756872</td>\n",
              "      <td>-73.980427</td>\n",
              "      <td>3.4</td>\n",
              "      <td>8</td>\n",
              "      <td>0</td>\n",
              "      <td>0x89c258ffaeaba947:0x8355860772a595a9</td>\n",
              "      <td>Matt Schaffnit</td>\n",
              "      <td>2016</td>\n",
              "      <td>10</td>\n",
              "      <td>25</td>\n",
              "    </tr>\n",
              "    <tr>\n",
              "      <th>9</th>\n",
              "      <td>107373453968933712290</td>\n",
              "      <td>Used to get lunch here nearly every day. You w...</td>\n",
              "      <td>Raffaello Kosher Pizza</td>\n",
              "      <td>Raffaello Kosher Pizza, 37 W 46th St, New York...</td>\n",
              "      <td>New York</td>\n",
              "      <td>New York</td>\n",
              "      <td>10036</td>\n",
              "      <td>40.756872</td>\n",
              "      <td>-73.980427</td>\n",
              "      <td>3.4</td>\n",
              "      <td>8</td>\n",
              "      <td>0</td>\n",
              "      <td>0x89c258ffaeaba947:0x8355860772a595a9</td>\n",
              "      <td>Matt Schaffnit</td>\n",
              "      <td>2016</td>\n",
              "      <td>10</td>\n",
              "      <td>25</td>\n",
              "    </tr>\n",
              "    <tr>\n",
              "      <th>10</th>\n",
              "      <td>114661297312109535369</td>\n",
              "      <td>Today was my first time at Casa Malinche, and ...</td>\n",
              "      <td>Casa Malinche</td>\n",
              "      <td>Casa Malinche, 3078 Coney Island Ave, Brooklyn...</td>\n",
              "      <td>New York</td>\n",
              "      <td>Brooklyn</td>\n",
              "      <td>11235</td>\n",
              "      <td>40.581086</td>\n",
              "      <td>-73.960139</td>\n",
              "      <td>4.4</td>\n",
              "      <td>7</td>\n",
              "      <td>0</td>\n",
              "      <td>0x89c244427d3e2c19:0xc1dbf7d8e71d7201</td>\n",
              "      <td>Anya</td>\n",
              "      <td>2016</td>\n",
              "      <td>8</td>\n",
              "      <td>19</td>\n",
              "    </tr>\n",
              "  </tbody>\n",
              "</table>\n",
              "</div>\n",
              "    <div class=\"colab-df-buttons\">\n",
              "\n",
              "  <div class=\"colab-df-container\">\n",
              "    <button class=\"colab-df-convert\" onclick=\"convertToInteractive('df-59999e86-8ba6-429d-a895-5bb7701b2d3e')\"\n",
              "            title=\"Convert this dataframe to an interactive table.\"\n",
              "            style=\"display:none;\">\n",
              "\n",
              "  <svg xmlns=\"http://www.w3.org/2000/svg\" height=\"24px\" viewBox=\"0 -960 960 960\">\n",
              "    <path d=\"M120-120v-720h720v720H120Zm60-500h600v-160H180v160Zm220 220h160v-160H400v160Zm0 220h160v-160H400v160ZM180-400h160v-160H180v160Zm440 0h160v-160H620v160ZM180-180h160v-160H180v160Zm440 0h160v-160H620v160Z\"/>\n",
              "  </svg>\n",
              "    </button>\n",
              "\n",
              "  <style>\n",
              "    .colab-df-container {\n",
              "      display:flex;\n",
              "      gap: 12px;\n",
              "    }\n",
              "\n",
              "    .colab-df-convert {\n",
              "      background-color: #E8F0FE;\n",
              "      border: none;\n",
              "      border-radius: 50%;\n",
              "      cursor: pointer;\n",
              "      display: none;\n",
              "      fill: #1967D2;\n",
              "      height: 32px;\n",
              "      padding: 0 0 0 0;\n",
              "      width: 32px;\n",
              "    }\n",
              "\n",
              "    .colab-df-convert:hover {\n",
              "      background-color: #E2EBFA;\n",
              "      box-shadow: 0px 1px 2px rgba(60, 64, 67, 0.3), 0px 1px 3px 1px rgba(60, 64, 67, 0.15);\n",
              "      fill: #174EA6;\n",
              "    }\n",
              "\n",
              "    .colab-df-buttons div {\n",
              "      margin-bottom: 4px;\n",
              "    }\n",
              "\n",
              "    [theme=dark] .colab-df-convert {\n",
              "      background-color: #3B4455;\n",
              "      fill: #D2E3FC;\n",
              "    }\n",
              "\n",
              "    [theme=dark] .colab-df-convert:hover {\n",
              "      background-color: #434B5C;\n",
              "      box-shadow: 0px 1px 3px 1px rgba(0, 0, 0, 0.15);\n",
              "      filter: drop-shadow(0px 1px 2px rgba(0, 0, 0, 0.3));\n",
              "      fill: #FFFFFF;\n",
              "    }\n",
              "  </style>\n",
              "\n",
              "    <script>\n",
              "      const buttonEl =\n",
              "        document.querySelector('#df-59999e86-8ba6-429d-a895-5bb7701b2d3e button.colab-df-convert');\n",
              "      buttonEl.style.display =\n",
              "        google.colab.kernel.accessAllowed ? 'block' : 'none';\n",
              "\n",
              "      async function convertToInteractive(key) {\n",
              "        const element = document.querySelector('#df-59999e86-8ba6-429d-a895-5bb7701b2d3e');\n",
              "        const dataTable =\n",
              "          await google.colab.kernel.invokeFunction('convertToInteractive',\n",
              "                                                    [key], {});\n",
              "        if (!dataTable) return;\n",
              "\n",
              "        const docLinkHtml = 'Like what you see? Visit the ' +\n",
              "          '<a target=\"_blank\" href=https://colab.research.google.com/notebooks/data_table.ipynb>data table notebook</a>'\n",
              "          + ' to learn more about interactive tables.';\n",
              "        element.innerHTML = '';\n",
              "        dataTable['output_type'] = 'display_data';\n",
              "        await google.colab.output.renderOutput(dataTable, element);\n",
              "        const docLink = document.createElement('div');\n",
              "        docLink.innerHTML = docLinkHtml;\n",
              "        element.appendChild(docLink);\n",
              "      }\n",
              "    </script>\n",
              "  </div>\n",
              "\n",
              "\n",
              "<div id=\"df-63a1640e-669f-4422-90b8-92ce5754c60d\">\n",
              "  <button class=\"colab-df-quickchart\" onclick=\"quickchart('df-63a1640e-669f-4422-90b8-92ce5754c60d')\"\n",
              "            title=\"Suggest charts\"\n",
              "            style=\"display:none;\">\n",
              "\n",
              "<svg xmlns=\"http://www.w3.org/2000/svg\" height=\"24px\"viewBox=\"0 0 24 24\"\n",
              "     width=\"24px\">\n",
              "    <g>\n",
              "        <path d=\"M19 3H5c-1.1 0-2 .9-2 2v14c0 1.1.9 2 2 2h14c1.1 0 2-.9 2-2V5c0-1.1-.9-2-2-2zM9 17H7v-7h2v7zm4 0h-2V7h2v10zm4 0h-2v-4h2v4z\"/>\n",
              "    </g>\n",
              "</svg>\n",
              "  </button>\n",
              "\n",
              "<style>\n",
              "  .colab-df-quickchart {\n",
              "      --bg-color: #E8F0FE;\n",
              "      --fill-color: #1967D2;\n",
              "      --hover-bg-color: #E2EBFA;\n",
              "      --hover-fill-color: #174EA6;\n",
              "      --disabled-fill-color: #AAA;\n",
              "      --disabled-bg-color: #DDD;\n",
              "  }\n",
              "\n",
              "  [theme=dark] .colab-df-quickchart {\n",
              "      --bg-color: #3B4455;\n",
              "      --fill-color: #D2E3FC;\n",
              "      --hover-bg-color: #434B5C;\n",
              "      --hover-fill-color: #FFFFFF;\n",
              "      --disabled-bg-color: #3B4455;\n",
              "      --disabled-fill-color: #666;\n",
              "  }\n",
              "\n",
              "  .colab-df-quickchart {\n",
              "    background-color: var(--bg-color);\n",
              "    border: none;\n",
              "    border-radius: 50%;\n",
              "    cursor: pointer;\n",
              "    display: none;\n",
              "    fill: var(--fill-color);\n",
              "    height: 32px;\n",
              "    padding: 0;\n",
              "    width: 32px;\n",
              "  }\n",
              "\n",
              "  .colab-df-quickchart:hover {\n",
              "    background-color: var(--hover-bg-color);\n",
              "    box-shadow: 0 1px 2px rgba(60, 64, 67, 0.3), 0 1px 3px 1px rgba(60, 64, 67, 0.15);\n",
              "    fill: var(--button-hover-fill-color);\n",
              "  }\n",
              "\n",
              "  .colab-df-quickchart-complete:disabled,\n",
              "  .colab-df-quickchart-complete:disabled:hover {\n",
              "    background-color: var(--disabled-bg-color);\n",
              "    fill: var(--disabled-fill-color);\n",
              "    box-shadow: none;\n",
              "  }\n",
              "\n",
              "  .colab-df-spinner {\n",
              "    border: 2px solid var(--fill-color);\n",
              "    border-color: transparent;\n",
              "    border-bottom-color: var(--fill-color);\n",
              "    animation:\n",
              "      spin 1s steps(1) infinite;\n",
              "  }\n",
              "\n",
              "  @keyframes spin {\n",
              "    0% {\n",
              "      border-color: transparent;\n",
              "      border-bottom-color: var(--fill-color);\n",
              "      border-left-color: var(--fill-color);\n",
              "    }\n",
              "    20% {\n",
              "      border-color: transparent;\n",
              "      border-left-color: var(--fill-color);\n",
              "      border-top-color: var(--fill-color);\n",
              "    }\n",
              "    30% {\n",
              "      border-color: transparent;\n",
              "      border-left-color: var(--fill-color);\n",
              "      border-top-color: var(--fill-color);\n",
              "      border-right-color: var(--fill-color);\n",
              "    }\n",
              "    40% {\n",
              "      border-color: transparent;\n",
              "      border-right-color: var(--fill-color);\n",
              "      border-top-color: var(--fill-color);\n",
              "    }\n",
              "    60% {\n",
              "      border-color: transparent;\n",
              "      border-right-color: var(--fill-color);\n",
              "    }\n",
              "    80% {\n",
              "      border-color: transparent;\n",
              "      border-right-color: var(--fill-color);\n",
              "      border-bottom-color: var(--fill-color);\n",
              "    }\n",
              "    90% {\n",
              "      border-color: transparent;\n",
              "      border-bottom-color: var(--fill-color);\n",
              "    }\n",
              "  }\n",
              "</style>\n",
              "\n",
              "  <script>\n",
              "    async function quickchart(key) {\n",
              "      const quickchartButtonEl =\n",
              "        document.querySelector('#' + key + ' button');\n",
              "      quickchartButtonEl.disabled = true;  // To prevent multiple clicks.\n",
              "      quickchartButtonEl.classList.add('colab-df-spinner');\n",
              "      try {\n",
              "        const charts = await google.colab.kernel.invokeFunction(\n",
              "            'suggestCharts', [key], {});\n",
              "      } catch (error) {\n",
              "        console.error('Error during call to suggestCharts:', error);\n",
              "      }\n",
              "      quickchartButtonEl.classList.remove('colab-df-spinner');\n",
              "      quickchartButtonEl.classList.add('colab-df-quickchart-complete');\n",
              "    }\n",
              "    (() => {\n",
              "      let quickchartButtonEl =\n",
              "        document.querySelector('#df-63a1640e-669f-4422-90b8-92ce5754c60d button');\n",
              "      quickchartButtonEl.style.display =\n",
              "        google.colab.kernel.accessAllowed ? 'block' : 'none';\n",
              "    })();\n",
              "  </script>\n",
              "</div>\n",
              "\n",
              "    </div>\n",
              "  </div>\n"
            ]
          },
          "metadata": {},
          "execution_count": 24
        }
      ]
    },
    {
      "cell_type": "markdown",
      "source": [
        "### Cantidad de reviews mensuales por año <br>\n",
        "Visualizamos la cantidad de reviews registradas por cada mes, por cada año."
      ],
      "metadata": {
        "id": "_W001ri_T87q"
      }
    },
    {
      "cell_type": "code",
      "source": [
        "\n",
        "functions.reviews_mensuales(df_google)"
      ],
      "metadata": {
        "colab": {
          "base_uri": "https://localhost:8080/",
          "height": 747
        },
        "id": "9jSkZgg-Tqlf",
        "outputId": "1533780c-4151-4c19-f056-2f06ddec3502"
      },
      "execution_count": 28,
      "outputs": [
        {
          "output_type": "display_data",
          "data": {
            "text/plain": [
              "<Figure size 1400x800 with 6 Axes>"
            ],
            "image/png": "[encoded data removed]"
          },
          "metadata": {}
        }
      ]
    },
    {
      "cell_type": "markdown",
      "source": [
        "En los gráficos no se observan patrones generales, pero si se puede observar una considerable disminución de registros desde febrero de 2020, esto debido a las restricciones impuestas por la cuarentena debido a la pandemia de COVID-19"
      ],
      "metadata": {
        "id": "SnXRXkKSWtFh"
      }
    },
    {
      "cell_type": "markdown",
      "source": [
        "### Cantidad de reviews por cada mes <br>\n",
        "En este apartado analizamos las cantidad de reviews registradas por cada mes."
      ],
      "metadata": {
        "id": "EdDnUqp8YUY8"
      }
    },
    {
      "cell_type": "code",
      "source": [
        "functions.cantidad_de_reviews_por_mes(df_google)"
      ],
      "metadata": {
        "colab": {
          "base_uri": "https://localhost:8080/",
          "height": 445
        },
        "id": "R-aDNWnSUXnf",
        "outputId": "f3219812-1525-4f21-d649-f4c884439825"
      },
      "execution_count": 29,
      "outputs": [
        {
          "output_type": "stream",
          "name": "stdout",
          "text": [
            "El mes con menor cantidad de reviews tiene 1640096 reviews\n",
            "El mes con mayor cantidad de reviews tiene 2069626 reviews\n"
          ]
        },
        {
          "output_type": "display_data",
          "data": {
            "text/plain": [
              "<Figure size 600x400 with 1 Axes>"
            ],
            "image/png": "[encoded data removed]"
          },
          "metadata": {}
        }
      ]
    },
    {
      "cell_type": "markdown",
      "source": [
        "### Cantidad de restaurantes por estado <br>\n",
        "En este apartado analizamos la cantidad de restaurantes en cada estado y el porcentaje que representan.\n"
      ],
      "metadata": {
        "id": "AMpUNZL8ExHE"
      }
    },
    {
      "cell_type": "code",
      "source": [
        "functions.restaurants_por_estado(df_google)"
      ],
      "metadata": {
        "colab": {
          "base_uri": "https://localhost:8080/",
          "height": 406
        },
        "id": "1LsESRv8hSEL",
        "outputId": "710878a3-7620-43b8-e50a-0ec6c2b11d7b"
      },
      "execution_count": 30,
      "outputs": [
        {
          "output_type": "display_data",
          "data": {
            "text/plain": [
              "<Figure size 640x480 with 1 Axes>"
            ],
            "image/png": "[encoded data removed]"
          },
          "metadata": {}
        }
      ]
    },
    {
      "cell_type": "markdown",
      "source": [
        "### Promedio de rating por estado <br>\n",
        "En este apartado analizamos el promedio de rating de todos los restaurantes registrados en cada estado."
      ],
      "metadata": {
        "id": "oBjeQVdcN-t4"
      }
    },
    {
      "cell_type": "code",
      "source": [
        "functions.promedio_rating_reviews(df_google)"
      ],
      "metadata": {
        "colab": {
          "base_uri": "https://localhost:8080/",
          "height": 206
        },
        "id": "i98QpYfy_l-j",
        "outputId": "7f0f044a-1306-49c6-fccc-f93c62ab1e9b"
      },
      "execution_count": 37,
      "outputs": [
        {
          "output_type": "execute_result",
          "data": {
            "text/plain": [
              "          state  avg_rating_rest\n",
              "0    California         3.785004\n",
              "1       Florida         3.673269\n",
              "2      New York         3.696341\n",
              "3  Pennsylvania         3.703496\n",
              "4         Texas         3.627423"
            ],
            "text/html": [
              "\n",
              "  <div id=\"df-bb2d9595-fdd1-479a-9cf0-27a83ef39928\" class=\"colab-df-container\">\n",
              "    <div>\n",
              "<style scoped>\n",
              "    .dataframe tbody tr th:only-of-type {\n",
              "        vertical-align: middle;\n",
              "    }\n",
              "\n",
              "    .dataframe tbody tr th {\n",
              "        vertical-align: top;\n",
              "    }\n",
              "\n",
              "    .dataframe thead th {\n",
              "        text-align: right;\n",
              "    }\n",
              "</style>\n",
              "<table border=\"1\" class=\"dataframe\">\n",
              "  <thead>\n",
              "    <tr style=\"text-align: right;\">\n",
              "      <th></th>\n",
              "      <th>state</th>\n",
              "      <th>avg_rating_rest</th>\n",
              "    </tr>\n",
              "  </thead>\n",
              "  <tbody>\n",
              "    <tr>\n",
              "      <th>0</th>\n",
              "      <td>California</td>\n",
              "      <td>3.785004</td>\n",
              "    </tr>\n",
              "    <tr>\n",
              "      <th>1</th>\n",
              "      <td>Florida</td>\n",
              "      <td>3.673269</td>\n",
              "    </tr>\n",
              "    <tr>\n",
              "      <th>2</th>\n",
              "      <td>New York</td>\n",
              "      <td>3.696341</td>\n",
              "    </tr>\n",
              "    <tr>\n",
              "      <th>3</th>\n",
              "      <td>Pennsylvania</td>\n",
              "      <td>3.703496</td>\n",
              "    </tr>\n",
              "    <tr>\n",
              "      <th>4</th>\n",
              "      <td>Texas</td>\n",
              "      <td>3.627423</td>\n",
              "    </tr>\n",
              "  </tbody>\n",
              "</table>\n",
              "</div>\n",
              "    <div class=\"colab-df-buttons\">\n",
              "\n",
              "  <div class=\"colab-df-container\">\n",
              "    <button class=\"colab-df-convert\" onclick=\"convertToInteractive('df-bb2d9595-fdd1-479a-9cf0-27a83ef39928')\"\n",
              "            title=\"Convert this dataframe to an interactive table.\"\n",
              "            style=\"display:none;\">\n",
              "\n",
              "  <svg xmlns=\"http://www.w3.org/2000/svg\" height=\"24px\" viewBox=\"0 -960 960 960\">\n",
              "    <path d=\"M120-120v-720h720v720H120Zm60-500h600v-160H180v160Zm220 220h160v-160H400v160Zm0 220h160v-160H400v160ZM180-400h160v-160H180v160Zm440 0h160v-160H620v160ZM180-180h160v-160H180v160Zm440 0h160v-160H620v160Z\"/>\n",
              "  </svg>\n",
              "    </button>\n",
              "\n",
              "  <style>\n",
              "    .colab-df-container {\n",
              "      display:flex;\n",
              "      gap: 12px;\n",
              "    }\n",
              "\n",
              "    .colab-df-convert {\n",
              "      background-color: #E8F0FE;\n",
              "      border: none;\n",
              "      border-radius: 50%;\n",
              "      cursor: pointer;\n",
              "      display: none;\n",
              "      fill: #1967D2;\n",
              "      height: 32px;\n",
              "      padding: 0 0 0 0;\n",
              "      width: 32px;\n",
              "    }\n",
              "\n",
              "    .colab-df-convert:hover {\n",
              "      background-color: #E2EBFA;\n",
              "      box-shadow: 0px 1px 2px rgba(60, 64, 67, 0.3), 0px 1px 3px 1px rgba(60, 64, 67, 0.15);\n",
              "      fill: #174EA6;\n",
              "    }\n",
              "\n",
              "    .colab-df-buttons div {\n",
              "      margin-bottom: 4px;\n",
              "    }\n",
              "\n",
              "    [theme=dark] .colab-df-convert {\n",
              "      background-color: #3B4455;\n",
              "      fill: #D2E3FC;\n",
              "    }\n",
              "\n",
              "    [theme=dark] .colab-df-convert:hover {\n",
              "      background-color: #434B5C;\n",
              "      box-shadow: 0px 1px 3px 1px rgba(0, 0, 0, 0.15);\n",
              "      filter: drop-shadow(0px 1px 2px rgba(0, 0, 0, 0.3));\n",
              "      fill: #FFFFFF;\n",
              "    }\n",
              "  </style>\n",
              "\n",
              "    <script>\n",
              "      const buttonEl =\n",
              "        document.querySelector('#df-bb2d9595-fdd1-479a-9cf0-27a83ef39928 button.colab-df-convert');\n",
              "      buttonEl.style.display =\n",
              "        google.colab.kernel.accessAllowed ? 'block' : 'none';\n",
              "\n",
              "      async function convertToInteractive(key) {\n",
              "        const element = document.querySelector('#df-bb2d9595-fdd1-479a-9cf0-27a83ef39928');\n",
              "        const dataTable =\n",
              "          await google.colab.kernel.invokeFunction('convertToInteractive',\n",
              "                                                    [key], {});\n",
              "        if (!dataTable) return;\n",
              "\n",
              "        const docLinkHtml = 'Like what you see? Visit the ' +\n",
              "          '<a target=\"_blank\" href=https://colab.research.google.com/notebooks/data_table.ipynb>data table notebook</a>'\n",
              "          + ' to learn more about interactive tables.';\n",
              "        element.innerHTML = '';\n",
              "        dataTable['output_type'] = 'display_data';\n",
              "        await google.colab.output.renderOutput(dataTable, element);\n",
              "        const docLink = document.createElement('div');\n",
              "        docLink.innerHTML = docLinkHtml;\n",
              "        element.appendChild(docLink);\n",
              "      }\n",
              "    </script>\n",
              "  </div>\n",
              "\n",
              "\n",
              "<div id=\"df-5c0af9cf-b12b-49fd-9e17-9612b8f471f9\">\n",
              "  <button class=\"colab-df-quickchart\" onclick=\"quickchart('df-5c0af9cf-b12b-49fd-9e17-9612b8f471f9')\"\n",
              "            title=\"Suggest charts\"\n",
              "            style=\"display:none;\">\n",
              "\n",
              "<svg xmlns=\"http://www.w3.org/2000/svg\" height=\"24px\"viewBox=\"0 0 24 24\"\n",
              "     width=\"24px\">\n",
              "    <g>\n",
              "        <path d=\"M19 3H5c-1.1 0-2 .9-2 2v14c0 1.1.9 2 2 2h14c1.1 0 2-.9 2-2V5c0-1.1-.9-2-2-2zM9 17H7v-7h2v7zm4 0h-2V7h2v10zm4 0h-2v-4h2v4z\"/>\n",
              "    </g>\n",
              "</svg>\n",
              "  </button>\n",
              "\n",
              "<style>\n",
              "  .colab-df-quickchart {\n",
              "      --bg-color: #E8F0FE;\n",
              "      --fill-color: #1967D2;\n",
              "      --hover-bg-color: #E2EBFA;\n",
              "      --hover-fill-color: #174EA6;\n",
              "      --disabled-fill-color: #AAA;\n",
              "      --disabled-bg-color: #DDD;\n",
              "  }\n",
              "\n",
              "  [theme=dark] .colab-df-quickchart {\n",
              "      --bg-color: #3B4455;\n",
              "      --fill-color: #D2E3FC;\n",
              "      --hover-bg-color: #434B5C;\n",
              "      --hover-fill-color: #FFFFFF;\n",
              "      --disabled-bg-color: #3B4455;\n",
              "      --disabled-fill-color: #666;\n",
              "  }\n",
              "\n",
              "  .colab-df-quickchart {\n",
              "    background-color: var(--bg-color);\n",
              "    border: none;\n",
              "    border-radius: 50%;\n",
              "    cursor: pointer;\n",
              "    display: none;\n",
              "    fill: var(--fill-color);\n",
              "    height: 32px;\n",
              "    padding: 0;\n",
              "    width: 32px;\n",
              "  }\n",
              "\n",
              "  .colab-df-quickchart:hover {\n",
              "    background-color: var(--hover-bg-color);\n",
              "    box-shadow: 0 1px 2px rgba(60, 64, 67, 0.3), 0 1px 3px 1px rgba(60, 64, 67, 0.15);\n",
              "    fill: var(--button-hover-fill-color);\n",
              "  }\n",
              "\n",
              "  .colab-df-quickchart-complete:disabled,\n",
              "  .colab-df-quickchart-complete:disabled:hover {\n",
              "    background-color: var(--disabled-bg-color);\n",
              "    fill: var(--disabled-fill-color);\n",
              "    box-shadow: none;\n",
              "  }\n",
              "\n",
              "  .colab-df-spinner {\n",
              "    border: 2px solid var(--fill-color);\n",
              "    border-color: transparent;\n",
              "    border-bottom-color: var(--fill-color);\n",
              "    animation:\n",
              "      spin 1s steps(1) infinite;\n",
              "  }\n",
              "\n",
              "  @keyframes spin {\n",
              "    0% {\n",
              "      border-color: transparent;\n",
              "      border-bottom-color: var(--fill-color);\n",
              "      border-left-color: var(--fill-color);\n",
              "    }\n",
              "    20% {\n",
              "      border-color: transparent;\n",
              "      border-left-color: var(--fill-color);\n",
              "      border-top-color: var(--fill-color);\n",
              "    }\n",
              "    30% {\n",
              "      border-color: transparent;\n",
              "      border-left-color: var(--fill-color);\n",
              "      border-top-color: var(--fill-color);\n",
              "      border-right-color: var(--fill-color);\n",
              "    }\n",
              "    40% {\n",
              "      border-color: transparent;\n",
              "      border-right-color: var(--fill-color);\n",
              "      border-top-color: var(--fill-color);\n",
              "    }\n",
              "    60% {\n",
              "      border-color: transparent;\n",
              "      border-right-color: var(--fill-color);\n",
              "    }\n",
              "    80% {\n",
              "      border-color: transparent;\n",
              "      border-right-color: var(--fill-color);\n",
              "      border-bottom-color: var(--fill-color);\n",
              "    }\n",
              "    90% {\n",
              "      border-color: transparent;\n",
              "      border-bottom-color: var(--fill-color);\n",
              "    }\n",
              "  }\n",
              "</style>\n",
              "\n",
              "  <script>\n",
              "    async function quickchart(key) {\n",
              "      const quickchartButtonEl =\n",
              "        document.querySelector('#' + key + ' button');\n",
              "      quickchartButtonEl.disabled = true;  // To prevent multiple clicks.\n",
              "      quickchartButtonEl.classList.add('colab-df-spinner');\n",
              "      try {\n",
              "        const charts = await google.colab.kernel.invokeFunction(\n",
              "            'suggestCharts', [key], {});\n",
              "      } catch (error) {\n",
              "        console.error('Error during call to suggestCharts:', error);\n",
              "      }\n",
              "      quickchartButtonEl.classList.remove('colab-df-spinner');\n",
              "      quickchartButtonEl.classList.add('colab-df-quickchart-complete');\n",
              "    }\n",
              "    (() => {\n",
              "      let quickchartButtonEl =\n",
              "        document.querySelector('#df-5c0af9cf-b12b-49fd-9e17-9612b8f471f9 button');\n",
              "      quickchartButtonEl.style.display =\n",
              "        google.colab.kernel.accessAllowed ? 'block' : 'none';\n",
              "    })();\n",
              "  </script>\n",
              "</div>\n",
              "\n",
              "    </div>\n",
              "  </div>\n"
            ]
          },
          "metadata": {},
          "execution_count": 37
        }
      ]
    }
  ],
  "metadata": {
    "kernelspec": {
      "display_name": "Python 3",
      "language": "python",
      "name": "python3"
    },
    "language_info": {
      "codemirror_mode": {
        "name": "ipython",
        "version": 3
      },
      "file_extension": ".py",
      "mimetype": "text/x-python",
      "name": "python",
      "nbconvert_exporter": "python",
      "pygments_lexer": "ipython3",
      "version": "3.11.4"
    },
    "colab": {
      "provenance": [],
      "include_colab_link": true
    }
  },
  "nbformat": 4,
  "nbformat_minor": 0
}